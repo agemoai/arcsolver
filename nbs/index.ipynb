{
 "cells": [
  {
   "cell_type": "markdown",
   "metadata": {},
   "source": [
    "# arcsolver\n",
    "\n",
    "> A Python library for automatically solving ARC challenges using Claude and object-centric modeling."
   ]
  },
  {
   "cell_type": "markdown",
   "metadata": {},
   "source": [
    "This library contains tools for visualizing, analyzing and solving tasks from the Abstraction and Reasoning Corpus (ARC) challenge dataset.\n",
    "\n",
    "Interaction with Claude "
   ]
  },
  {
   "cell_type": "markdown",
   "metadata": {},
   "source": [
    "## Installation"
   ]
  },
  {
   "cell_type": "markdown",
   "metadata": {},
   "source": [
    "Install latest from the GitHub [repository][repo]:\n",
    "\n",
    "```sh\n",
    "$ pip install git+https://github.com/agemoai/arcsolver.git\n",
    "```\n",
    "\n",
    "or from [pypi][pypi]\n",
    "\n",
    "\n",
    "```sh\n",
    "$ pip install arcsolver\n",
    "```\n",
    "\n",
    "\n",
    "[repo]: https://github.com/agemoai/arcsolver\n",
    "[docs]: https://agemoai.github.io/arcsolver/\n",
    "[pypi]: https://pypi.org/project/arcsolver/"
   ]
  },
  {
   "cell_type": "markdown",
   "metadata": {},
   "source": [
    "## Key Features"
   ]
  },
  {
   "cell_type": "markdown",
   "metadata": {},
   "source": [
    "- **Task Management:** Load and visualize ARC tasks with the `ArcTask` class\n",
    "- **Object-Centric Modelling:** A set of primitive classes for representing grid objects and transformations\n",
    "- **LLM Integration:** Designed to use Claude Sonnet 3.5 for automated task analysis and solution generation\n",
    "- **Extensible Architecture:** Easy to add new primitives and helper functions to enhance solving capabilities"
   ]
  },
  {
   "cell_type": "markdown",
   "metadata": {},
   "source": [
    "## Quick Start"
   ]
  },
  {
   "cell_type": "markdown",
   "metadata": {},
   "source": [
    "### Task Representation\n",
    "\n",
    "The `task` module provides classes for working with ARC tasks"
   ]
  },
  {
   "cell_type": "code",
   "execution_count": null,
   "metadata": {},
   "outputs": [
    {
     "data": {
      "image/png": "[encoded data removed]",
      "text/plain": [
       "<Figure size 800x1200 with 6 Axes>"
      ]
     },
     "metadata": {},
     "output_type": "display_data"
    }
   ],
   "source": [
    "from arcsolver.task import ArcGrid, ArcPair, ArcTask\n",
    "\n",
    "task = ArcTask('1e0a9b12'); task.plot()"
   ]
  },
  {
   "cell_type": "markdown",
   "metadata": {},
   "source": [
    "An `ArcTask` comprises a list of input-output example `ArcPair`s, each of which holds two `ArcGrid`s. Each class has convenient `plot` methods for visualization or directly outputting to base64-encoded strings that can be passed to Claude"
   ]
  },
  {
   "cell_type": "code",
   "execution_count": null,
   "metadata": {},
   "outputs": [
    {
     "name": "stdout",
     "output_type": "stream",
     "text": [
      "Input grid 1 plot: b'\\x89PNG\\r\\n\\x1a\\n\\x00\\x00\\x00\\rIHDR\\x00\\x00\\x01H'...\n"
     ]
    }
   ],
   "source": [
    "print(f\"Input grid 1 plot: {task.train[0].input.plot(to_base64=True)[:20]}...\")"
   ]
  },
  {
   "cell_type": "markdown",
   "metadata": {},
   "source": [
    "### Object-centric Models\n",
    "\n",
    "The `ocm` module provides a set of primitive classes for constructing object-centric models of ARC grids"
   ]
  },
  {
   "cell_type": "code",
   "execution_count": null,
   "metadata": {},
   "outputs": [
    {
     "data": {
      "image/png": "[encoded data removed]",
      "text/plain": [
       "<Figure size 400x400 with 1 Axes>"
      ]
     },
     "metadata": {},
     "output_type": "display_data"
    }
   ],
   "source": [
    "from arcsolver.ocm import Vector, Rectangle, Line, Grid, Color, Direction\n",
    "\n",
    "grid = Grid(\n",
    "    size=Vector(8,8),\n",
    "    background_color=Color('grey'),\n",
    "    objects=[\n",
    "        Rectangle(position=Vector(1,1), size=Vector(2,2), color=Color('red')),\n",
    "        Line(position=Vector(6,1), direction=Direction.NE, length=6, color=Color('pink'))\n",
    "    ]\n",
    ")\n",
    "ArcGrid(grid.to_array()).plot()"
   ]
  },
  {
   "cell_type": "markdown",
   "metadata": {},
   "source": [
    "### Task Descriptions\n",
    "\n",
    "Use Claude to analyze and describe ARC tasks"
   ]
  },
  {
   "cell_type": "code",
   "execution_count": null,
   "metadata": {},
   "outputs": [],
   "source": [
    "model = 'claude-3-5-sonnet-20241022-v2:0'"
   ]
  },
  {
   "cell_type": "code",
   "execution_count": null,
   "metadata": {},
   "outputs": [
    {
     "data": {
      "text/plain": [
       "'us.anthropic.claude-3-5-sonnet-20241022-v2:0'"
      ]
     },
     "execution_count": null,
     "metadata": {},
     "output_type": "execute_result"
    }
   ],
   "source": [
    "#| hide\n",
    "from claudette import *\n",
    "model = 'us.' + models_aws[1]; model"
   ]
  },
  {
   "cell_type": "code",
   "execution_count": null,
   "metadata": {},
   "outputs": [
    {
     "name": "stdout",
     "output_type": "stream",
     "text": [
      "The input grids contain various colored squares arranged in different patterns against a black background. The transformation applies a \"gravity\" effect where all colored squares fall to the bottom row while maintaining their relative left-to-right ordering. Vertical sequences of the same color in the same column compress into a single square in the bottom row. All rows above the bottom row become black except where vertical sequences of the same color maintain connectivity.\n"
     ]
    }
   ],
   "source": [
    "#| eval: false\n",
    "from arcsolver.describe import DescriptionGenerator\n",
    "\n",
    "describer = DescriptionGenerator(model, client_type='bedrock')\n",
    "d = await describer.describe_task(task, 1); print(d[0].d)"
   ]
  },
  {
   "cell_type": "markdown",
   "metadata": {},
   "source": [
    "### Solution Generation\n",
    "\n",
    "Use Claude to construct a solution to an ARC task, automatically refining its attempts based on execution and prediction error feedback."
   ]
  },
  {
   "cell_type": "code",
   "execution_count": null,
   "metadata": {},
   "outputs": [
    {
     "name": "stdout",
     "output_type": "stream",
     "text": [
      "\n",
      "Solving task: 1e0a9b12\n",
      "Generating descriptions... | Attempts: 0/30 | Best Score: 0.000 | Cost: $0.000\n",
      "Starting solution attempts... | Attempts: 0/30 | Best Score: 0.000 | Cost: $0.142\n",
      "Generating initial solutions... | Attempts: 0/30 | Best Score: 0.000 | Cost: $0.142\n",
      "Testing solutions... | Attempts: 0/30 | Best Score: 0.000 | Cost: $0.231\n",
      "Continuing refinement... | Attempts: 2/30 | Best Score: 0.866 | Cost: $0.231\n",
      "Refining previous solutions... | Attempts: 2/30 | Best Score: 0.866 | Cost: $0.231\n",
      "Testing solutions... | Attempts: 2/30 | Best Score: 0.866 | Cost: $0.332\n",
      "Continuing refinement... | Attempts: 4/30 | Best Score: 0.904 | Cost: $0.332\n",
      "Refining previous solutions... | Attempts: 4/30 | Best Score: 0.904 | Cost: $0.332\n",
      "Testing solutions... | Attempts: 4/30 | Best Score: 0.904 | Cost: $0.424\n",
      "Continuing refinement... | Attempts: 6/30 | Best Score: 0.951 | Cost: $0.424\n",
      "Refining previous solutions... | Attempts: 6/30 | Best Score: 0.951 | Cost: $0.424\n",
      "Testing solutions... | Attempts: 6/30 | Best Score: 0.951 | Cost: $0.528\n",
      "Continuing refinement... | Attempts: 8/30 | Best Score: 0.951 | Cost: $0.528\n",
      "Refining previous solutions... | Attempts: 8/30 | Best Score: 0.951 | Cost: $0.528\n",
      "Testing solutions... | Attempts: 8/30 | Best Score: 0.951 | Cost: $0.633\n",
      "Continuing refinement... | Attempts: 10/30 | Best Score: 0.958 | Cost: $0.633\n",
      "Refining previous solutions... | Attempts: 10/30 | Best Score: 0.958 | Cost: $0.633\n",
      "Testing solutions... | Attempts: 10/30 | Best Score: 0.958 | Cost: $0.732\n",
      "Continuing refinement... | Attempts: 12/30 | Best Score: 0.965 | Cost: $0.732\n",
      "Refining previous solutions... | Attempts: 12/30 | Best Score: 0.965 | Cost: $0.732\n",
      "Testing solutions... | Attempts: 12/30 | Best Score: 0.965 | Cost: $0.835\n",
      "Found potential solution, validating... | Attempts: 12/30 | Best Score: 1.000 | Cost: $0.835\n",
      "Solution found! | Attempts: 14/30 | Best Score: 1.000 | Cost: $0.835\n",
      "Solution found! 🎉 | Attempts: 14/30 | Best Score: 1.000 | Cost: $0.835\n"
     ]
    }
   ],
   "source": [
    "#| eval: false\n",
    "from arcsolver.solve import ArcSolver\n",
    "\n",
    "solver = ArcSolver(model, 'bedrock')\n",
    "solutions = await solver.solve(task, )"
   ]
  },
  {
   "cell_type": "markdown",
   "metadata": {},
   "source": [
    "## Contributing\n",
    "\n",
    "Contributions are welcome! Refined prompts, new OCM primitives, expanded tool-use, alternative retry strategy...\n",
    "\n",
    "Feel free to raise an issue or submit a PR."
   ]
  },
  {
   "cell_type": "markdown",
   "metadata": {},
   "source": [
    "### Learn More\n",
    "\n",
    "To read about the motivation for building this tool, check out our [blog](https://agemo.ai/resources/summer-of-arc-agi) and watch out for future posts"
   ]
  },
  {
   "cell_type": "code",
   "execution_count": null,
   "metadata": {},
   "outputs": [],
   "source": []
  }
 ],
 "metadata": {
  "kernelspec": {
   "display_name": "python3",
   "language": "python",
   "name": "python3"
  }
 },
 "nbformat": 4,
 "nbformat_minor": 4
}
