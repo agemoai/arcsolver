{
 "cells": [
  {
   "cell_type": "code",
   "execution_count": null,
   "metadata": {},
   "outputs": [],
   "source": [
    "#| default_exp score"
   ]
  },
  {
   "cell_type": "markdown",
   "metadata": {},
   "source": [
    "# score\n",
    "\n",
    "> Functions for scoring predicted ARC grids against ground truth output grids"
   ]
  },
  {
   "cell_type": "code",
   "execution_count": null,
   "metadata": {},
   "outputs": [],
   "source": [
    "#| hide\n",
    "from nbdev.showdoc import *"
   ]
  },
  {
   "cell_type": "code",
   "execution_count": null,
   "metadata": {},
   "outputs": [],
   "source": [
    "#| export\n",
    "import numpy as np\n",
    "from arcsolver.task import ArcGrid, ArcPair"
   ]
  },
  {
   "cell_type": "markdown",
   "metadata": {},
   "source": [
    "We need a way of evaluating predicted ARC grids against the true output grids.\n",
    "\n",
    "A simple approach is to calculate the proportion of correct cells."
   ]
  },
  {
   "cell_type": "code",
   "execution_count": null,
   "metadata": {},
   "outputs": [],
   "source": [
    "def score(\n",
    "    truth: ArcGrid,  # True ARC grid\n",
    "    pred: ArcGrid    # Predicted ARC grid\n",
    ") -> float:\n",
    "    \"Score a predicted grid against the true grid\"\n",
    "    if pred == truth: return 1.0\n",
    "\n",
    "    return float(np.mean(pred.data == truth.data))"
   ]
  },
  {
   "cell_type": "code",
   "execution_count": null,
   "metadata": {},
   "outputs": [],
   "source": [
    "pair = ArcPair(input_grid = np.array([[1,2,3],[4,5,6]]),\n",
    "               output_grid = np.array([[3,2,1],[4,5,6]]))"
   ]
  },
  {
   "cell_type": "code",
   "execution_count": null,
   "metadata": {},
   "outputs": [
    {
     "data": {
      "image/png": "[encoded data removed]",
      "text/plain": [
       "<Figure size 800x400 with 2 Axes>"
      ]
     },
     "metadata": {},
     "output_type": "display_data"
    }
   ],
   "source": [
    "pair.plot(titles=['Truth', 'Prediction'])"
   ]
  },
  {
   "cell_type": "code",
   "execution_count": null,
   "metadata": {},
   "outputs": [
    {
     "data": {
      "text/plain": [
       "0.6666666666666666"
      ]
     },
     "execution_count": null,
     "metadata": {},
     "output_type": "execute_result"
    }
   ],
   "source": [
    "score(*pair)"
   ]
  },
  {
   "cell_type": "markdown",
   "metadata": {},
   "source": [
    "\n",
    "Often the predicted grid has the wrong shape. We could simply return 0.0. Instead, let's pad the grids to be equal shape and assign partial credit to correctly predicted cells in the overlapping region"
   ]
  },
  {
   "cell_type": "code",
   "execution_count": null,
   "metadata": {},
   "outputs": [],
   "source": [
    "#| exports\n",
    "def score(\n",
    "    truth: ArcGrid,         # True ARC grid\n",
    "    pred: ArcGrid | None    # Predicted ARC grid\n",
    ") -> float:\n",
    "    \"Score a predicted grid against the true grid\"\n",
    "    if pred is None: return 0.0\n",
    "    if pred == truth: return 1.0\n",
    "    \n",
    "    # Calculate shape penalty\n",
    "    rows_ratio = min(truth.shape[0], pred.shape[0]) / max(truth.shape[0], pred.shape[0])\n",
    "    cols_ratio = min(truth.shape[1], pred.shape[1]) / max(truth.shape[1], pred.shape[1])\n",
    "    shape_penalty = rows_ratio * cols_ratio\n",
    "\n",
    "    # Get overlapping region dimensions\n",
    "    overlap_rows = min(truth.shape[0], pred.shape[0])\n",
    "    overlap_cols = min(truth.shape[1], pred.shape[1])\n",
    "\n",
    "    # Calculate color accuracy in overlapping region\n",
    "    true_overlap = truth.data[:overlap_rows, :overlap_cols]\n",
    "    pred_overlap = pred.data[:overlap_rows, :overlap_cols]\n",
    "    color_accuracy = np.mean(true_overlap == pred_overlap)\n",
    "\n",
    "    return float(shape_penalty * color_accuracy)"
   ]
  },
  {
   "cell_type": "code",
   "execution_count": null,
   "metadata": {},
   "outputs": [
    {
     "data": {
      "text/plain": [
       "0.6666666666666666"
      ]
     },
     "execution_count": null,
     "metadata": {},
     "output_type": "execute_result"
    }
   ],
   "source": [
    "score(*pair)"
   ]
  },
  {
   "cell_type": "code",
   "execution_count": null,
   "metadata": {},
   "outputs": [
    {
     "data": {
      "image/png": "[encoded data removed]",
      "text/plain": [
       "<Figure size 800x400 with 2 Axes>"
      ]
     },
     "metadata": {},
     "output_type": "display_data"
    }
   ],
   "source": [
    "pair = ArcPair(input_grid = np.array([[1,2,3],[4,5,6]]),\n",
    "               output_grid = np.array([[3,2,1],[4,5,6], [7,8,9]]))\n",
    "pair.plot(titles=['Truth', 'Prediction'])"
   ]
  },
  {
   "cell_type": "code",
   "execution_count": null,
   "metadata": {},
   "outputs": [
    {
     "data": {
      "text/plain": [
       "0.4444444444444444"
      ]
     },
     "execution_count": null,
     "metadata": {},
     "output_type": "execute_result"
    }
   ],
   "source": [
    "score(*pair)"
   ]
  },
  {
   "cell_type": "code",
   "execution_count": null,
   "metadata": {},
   "outputs": [
    {
     "data": {
      "image/png": "[encoded data removed]",
      "text/plain": [
       "<Figure size 800x400 with 2 Axes>"
      ]
     },
     "metadata": {},
     "output_type": "display_data"
    }
   ],
   "source": [
    "pair = ArcPair(input_grid = np.array([[1,2,3],[4,5,6],[7,8,9]]),\n",
    "               output_grid = np.array([[3,2,1],[4,5,6]]))\n",
    "pair.plot(titles=['Truth', 'Prediction'])"
   ]
  },
  {
   "cell_type": "code",
   "execution_count": null,
   "metadata": {},
   "outputs": [
    {
     "data": {
      "text/plain": [
       "0.4444444444444444"
      ]
     },
     "execution_count": null,
     "metadata": {},
     "output_type": "execute_result"
    }
   ],
   "source": [
    "score(*pair)"
   ]
  },
  {
   "cell_type": "code",
   "execution_count": null,
   "metadata": {},
   "outputs": [],
   "source": [
    "#| hide\n",
    "import nbdev; nbdev.nbdev_export()"
   ]
  },
  {
   "cell_type": "code",
   "execution_count": null,
   "metadata": {},
   "outputs": [],
   "source": []
  }
 ],
 "metadata": {
  "kernelspec": {
   "display_name": "python3",
   "language": "python",
   "name": "python3"
  }
 },
 "nbformat": 4,
 "nbformat_minor": 4
}
