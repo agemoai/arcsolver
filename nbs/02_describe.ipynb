{
 "cells": [
  {
   "cell_type": "code",
   "execution_count": null,
   "id": "e09fa7f3-7da9-4518-a0a9-4db7431a6493",
   "metadata": {},
   "outputs": [],
   "source": [
    "#| default_exp describe"
   ]
  },
  {
   "attachments": {},
   "cell_type": "markdown",
   "id": "348fea52-a6fb-4ddd-b76a-cde9a70c8bd6",
   "metadata": {},
   "source": [
    "# describe\n",
    "\n",
    "> Use Claude to analyse and describe a given ARC task"
   ]
  },
  {
   "attachments": {},
   "cell_type": "markdown",
   "id": "540945f8-d764-4956-bcd3-92178af8e36f",
   "metadata": {},
   "source": [
    "This module implements two different strategies for getting Claude to generate a description of a given ARC task."
   ]
  },
  {
   "cell_type": "code",
   "execution_count": null,
   "id": "3d6a94ce-fb08-41a8-8fdb-63bafe25efbf",
   "metadata": {},
   "outputs": [],
   "source": [
    "#| hide\n",
    "from nbdev.showdoc import *\n",
    "import random\n",
    "from arcsolver.task import train_tasks\n",
    "import nest_asyncio"
   ]
  },
  {
   "cell_type": "code",
   "execution_count": null,
   "id": "87d5fd9d-b845-450f-9126-9095531011a5",
   "metadata": {},
   "outputs": [],
   "source": [
    "#| hide\n",
    "random.seed(42)\n",
    "nest_asyncio.apply()"
   ]
  },
  {
   "cell_type": "code",
   "execution_count": null,
   "id": "cace4fa2-88b2-4ed2-8814-bf307147c10d",
   "metadata": {},
   "outputs": [],
   "source": [
    "#| export\n",
    "from arcsolver.task import ArcTask, ArcPair\n",
    "from arcsolver.ocm import Color\n",
    "from arcsolver.utils import parse_from_xml\n",
    "from claudette import *\n",
    "from fastcore.utils import *\n",
    "from fastcore.meta import *\n",
    "from anthropic import AsyncAnthropic, AsyncAnthropicBedrock, AsyncAnthropicVertex\n",
    "from anthropic.types import Usage\n",
    "import asyncio\n",
    "import numpy as np\n",
    "from dataclasses import dataclass\n",
    "from typing import List, Dict, Optional\n",
    "from scipy import ndimage"
   ]
  },
  {
   "attachments": {},
   "cell_type": "markdown",
   "id": "fb2082f3-76f4-433a-b188-abf38caab5ac",
   "metadata": {},
   "source": [
    "::: {.content-hidden}\n",
    "\n",
    "There's a bug in claudette so let's temporarily patch it\n",
    "\n",
    ":::"
   ]
  },
  {
   "cell_type": "code",
   "execution_count": null,
   "id": "7f68fa2c-78b4-411b-bcf7-bd542fb558d7",
   "metadata": {},
   "outputs": [],
   "source": [
    "#| export\n",
    "from toolslm.funccall import get_schema"
   ]
  },
  {
   "cell_type": "code",
   "execution_count": null,
   "id": "c0b52964-d51a-4653-aac0-387050c42dc7",
   "metadata": {},
   "outputs": [],
   "source": [
    "#| export\n",
    "#| hide\n",
    "@patch\n",
    "async def __call__(self:AsyncChat,\n",
    "        pr=None,  # Prompt / message\n",
    "        temp=0, # Temperature\n",
    "        maxtok=4096, # Maximum tokens\n",
    "        stream=False, # Stream response?\n",
    "        prefill='', # Optional prefill to pass to Claude as start of its response\n",
    "        **kw):\n",
    "    await self._append_pr(pr)\n",
    "    if self.tools: kw['tools'] = [get_schema(o) for o in self.tools]\n",
    "    res = await self.c(self.h, stream=stream, prefill=prefill, sp=self.sp, temp=temp, maxtok=maxtok, **kw)\n",
    "    if stream: return self._stream(res)\n",
    "    self.h += mk_toolres(self.c.result, ns=self.tools)  #, obj=self)\n",
    "    return res"
   ]
  },
  {
   "attachments": {},
   "cell_type": "markdown",
   "id": "e6008c8d-9c4d-4422-a9e4-8bdd9f350501",
   "metadata": {},
   "source": [
    "::: {.content-hidden}\n",
    "\n",
    "## Strategy 1: Direct descriptions\n",
    "First, let's construct a system prompt that instructs Claude to analyse an image of an ARC task and generate a description.\n",
    "\n",
    ":::"
   ]
  },
  {
   "cell_type": "code",
   "execution_count": null,
   "id": "00597b22-64ba-41b8-98cf-dce8d828485e",
   "metadata": {},
   "outputs": [],
   "source": [
    "#| export\n",
    "sp_direct = \"\"\"\\\n",
    "You are an expert at solving visual IQ puzzles involving transformations between input and output colored grids. \\\n",
    "Your task is to analyze images of puzzles and provide concise, accurate solutions. To solve a given puzzle, follow these steps:\n",
    "\n",
    "1. INITIAL ANALYSIS\n",
    "   a) Analyze the input and output grids carefully\n",
    "   b) Note grid dimensions and any patterns in how they change\n",
    "   c) Identify if there's a consistent background color\n",
    "   d) Check if colors maintain consistent meanings across examples\n",
    "\n",
    "2. ELEMENT IDENTIFICATION\n",
    "   a) List all elements present in both input and output grids, counting them explicitly\n",
    "   b) Note whether elements maintain their properties (color, size, shape) across examples\n",
    "   c) Identify any hierarchical relationships between elements\n",
    "\n",
    "3. TRANSFORMATION ANALYSIS\n",
    "   a) Compare input and output grids side by side\n",
    "   b) Note specific transformations for each element\n",
    "   c) Analyze whether transformations apply:\n",
    "      - Globally to the entire grid\n",
    "      - To individual objects/regions\n",
    "      - To specific color groups\n",
    "      - To relationships between objects\n",
    "\n",
    "4. PATTERN RECOGNITION\n",
    "   a) Check for symmetry properties:\n",
    "      - Rotational invariance\n",
    "      - Mirror symmetry\n",
    "      - Translation invariance\n",
    "      - Scale invariance\n",
    "   b) Look for pattern periodicity or repetition\n",
    "   c) Analyze edge cases; e.g.:\n",
    "      - Grid boundary interactions\n",
    "      - Overlapping objects/patterns\n",
    "\n",
    "5. CORE KNOWLEDGE PRIORS\n",
    "   Bear in mind that this class of puzzles are solvable assuming only basic cognitive principles:\n",
    "   a) Objectness:\n",
    "      - Object cohesion\n",
    "      - Object persistence\n",
    "      - Influence via contact\n",
    "   b) Goal-directedness (start and end states)\n",
    "   c) Numbers and Counting (typically <10)\n",
    "   d) Basic Geometry and Topology:\n",
    "      - Lines, shapes, and basic geometric properties\n",
    "      - Symmetries (rotational, mirror, translational)\n",
    "      - Transformations (rotation, translation, scaling)\n",
    "      - Spatial relationships and connectivity\n",
    "      - Pattern periodicity and repetition\n",
    "   e) Color consistency and meaning\n",
    "   f) Hierarchical relationships\n",
    "\n",
    "6. GRID PROPERTIES ANALYSIS\n",
    "   a) Analyze dimension relationships:\n",
    "      - Whether input/output dimensions are preserved\n",
    "      - What determines output dimensions if different\n",
    "   b) Consider how grid size affects transformation rules\n",
    "   c) Look for patterns in provided dimension metadata\n",
    "\n",
    "7. RULE FORMULATION\n",
    "   a) Develop a general transformation rule\n",
    "   b) Ensure the rule is:\n",
    "      - Abstract and applicable to all examples\n",
    "      - Deterministic (same input always produces same output)\n",
    "      - Algorithmically implementable\n",
    "   c) Consider alternative explanations and rule them out\n",
    "   d) Test rule against edge cases\n",
    "\n",
    "8. VALIDATION\n",
    "   a) Double-check rule against all provided examples\n",
    "   b) Verify rule consistency across different grid sizes\n",
    "   c) Confirm rule handles all identified edge cases\n",
    "   d) Refine rule if necessary\n",
    "\n",
    "Present your thought process in <reasoning> tags. \\\n",
    "This is where you can break down your observations, reasoning, and alternative explanations in detail. \\\n",
    "It's OK for this section to be quite long and to include explicit counting and detailed analysis.\n",
    "\n",
    "After your analysis, provide a concise solution summary in <description> tags. This summary should:\n",
    "- Be no more than 4-5 sentences long\n",
    "- Clearly describe first (in generality) the properties/objects in the input grids\n",
    "- Then describe properties of the output grids and how an output grid is constructed from its input grid\n",
    "- Avoid instance-specific descriptions or if-else statements\n",
    "- Capture all key aspects of the transformation\n",
    "- Use precise, unambiguous language\n",
    "\n",
    "Your goal is to provide a clear, concise, and accurate description that captures the essence of the puzzle's \\\n",
    "transformation rule while being general enough to work across all examples. Remember to close xml tags.\n",
    "\"\"\""
   ]
  },
  {
   "cell_type": "code",
   "execution_count": null,
   "id": "acc346da-ea9f-469f-ad9c-00aff34d8779",
   "metadata": {},
   "outputs": [
    {
     "name": "stdout",
     "output_type": "stream",
     "text": [
      "Task: ae3edfdc\n",
      "\n"
     ]
    },
    {
     "data": {
      "image/png": "[encoded data removed]",
      "text/plain": [
       "<Figure size 800x1200 with 6 Axes>"
      ]
     },
     "metadata": {},
     "output_type": "display_data"
    }
   ],
   "source": [
    "#| hide\n",
    "t = random.choice(train_tasks)\n",
    "task = ArcTask(t)\n",
    "print(f\"Task: {t}\\n\")\n",
    "task.plot()"
   ]
  },
  {
   "attachments": {},
   "cell_type": "markdown",
   "id": "5d7237c9-9f68-4f23-9789-5b47bfbe43d9",
   "metadata": {},
   "source": [
    "::: {.content-hidden}\n",
    "\n",
    "Claude often doesn't correctly recognise the dimensions of the grids, so let's pass this as a table in the user prompt\n",
    "\n",
    ":::\n"
   ]
  },
  {
   "cell_type": "code",
   "execution_count": null,
   "id": "76032044-ac81-4ad9-9fd6-73bb5932f430",
   "metadata": {},
   "outputs": [],
   "source": [
    "#| export\n",
    "def _shape_table(pairs: List[ArcPair]  # List of training example pairs\n",
    "                ) -> str:              # string containing a table of grid shapes\n",
    "    header = \"| Input Shape | Output Shape |\\n|------------|-------------|\\n\"\n",
    "    rows = \"\\n\".join(f\"| {str(i.shape):<10} | {str(o.shape):<11} |\" for i, o in pairs)\n",
    "    return header + rows"
   ]
  },
  {
   "cell_type": "code",
   "execution_count": null,
   "id": "01769169-c0da-46f6-98ca-6d8932de5e04",
   "metadata": {},
   "outputs": [
    {
     "name": "stdout",
     "output_type": "stream",
     "text": [
      "| Input Shape | Output Shape |\n",
      "|------------|-------------|\n",
      "| (15, 15)   | (15, 15)    |\n",
      "| (15, 15)   | (15, 15)    |\n",
      "| (15, 15)   | (15, 15)    |\n"
     ]
    }
   ],
   "source": [
    "#| hide\n",
    "print(_shape_table(task.train))"
   ]
  },
  {
   "cell_type": "code",
   "execution_count": null,
   "id": "25edd7cc-0f63-4540-89fe-1dc8ffdb7604",
   "metadata": {},
   "outputs": [
    {
     "name": "stdout",
     "output_type": "stream",
     "text": [
      "<reasoning>\n",
      "Let me analyze the patterns across all examples:\n",
      "\n",
      "1. Grid Properties:\n",
      "- All grids maintain 15x15 dimensions\n",
      "- Black serves as background color\n",
      "- Colored pixels (blue, red, green, orange) are scattered across grid\n",
      "\n",
      "2. Color Analysis:\n",
      "- Each example contains same set of colors\n",
      "- Colors maintain their identity in transformation\n",
      "- Appears to be grouping/clustering of same-colored pixels\n",
      "\n",
      "3. Transformation Pattern:\n",
      "Example 1:\n",
      "- Green pixels cluster around red\n",
      "- Orange pixels cluster around blue\n",
      "- Scattered pixels come together\n",
      "\n",
      "Example 2:\n",
      "- Orange pixels cluster around blue\n",
      "- Green pixel moves next to red\n",
      "- Pattern of adjacency forms\n",
      "\n",
      "Example 3:\n",
      "- Orange pixel moves adjacent to blue\n",
      "- Green pixels cluster around red\n",
      "- Consistent pattern of color pairing\n",
      "\n",
      "4. Key Observations:\n",
      "- There appear to be two color pairings:\n",
      "  1. Blue pairs with Orange\n",
      "  2. Red pairs with Green\n",
      "- In output, these pairs always become adjacent\n",
      "- Each color maintains its count from input to output\n",
      "- Pixels move minimum distance needed to achieve pairing\n",
      "\n",
      "5. Rule Verification:\n",
      "- Checking all examples confirms:\n",
      "  - Blue pixels attract orange pixels\n",
      "  - Red pixels attract green pixels\n",
      "  - Pairs form with minimal movement\n",
      "  - No other color interactions occur\n",
      "</reasoning>\n",
      "\n",
      "<description>\n",
      "The input grids contain scattered colored pixels (blue, red, green, and orange) on a black background. The transformation follows two simultaneous attraction rules: blue pixels attract orange pixels while red pixels attract green pixels. In the output, each colored pixel moves the minimum distance necessary to become adjacent to its paired color, forming clusters where blue-orange pairs and red-green pairs are always touching. The number of pixels of each color remains constant between input and output.\n",
      "</description>\n"
     ]
    }
   ],
   "source": [
    "#| hide\n",
    "#| eval: false\n",
    "# Let's try it out\n",
    "\n",
    "model = models[1]\n",
    "chat = AsyncChat(model, sp=sp_direct)\n",
    "\n",
    "pr = f\"The example grids in the image have the following shapes:\\n{_shape_table(task.train)}\"\n",
    "in_cols = np.unique(np.concatenate([p.input.data for p in task.train]))\n",
    "out_cols = np.unique(np.concatenate([p.output.data for p in task.train]))\n",
    "pr += f\"\\n\\nThe colors present in the input grids are: {', '.join(Color.colors[i] for i in in_cols)}.\\n\"\n",
    "pr += f\"The colors present in the output grids are: {', '.join(Color.colors[i] for i in out_cols)}.\"\n",
    "\n",
    "r = await chat(mk_msg([task.plot(to_base64=True), pr], cache=True), prefill=\"<reasoning>\", temp=0.6)\n",
    "print(r.content[0].text)"
   ]
  },
  {
   "cell_type": "code",
   "execution_count": null,
   "id": "88996bd1-5aad-4b5e-91ae-106a8642510d",
   "metadata": {},
   "outputs": [
    {
     "data": {
      "text/plain": [
       "0.01290225"
      ]
     },
     "execution_count": null,
     "metadata": {},
     "output_type": "execute_result"
    }
   ],
   "source": [
    "#| hide\n",
    "#| eval: false\n",
    "chat.cost"
   ]
  },
  {
   "attachments": {},
   "cell_type": "markdown",
   "id": "0632d451-0e1a-4dce-9a17-c82918c8058b",
   "metadata": {},
   "source": [
    "::: {.content-hidden}\n",
    "\n",
    "We'll create a container class for storing descriptions and the Claude chats that generated them\n",
    "\n",
    ":::"
   ]
  },
  {
   "cell_type": "code",
   "execution_count": null,
   "id": "ed098aed-15d9-48aa-82bf-dd681d731606",
   "metadata": {},
   "outputs": [],
   "source": [
    "#| export\n",
    "@dataclass\n",
    "class Description:\n",
    "    \"A single description of an ARC task.\"\n",
    "    content: str            # The full description response (including reasoning)\n",
    "    chats: List[AsyncChat]  # Store all chats used to generate this description\n",
    "    method: str             # 'direct' or 'indirect'\n",
    "\n",
    "    @property\n",
    "    def d(self) -> str:\n",
    "        \"Extract just the description from the full response\"\n",
    "        return parse_from_xml(self.content, 'description')\n",
    "    \n",
    "    @property\n",
    "    def usage(self) -> Usage:\n",
    "        \"Get combined token usage for this description.\"\n",
    "        return sum((chat.use for chat in self.chats), start=usage())\n",
    "    \n",
    "    @property \n",
    "    def cost(self) -> float:\n",
    "        \"Get total cost in USD for this description.\"\n",
    "        return sum(chat.cost for chat in self.chats)"
   ]
  },
  {
   "attachments": {},
   "cell_type": "markdown",
   "id": "ca50eb09-477f-4430-bb82-f0292331ee6f",
   "metadata": {},
   "source": [
    "The `Description` class contains the `claudette` chats used to generate the description, the final response content, and the method used ('direct' or 'indirect')"
   ]
  },
  {
   "cell_type": "code",
   "execution_count": null,
   "id": "f4f3f93c-033d-4524-bf6a-fff364ac1948",
   "metadata": {},
   "outputs": [],
   "source": [
    "#| export\n",
    "def _create_client(client_type,\n",
    "                   client_kwargs\n",
    "                  ) -> Union[AsyncAnthropic, AsyncAnthropicBedrock, AsyncAnthropicVertex]:\n",
    "    \"Create appropriate async client based on configuration.\"\n",
    "    if client_type == \"bedrock\":\n",
    "        return AsyncAnthropicBedrock(**client_kwargs)\n",
    "    elif client_type == \"vertex\":\n",
    "        return AsyncAnthropicVertex(**client_kwargs)\n",
    "    else:  # default to standard Anthropic\n",
    "        return AsyncAnthropic(\n",
    "            # default_headers={'anthropic-beta': 'prompt-caching-2024-07-31'},\n",
    "            **client_kwargs\n",
    "        )"
   ]
  },
  {
   "cell_type": "code",
   "execution_count": null,
   "id": "c159b7b1-7bea-47b8-9f07-eeeaa6b075d8",
   "metadata": {},
   "outputs": [],
   "source": [
    "#| export\n",
    "def _create_chat(model, client, sp: str, tools: Optional[list] = None) -> AsyncChat:\n",
    "    \"Create a new chat instance.\"\n",
    "    cli = AsyncClient(model, client)\n",
    "    return AsyncChat(cli=cli, sp=sp, tools=tools)"
   ]
  },
  {
   "cell_type": "code",
   "execution_count": null,
   "id": "23db57ec-0da4-46e8-be4d-97ee7bb54d59",
   "metadata": {},
   "outputs": [],
   "source": [
    "#| export\n",
    "async def _describe_direct(\n",
    "    task: ArcTask | str,                        # Either an ArcTask object or a task ID string\n",
    "    model: str = 'claude-3-5-sonnet-20241022',  # Model identifier (defaults to Sonnet 3.5)\n",
    "    client_type: str = 'anthropic',             # 'anthropic', 'bedrock', or 'vertex'\n",
    "    client_kwargs: Dict = {},                   # Optional kwargs for client instantiation\n",
    "    sp: str | None = None,                      # Custom system prompt (if None, uses `sp_direct`)\n",
    "    temp: float = 0.0,                          # Sampling temperature for generation\n",
    "    prefill: str = '<reasoning>',               # Text to prefill the assistant's response with\n",
    "    **kwargs                                    # Additional arguments passed to Chat.__call__\n",
    ") -> Description:                               # Container holding description and the chat object\n",
    "    \"Generate a description of an ARC task from all examples at once\"\n",
    "    \n",
    "    if sp is None: sp = sp_direct\n",
    "    if isinstance(task, str): task = ArcTask(task)\n",
    "\n",
    "    # Set up chat and get description\n",
    "    client = _create_client(client_type, client_kwargs)\n",
    "    chat = _create_chat(model, client, sp)\n",
    "    \n",
    "    pr = f\"The example grids in the image have the following shapes:\\n{_shape_table(task.train)}\"\n",
    "    in_cols = np.unique(np.hstack([p.input.data.flatten() for p in task.train]))\n",
    "    out_cols = np.unique(np.hstack([p.output.data.flatten() for p in task.train]))\n",
    "    pr += f\"\\nThe colors present in the input grids are: {', '.join(Color.colors[i] for i in in_cols)}\\n\"\n",
    "    pr += f\"\\nThe colors present in the output grids are: {', '.join(Color.colors[i] for i in out_cols)}\"\n",
    "    \n",
    "    r = await chat(mk_msg([task.plot(to_base64=True), pr], cache=client_type=='anthropic'),\n",
    "                   prefill=prefill,\n",
    "                   temp=temp,\n",
    "                   **kwargs)\n",
    "    \n",
    "    return Description(\n",
    "        content=r.content[0].text,\n",
    "        chats=[chat],\n",
    "        method='direct'\n",
    "    )"
   ]
  },
  {
   "cell_type": "code",
   "execution_count": null,
   "id": "7a94219f-9d39-4446-a2c7-31317e58942a",
   "metadata": {},
   "outputs": [
    {
     "name": "stdout",
     "output_type": "stream",
     "text": [
      "The input grids contain scattered colored pixels where green pixels are associated with red pixels, and orange pixels are associated with blue pixels. In the output, pixels of associated colors move to form adjacent clusters, with each cluster containing exactly one anchor pixel (red or blue) and its associated pixels (green or orange respectively) positioned next to it. The transformation maintains the general spatial distribution of clusters relative to their original positions while ensuring all associated pixels become adjacent.\n"
     ]
    }
   ],
   "source": [
    "#| hide\n",
    "#| eval: false\n",
    "d = await _describe_direct(task, temp=0.4)\n",
    "print(d.d)"
   ]
  },
  {
   "attachments": {},
   "cell_type": "markdown",
   "id": "852d790b-0113-4ad3-9e62-407147349abd",
   "metadata": {},
   "source": [
    "::: {.content-hidden}\n",
    "\n",
    "## Strategy 2: First analyse each example individually, then combine/summarise descriptions\n",
    "\n",
    "Sometimes it is hard for Claude to accurately identify shapes and patterns from a plot of multiple grids. An alternative approach is to generate descriptions for each example pair independently and then attempt to deduce the common transformation by analysing the set of descriptions.\n",
    "\n",
    ":::\n",
    "\n"
   ]
  },
  {
   "cell_type": "code",
   "execution_count": null,
   "id": "8920059a-3bee-4bba-a2b6-594639216ed3",
   "metadata": {},
   "outputs": [],
   "source": [
    "#| export\n",
    "sp_indiv = \"\"\"\\\n",
    "You are an expert puzzle analyst tasked with deciphering complex visual transformation puzzles. \\\n",
    "You analyze and describe the patterns and distinct shapes contained in input and output grids \\\n",
    "and judge what transformation maps input grids to output grids. \n",
    "\n",
    "Analysis Process:\n",
    "1. INITIAL VISUAL ANALYSIS\n",
    "   First, analyze the grids visually without tools:\n",
    "   - Note obvious patterns, shapes, and colors\n",
    "   - Form initial hypotheses about the transformation\n",
    "   - Consider whether the transformation appears to be:\n",
    "     * Global (affecting the entire grid)\n",
    "     * Local (affecting specific shapes/regions)\n",
    "     * Pattern-based (involving repetition or rules)\n",
    "   - Think about why certain changes might occur\n",
    "\n",
    "2. HYPOTHESIS REFINEMENT\n",
    "   If your initial analysis leaves uncertainties, consider whether the shape extraction tool would help:\n",
    "   - For complex or irregular shapes that might be related\n",
    "   - To verify suspected rotations, reflections, repetitions, or scaling\n",
    "   - To precisely analyze spatial relationships\n",
    "   - To confirm pattern hypotheses\n",
    "   Note that the shape extraction tool can only extract connected regions of a single color; often a \"shape\" in an ARC task is a distinct multi-colored region.\n",
    "\n",
    "Use the shape extraction tool judiciously to test specific hypotheses rather than as a first resort. Avoid using it when:\n",
    "- Shapes are simple and easily describable\n",
    "- The pattern is clearly global\n",
    "- The transformation is obvious visually\n",
    "- Colors appear to be background or noise rather than meaningful shapes\n",
    "\n",
    "Remember, these puzzles are designed to be solvable using only \"Core Knowledge priors\":\n",
    "1. Objectness priors (object cohesion, persistence, and influence via contact)\n",
    "2. Goal-directedness prior (conceptualize as intentional processes with start/end states)\n",
    "3. Numbers and Counting priors (quantities typically <10)\n",
    "4. Basic Geometry and Topology priors (lines, shapes, symmetries, rotations, translations, scaling, spatial relationships)\n",
    "\n",
    "Present your analysis in this format:\n",
    "\n",
    "<initial_analysis>\n",
    "Based on visual inspection:\n",
    "- Overview of grid properties and obvious patterns\n",
    "- Initial transformation hypothesis\n",
    "- Key uncertainties or questions\n",
    "- Whether tool analysis would be helpful and why\n",
    "</initial_analysis>\n",
    "\n",
    "If tool use is required, begin tool-calling process now. \\\n",
    "Once you have gathered the required information via tool calling, proceed with your analys as follows:\n",
    "\n",
    "<detailed_analysis>\n",
    "Input:\n",
    "- Dimensions: [x, y]\n",
    "- Background: [color if applicable]\n",
    "- Shapes: [list major shapes with properties and positions]\n",
    "  * Shape relationships: [note any rotational/reflectional/scaling relationships]\n",
    "  * Spatial relationships: [relative positions, alignments, groupings]\n",
    "  * Remember shapes can be multi-colored\n",
    "- Colors: [list with roles]\n",
    "- Notable patterns: [recurring elements, global patterns]\n",
    "\n",
    "Output:\n",
    "- [Same structure as Input]\n",
    "\n",
    "Transformations:\n",
    "- Size changes: [grid or shape scaling]\n",
    "- Shape changes: [rotations, reflections, splits, merges]\n",
    "- Color changes: [role changes, new colors, color relationships]\n",
    "- Position changes: [translations, relative position changes]\n",
    "- Pattern changes: [how global patterns transform]\n",
    "</detailed_analysis>\n",
    "\n",
    "<final_hypothesis>\n",
    "Provide your final transformation rule hypothesis, considering:\n",
    "- Whether the transformation is local or global\n",
    "- What properties are preserved\n",
    "- Why certain changes occur\n",
    "- How the transformation aligns with core knowledge priors\n",
    "- Any remaining uncertainties\n",
    "</final_hypothesis>\n",
    "\n",
    "Note: It may not be possible to determine the exact relationship with full confidence. \\\n",
    "Make your best guess considering the points above, and note any uncertainties in your hypothesis. \\\n",
    "Remember to close xml tags.\n",
    "\"\"\""
   ]
  },
  {
   "attachments": {},
   "cell_type": "markdown",
   "id": "48832edf-e8e5-4918-9361-a92963ddb621",
   "metadata": {},
   "source": [
    "::: {.content-hidden}\n",
    "\n",
    "Similar to before, we can generate a user prompt to help Claude perform its analysis. We are also allowing tool use, which is based on colors. To ensure Claude uses the correct color names, we also specify them in the user prompt.\n",
    "\n",
    ":::"
   ]
  },
  {
   "cell_type": "code",
   "execution_count": null,
   "id": "b721c1dd-575d-4d5e-808b-187c42e456b7",
   "metadata": {},
   "outputs": [],
   "source": [
    "#| export\n",
    "def _pair_prompt(pair: ArcPair,  # A single training example pair from an ARC task\n",
    "                example_idx: int = 0,  # The index of the training example\n",
    "               ):\n",
    "    inp, outp = pair\n",
    "    base_idx = example_idx * 2\n",
    "\n",
    "    return f\"\"\"\\\n",
    "This image contains two grids from a visual IQ puzzle:\n",
    "\n",
    "input grid (left):\n",
    "- idx: {base_idx}\n",
    "- size: {inp.shape[0]}x{inp.shape[1]}\n",
    "- colors: {', '.join(Color.colors[i] for i in np.unique(inp.data))}\n",
    "\n",
    "output grid (right):\n",
    "- idx: {base_idx + 1}\n",
    "- size: {outp.shape[0]}x{outp.shape[1]}\n",
    "- colors: {', '.join(Color.colors[i] for i in np.unique(outp.data))}\\\n",
    "\"\"\""
   ]
  },
  {
   "cell_type": "code",
   "execution_count": null,
   "id": "07f753fc-5b33-4aba-b0d2-e2db7687fd74",
   "metadata": {},
   "outputs": [
    {
     "name": "stdout",
     "output_type": "stream",
     "text": [
      "This image contains two grids from a visual IQ puzzle:\n",
      "\n",
      "input grid (left):\n",
      "- idx: 0\n",
      "- size: 15x15\n",
      "- colors: black, blue, red, green, orange\n",
      "\n",
      "output grid (right):\n",
      "- idx: 1\n",
      "- size: 15x15\n",
      "- colors: black, blue, red, green, orange\n"
     ]
    }
   ],
   "source": [
    "#| hide\n",
    "pair = task.train[0]\n",
    "print(_pair_prompt(pair, 0))"
   ]
  },
  {
   "attachments": {},
   "cell_type": "markdown",
   "id": "6d0a9b0b-dec5-4f58-84ec-66c0d04d83ed",
   "metadata": {},
   "source": [
    "::: {.content-hidden}\n",
    "\n",
    "Claude sometimes incorrectly identifies shapes, or thinks two slightly different shapes are the same. Let's allow Claude to query the shapes in a given grid using tool calling\n",
    "\n",
    ":::"
   ]
  },
  {
   "cell_type": "code",
   "execution_count": null,
   "id": "a2e52d2a-1a22-4b96-b2ef-246248babc99",
   "metadata": {},
   "outputs": [],
   "source": [
    "#| export\n",
    "#| hide\n",
    "class ShapeExtractor:\n",
    "    \"\"\"Extract shapes from grid pairs for analysis.\"\"\"\n",
    "    def __init__(self, task: ArcTask):\n",
    "        # Store flattened list of grids in order \n",
    "        self.grids = [grid for pair in task.train for grid in pair]\n",
    "        \n",
    "    def extract_shapes(\n",
    "        self,\n",
    "        grid_idx: int,  # Index of the target grid\n",
    "        color: str,  # Color of shapes to extract\n",
    "        include_diagonal: bool,  # Consider diagonally adjacent cells as connected?\n",
    "    ) -> list:  # List of extracted shapes (boolean arrays) and their positions\n",
    "        \"\"\"Extract contiguous regions of a specified color from a grid.\"\"\"\n",
    "        ORTH = np.array([[0,1,0], [1,1,1], [0,1,0]])\n",
    "        DIAG = np.ones((3,3))\n",
    "        \n",
    "        try:\n",
    "            arr = self.grids[grid_idx].data.copy()\n",
    "        except IndexError as e:\n",
    "            raise IndexError(f\"Invalid grid_index {grid_idx}. Must be between 0 and {len(self.grids)-1}\") from e\n",
    "    \n",
    "        value = Color.colors.index(color)\n",
    "        mask = (arr == value)\n",
    "        structure = DIAG if include_diagonal else ORTH\n",
    "        labeled, _ = ndimage.label(mask, structure=structure)\n",
    "        slices = ndimage.find_objects(labeled)\n",
    "    \n",
    "        regions = [[np.sum(mask[s]), s, labeled[s] == i+1] for i, s in enumerate(slices)]\n",
    "        return [(r[2], (r[1][0].start, r[1][1].start)) for r in regions]"
   ]
  },
  {
   "attachments": {},
   "cell_type": "markdown",
   "id": "bd9deb0a-6eb8-4e6f-9a32-61a0fea677c2",
   "metadata": {},
   "source": [
    "::: {.content-hidden}\n",
    "\n",
    "Claudette implements a `toolloop` function, which allows for multiple exchanges via tool calling until the conversation terminates with a regular text response. We'll implement the same function for the async version of the chat.\n",
    "\n",
    ":::"
   ]
  },
  {
   "cell_type": "code",
   "execution_count": null,
   "id": "e712632f-2f7b-43b8-b439-9e87b7cfc1e6",
   "metadata": {},
   "outputs": [],
   "source": [
    "#| export\n",
    "#| hide\n",
    "@patch\n",
    "@delegates(AsyncChat.__call__)\n",
    "async def toolloop(self:AsyncChat,\n",
    "             pr, # Prompt to pass to Claude\n",
    "             max_steps=10, # Maximum number of tool requests to loop through\n",
    "             trace_func:Optional[callable]=None, # Function to trace tool use steps (e.g `print`)\n",
    "             cont_func:Optional[callable]=noop, # Function that stops loop if returns False\n",
    "             **kwargs):\n",
    "    \"Add prompt `pr` to dialog and get a response from Claude, automatically following up with `tool_use` messages\"\n",
    "    n_msgs = len(self.h) - 1\n",
    "    r = await self(pr, **kwargs)\n",
    "    for i in range(max_steps):\n",
    "        if r.stop_reason!='tool_use': break\n",
    "        if trace_func: trace_func(self.h[n_msgs:]); n_msgs = len(self.h) - 1\n",
    "        r = await self(**kwargs)\n",
    "        if not (cont_func or noop)(self.h[-2]): break\n",
    "    if trace_func: trace_func(self.h[n_msgs:])\n",
    "    return r"
   ]
  },
  {
   "cell_type": "code",
   "execution_count": null,
   "id": "eaa3f2cd-2a5e-4842-994c-219f5e01fde4",
   "metadata": {},
   "outputs": [],
   "source": [
    "#| hide\n",
    "#| eval: false\n",
    "pair = task.train[1]\n",
    "extractor = ShapeExtractor(task)\n",
    "chat = AsyncChat(model, sp=sp_indiv, tools=[extractor.extract_shapes])\n",
    "r = await chat.toolloop(mk_msg([pair.plot(to_base64=True), _pair_prompt(pair, 1)], cache=True), temp=0.4)"
   ]
  },
  {
   "cell_type": "code",
   "execution_count": null,
   "id": "e2b2142e-7ac3-48bd-923e-a67d5792a5d2",
   "metadata": {},
   "outputs": [
    {
     "data": {
      "image/png": "[encoded data removed]",
      "text/plain": [
       "<Figure size 800x400 with 2 Axes>"
      ]
     },
     "metadata": {},
     "output_type": "display_data"
    }
   ],
   "source": [
    "#| hide\n",
    "#| eval: false\n",
    "pair.plot()"
   ]
  },
  {
   "cell_type": "code",
   "execution_count": null,
   "id": "ce47ed38-8b58-4756-aa5b-a42683cb227c",
   "metadata": {},
   "outputs": [
    {
     "name": "stdout",
     "output_type": "stream",
     "text": [
      "<detailed_analysis>\n",
      "Input:\n",
      "- Dimensions: 15x15\n",
      "- Background: black\n",
      "- Shapes: Single pixels of different colors\n",
      "  * Orange: 4 pixels scattered\n",
      "  * Blue: 1 pixel\n",
      "  * Green: 2 pixels\n",
      "  * Red: 1 pixel\n",
      "- Colors: Used to mark distinct points\n",
      "- Notable patterns: Scattered single pixels\n",
      "\n",
      "Output:\n",
      "- Dimensions: 15x15\n",
      "- Background: black\n",
      "- Shapes:\n",
      "  * Orange: Forms a plus pattern (+) around blue pixel\n",
      "  * Blue: 1 pixel (unchanged position)\n",
      "  * Green: 2 diagonal pixels\n",
      "  * Red: 1 pixel (unchanged position)\n",
      "- Colors: Maintain their distinct roles\n",
      "- Notable patterns: Orange pixels cluster, green pixels form diagonal\n",
      "\n",
      "Transformations:\n",
      "- Size changes: None\n",
      "- Shape changes: Orange pixels form plus pattern, green pixels align diagonally\n",
      "- Color changes: None\n",
      "- Position changes:\n",
      "  * Orange pixels move to form plus around blue\n",
      "  * Green pixels move to form diagonal pair\n",
      "  * Blue and red pixels maintain position\n",
      "- Pattern changes: From scattered to structured arrangements\n",
      "</detailed_analysis>\n",
      "\n",
      "<final_hypothesis>\n",
      "The transformation appears to follow these rules:\n",
      "1. Blue and red pixels serve as anchor points and don't move\n",
      "2. Orange pixels are attracted to the blue pixel, forming a plus pattern (+) around it\n",
      "3. Green pixels move to form a diagonal pair near the red pixel\n",
      "\n",
      "This aligns with core knowledge priors:\n",
      "- Object persistence (pixels maintain their colors)\n",
      "- Goal-directedness (pixels move to form specific patterns)\n",
      "- Basic geometry (plus pattern and diagonal alignment)\n",
      "\n",
      "The transformation is local rather than global, with two distinct sub-patterns:\n",
      "1. Orange-blue relationship: forming a symmetrical plus\n",
      "2. Green-red relationship: forming a diagonal pair\n",
      "\n",
      "Confidence level is high due to:\n",
      "- Clear pattern formation in output\n",
      "- Consistent behavior for each color\n",
      "- Logical geometric arrangements\n",
      "</final_hypothesis>\n"
     ]
    }
   ],
   "source": [
    "#| hide\n",
    "#| eval: false\n",
    "print(r.content[0].text)"
   ]
  },
  {
   "attachments": {},
   "cell_type": "markdown",
   "id": "4fd7639b-418d-4c73-9ae6-7b95f84e0629",
   "metadata": {},
   "source": [
    "::: {.content-hidden}\n",
    "\n",
    "After we generate descriptions for each example in the task, we can make a separate call instructing Claude to try to infer the general rule from the set of isolated descriptions.\n",
    "\n",
    ":::"
   ]
  },
  {
   "cell_type": "code",
   "execution_count": null,
   "id": "9e4c4ad5-f16b-407b-a462-c13a2cca7a1a",
   "metadata": {},
   "outputs": [],
   "source": [
    "#| export\n",
    "sp_merge = \"\"\"\\\n",
    "You are an expert puzzle analyst tasked with deciphering complex visual transformation puzzles. \\\n",
    "Your goal is to infer the general rule that governs how an input grid is transformed into an output grid \\\n",
    "based on multiple descriptions of individual grid pairs.\n",
    "\n",
    "The descriptions you'll analyze were generated by observers who each saw only one pair of grids. \\\n",
    "They had access to a shape extraction tool and were instructed to analyze shapes, patterns, and transformations in detail.\n",
    "\n",
    "Analysis Steps:\n",
    "\n",
    "1. PATTERN IDENTIFICATION\n",
    "   For each transformation aspect, analyze across all descriptions:\n",
    "   - Grid size relationships\n",
    "   - Shape transformations (rotations, reflections, scaling)\n",
    "   - Color role patterns\n",
    "   - Spatial relationship preservation\n",
    "   - Global vs local patterns\n",
    "\n",
    "2. CONSISTENCY ANALYSIS\n",
    "   For each observed pattern, rate:\n",
    "   - Frequency: How many descriptions support it?\n",
    "   - Consistency: Are there any contradictions?\n",
    "   - Completeness: Does it explain all observations?\n",
    "   - Simplicity: Is it the simplest explanation?\n",
    "\n",
    "3. TRANSFORMATION CLASSIFICATION\n",
    "   Determine if transformations are:\n",
    "   - Local (applying to individual shapes)\n",
    "   - Global (applying to entire grid)\n",
    "   - Hierarchical (different rules at different scales)\n",
    "   - Composite (multiple transformations applied sequentially)\n",
    "\n",
    "4. RELATIONSHIP ANALYSIS\n",
    "   Look for patterns in:\n",
    "   - How shapes relate to each other (rotation, reflection, scaling)\n",
    "   - How shapes interact with grid boundaries\n",
    "   - How colors relate to shapes and patterns\n",
    "   - How relative positions are maintained or changed\n",
    "\n",
    "5. EDGE CASE CONSIDERATION\n",
    "   Consider how the rule would handle:\n",
    "   - Overlapping/touching shapes\n",
    "   - Shapes at grid boundaries\n",
    "   - Any other relevant edge cases\n",
    "\n",
    "Show your analysis process in <reasoning> tags, including:\n",
    "1. List of all unique characteristics across descriptions\n",
    "2. Pattern frequency and consistency analysis\n",
    "3. Alternative hypotheses considered\n",
    "4. Evidence supporting your chosen rule\n",
    "5. Potential edge cases and how they're handled\n",
    "\n",
    "After your analysis, provide a concise solution summary in <description> tags. This summary should:\n",
    "- Be no more than 4-5 sentences long\n",
    "- Clearly describe first (in generality) the properties/objects in the input grids\n",
    "- Then describe properties of the output grids and how an output grid is constructed from its input grid\n",
    "- Avoid instance-specific descriptions or if-else statements\n",
    "- Capture all key aspects of the transformation\n",
    "- Use precise, unambiguous language, i.e. not use terms such as \"follows a certain transformation\", \"according to some rule\", etc.\n",
    "\n",
    "If multiple interpretations are possible, choose the simplest one that explains all observations while respecting these constraints. \\\n",
    "Remember to close xml tags.\n",
    "\"\"\""
   ]
  },
  {
   "cell_type": "code",
   "execution_count": null,
   "id": "799260b2-c5b3-4336-821a-9f06209d1247",
   "metadata": {},
   "outputs": [],
   "source": [
    "#| export\n",
    "async def _describe_indirect(\n",
    "    task: ArcTask | str,                        # Either an ArcTask object or a task ID string\n",
    "    model: str = 'claude-3-5-sonnet-20241022',  # Model identifier (defaults to Sonnet 3.5)\n",
    "    client_type: str = 'anthropic',             # 'anthropic', 'bedrock', or 'vertex'\n",
    "    client_kwargs: Dict = {},                   # Optional kwargs for client instantiation\n",
    "    sp: str | None = None,                      # Custom system prompt for individual analysis (if None, uses `sp_indiv`)\n",
    "    sp_combine: str | None = None,              # Custom system prompt for synthesizing from independent descriptions (if None, uses `sp_combine`)\n",
    "    temp: float = 0.0,                          # Sampling temperature for generation\n",
    "    tools: Optional[list] = None,               # List of tools to make available to Claude (defaults to `[ShapeExtractor.extract_shapes]`)\n",
    "    **kwargs                                    # Additional arguments passed to AsyncChat.__call__\n",
    ") -> Description:                               # Container holding description and the list of chats used\n",
    "    \"Generate a description of an ARC task by analyzing examples independently and then combining insights.\"\n",
    "\n",
    "    if isinstance(task, str): task = ArcTask(task)\n",
    "\n",
    "    # Use default prompts if none provided\n",
    "    if sp is None: sp = sp_indiv\n",
    "    if sp_combine is None: sp_combine = sp_merge\n",
    "    # Create shape extractor\n",
    "    if tools is None:\n",
    "        extractor = ShapeExtractor(task)\n",
    "        tools = [extractor.extract_shapes]\n",
    "    \n",
    "    # Create chats for each example pair\n",
    "    pair_clients = [_create_client(client_type, client_kwargs) for _ in task.train]\n",
    "    pair_chats = [_create_chat(model, c, sp, tools) for c in pair_clients]\n",
    "    \n",
    "    # Process examples concurrently\n",
    "    pair_tasks = [\n",
    "        chat.toolloop(mk_msg([pair.plot(to_base64=True), _pair_prompt(pair, i)], cache=client_type=='anthropic'), temp=temp)\n",
    "        for i, (chat, pair) in enumerate(zip(pair_chats, task.train))\n",
    "    ]\n",
    "    responses = await asyncio.gather(*pair_tasks)\n",
    "\n",
    "     # Format and merge descriptions\n",
    "    merge_chat = _create_chat(model, _create_client(client_type, client_kwargs), sp_combine)\n",
    "    descs = '\\n\\n'.join(\n",
    "        f'<description id=\"{i+1}\">\\n{r.content[0].text}\\n</description>'\n",
    "        for i, r in enumerate(responses)\n",
    "    )\n",
    "    merged = await merge_chat([descs], temp=temp)\n",
    "    \n",
    "    # Create description with all chats used\n",
    "    all_chats = pair_chats + [merge_chat]\n",
    "    return Description(\n",
    "        content=merged.content[0].text,\n",
    "        chats=all_chats,\n",
    "        method='indirect'\n",
    "    )"
   ]
  },
  {
   "cell_type": "code",
   "execution_count": null,
   "id": "8f368ede-eb01-4a31-b50d-988334210b40",
   "metadata": {},
   "outputs": [
    {
     "name": "stdout",
     "output_type": "stream",
     "text": [
      "Let me analyze these descriptions systematically.\n",
      "\n",
      "<reasoning>\n",
      "1. UNIQUE CHARACTERISTICS ACROSS DESCRIPTIONS\n",
      "Common elements:\n",
      "- 15x15 black grid in both input/output\n",
      "- Colored pixels (blue, red, green, orange)\n",
      "- Color and quantity preservation\n",
      "- Movement toward clustering/organization\n",
      "\n",
      "Frequency of key observations:\n",
      "- All 3 mention preservation of colors/quantities (100%)\n",
      "- All 3 mention movement toward more compact arrangement (100%)\n",
      "- 2/3 mention preservation of some relative positions\n",
      "- 1/3 explicitly mentions cross patterns\n",
      "- 1/3 mentions two distinct clusters\n",
      "\n",
      "2. PATTERN FREQUENCY AND CONSISTENCY ANALYSIS\n",
      "High Confidence Patterns:\n",
      "- Color/quantity preservation (100% consistent)\n",
      "- Movement toward organization (100% consistent)\n",
      "- Relative position preservation (66% consistent)\n",
      "\n",
      "Inconsistencies:\n",
      "- Description 1 sees specific cross patterns\n",
      "- Descriptions 2&3 see general clustering\n",
      "- Number of final clusters varies between descriptions\n",
      "\n",
      "3. ALTERNATIVE HYPOTHESES CONSIDERED\n",
      "A) Cross-Pattern Formation Rule\n",
      "Pros: Explains description 1 perfectly\n",
      "Cons: No mention in other descriptions, too specific\n",
      "\n",
      "B) Two-Cluster Rule\n",
      "Pros: Explains description 1\n",
      "Cons: Not supported by other descriptions\n",
      "\n",
      "C) General Clustering Rule\n",
      "Pros: \n",
      "- Explains all descriptions\n",
      "- Simpler explanation\n",
      "- Accounts for relative position preservation\n",
      "- Matches core knowledge priors\n",
      "Cons: Less specific about final arrangement\n",
      "\n",
      "4. EVIDENCE FOR CHOSEN RULE (General Clustering)\n",
      "- Consistent with all descriptions\n",
      "- Explains preservation of colors/quantities\n",
      "- Accounts for relative position maintenance\n",
      "- Flexible enough to accommodate variations\n",
      "- Simplest explanation fitting all observations\n",
      "\n",
      "5. EDGE CASES\n",
      "- Handling of very scattered vs. already clustered inputs\n",
      "- Treatment of existing adjacent pixels\n",
      "- Behavior when multiple equidistant clustering possibilities exist\n",
      "</reasoning>\n",
      "\n",
      "<description>\n",
      "The input grid consists of a 15x15 black background containing individual pixels of different colors (blue, red, green, and orange), initially scattered across the grid in various positions. The transformation preserves the total number and color of all pixels while moving them into a more compact, organized arrangement. During this clustering transformation, some original relative spatial relationships between pixels are maintained, particularly for pixels that were initially near each other. The output maintains the same grid dimensions and black background while presenting a more centralized, structured arrangement of the colored pixels.\n",
      "</description>\n"
     ]
    }
   ],
   "source": [
    "#| hide\n",
    "#| eval: false\n",
    "d_indirect = await _describe_indirect(task, model, temp=0.4)\n",
    "print(d_indirect.content)"
   ]
  },
  {
   "cell_type": "code",
   "execution_count": null,
   "id": "55d3fbf8-d9e7-4552-8e30-99f86f4ec14b",
   "metadata": {},
   "outputs": [
    {
     "data": {
      "text/plain": [
       "0.1261374"
      ]
     },
     "execution_count": null,
     "metadata": {},
     "output_type": "execute_result"
    }
   ],
   "source": [
    "#| hide\n",
    "#| eval: false\n",
    "d_indirect.cost"
   ]
  },
  {
   "cell_type": "code",
   "execution_count": null,
   "id": "8fb6bcb2-1a7a-4afb-a680-caa13aa321d0",
   "metadata": {},
   "outputs": [],
   "source": [
    "#| export\n",
    "class DescriptionGenerator:\n",
    "    \"Generates descriptions of ARC tasks using Claude.\"\n",
    "    def __init__(self, \n",
    "                 model: str = \"claude-3-5-sonnet-20241022\",  # Model identifier (defaults to Sonnet 3.5)\n",
    "                 client_type: str = \"anthropic\",             # 'anthropic', 'bedrock', or 'vertex'\n",
    "                 client_kwargs: Optional[Dict] = None,       # Optional kwargs for client instantiation\n",
    "                 direct_sp: Optional[str] = None,            # Custom system prompt for direct description (if None, uses `sp_direct`)\n",
    "                 indirect_sp: Optional[str] = None,          # Custom system prompt for single pair description (if None, uses `sp_indiv`)\n",
    "                 merge_sp: Optional[str] = None):            # Custom system prompt for synthesized description (if None, uses `sp_merge`)\n",
    "        self.model = model\n",
    "        self.client_type = client_type\n",
    "        self.client_kwargs = client_kwargs or {}\n",
    "        self.direct_sp = direct_sp or sp_direct\n",
    "        self.indirect_sp = indirect_sp or sp_indiv\n",
    "        self.merge_sp = merge_sp or sp_merge\n",
    "\n",
    "    def _create_client(self) -> Union[AsyncAnthropic, AsyncAnthropicBedrock, AsyncAnthropicVertex]:\n",
    "        \"Create appropriate async client based on configuration.\"\n",
    "        return _create_client(self.client_type, self.client_kwargs)\n",
    "\n",
    "    def _create_chat(self, sp: str, tools: Optional[list] = None) -> AsyncChat:\n",
    "        \"Create a new chat instance.\"\n",
    "        return _create_chat(self.model, self._create_client(), sp, tools)"
   ]
  },
  {
   "attachments": {},
   "cell_type": "markdown",
   "id": "85bccf9a-7cf5-407a-ab15-75fac6dc6b67",
   "metadata": {},
   "source": [
    "## Approach 1: Direct description\n",
    "\n",
    "The most straightforward approach is to simply provide an image of all examples in a task and ask for a solution description."
   ]
  },
  {
   "attachments": {},
   "cell_type": "markdown",
   "id": "648a862c-f76c-4020-8d88-cc332fa9661b",
   "metadata": {},
   "source": [
    "We use a system prompt that explains the objective in detail and instructs the model to perform chain of thought reasoning before formulating the final description."
   ]
  },
  {
   "cell_type": "code",
   "execution_count": null,
   "id": "f4bb4106-d3d4-4c9a-9449-a4b5b8ecc342",
   "metadata": {},
   "outputs": [],
   "source": [
    "#| export\n",
    "@patch\n",
    "async def describe_direct(\n",
    "    self: DescriptionGenerator,\n",
    "    task: ArcTask | str,           # ARC task or task ID to describe\n",
    "    n: int = 1,                    # No. of descriptions to generate\n",
    "    temp: float = 0.5,             # Temperature for generation (higher for diversity)\n",
    "    prefill: str = '<reasoning>',  # Text to prefill the assistant's response with\n",
    "    **kwargs                       # Additional arguments passed to AsyncChat.__call__\n",
    ") -> List[Description]:            # List of `Description` objects\n",
    "    \"Generate n direct descriptions of the task concurrently.\"\n",
    "    tasks = [\n",
    "        _describe_direct(task, self.model, self.client_type, self.client_kwargs, self.direct_sp, temp, prefill, **kwargs)\n",
    "        for _ in range(n)\n",
    "    ]\n",
    "    return await asyncio.gather(*tasks)"
   ]
  },
  {
   "attachments": {},
   "cell_type": "markdown",
   "id": "645de395-0ae0-4024-988c-500f3013dad3",
   "metadata": {},
   "source": [
    "<br/>Let's demonstrate with an example task:"
   ]
  },
  {
   "cell_type": "code",
   "execution_count": null,
   "id": "80f44eb1-eaab-4ddf-bb68-40f0a615f587",
   "metadata": {},
   "outputs": [],
   "source": [
    "#| hide\n",
    "random.seed(42)"
   ]
  },
  {
   "cell_type": "code",
   "execution_count": null,
   "id": "5e933b76-b55a-4d8f-8575-21dffcf8f742",
   "metadata": {},
   "outputs": [
    {
     "name": "stdout",
     "output_type": "stream",
     "text": [
      "Task: f25fbde4\n",
      "\n"
     ]
    },
    {
     "data": {
      "image/png": "[encoded data removed]",
      "text/plain": [
       "<Figure size 800x1200 with 6 Axes>"
      ]
     },
     "metadata": {},
     "output_type": "display_data"
    }
   ],
   "source": [
    "#| echo: false\n",
    "t = random.choice(train_tasks)\n",
    "# t = '1e32b0e9'\n",
    "task = ArcTask(t)\n",
    "print(f\"Task: {t}\\n\")\n",
    "task.plot()"
   ]
  },
  {
   "cell_type": "code",
   "execution_count": null,
   "id": "08997713-d52b-4a03-ad73-ab7345a80b86",
   "metadata": {},
   "outputs": [
    {
     "name": "stdout",
     "output_type": "stream",
     "text": [
      "The input grids contain a pattern of yellow cells on a black background forming a continuous path or shape. The output grid is determined by finding the rectangular region defined by the extremal yellow cells in the input (leftmost, rightmost, topmost, and bottommost). In the output, all cells within this rectangular boundary are filled with yellow, while maintaining black cells outside this region, effectively creating a solid yellow shape that encompasses the original pattern's extent.\n"
     ]
    }
   ],
   "source": [
    "#| output: false\n",
    "#| eval: false\n",
    "describer = DescriptionGenerator(model, 'bedrock')\n",
    "d_direct = await describer.describe_direct(task)\n",
    "print(d_direct[0].d)"
   ]
  },
  {
   "cell_type": "code",
   "execution_count": null,
   "id": "13de91e4-06bb-49f0-b2ee-7a63d527cb46",
   "metadata": {},
   "outputs": [
    {
     "name": "stdout",
     "output_type": "stream",
     "text": [
      "> The input grids contain a pattern of yellow cells on a black background forming a continuous path or shape. The output grid is determined by finding the rectangular region defined by the extremal yellow cells in the input (leftmost, rightmost, topmost, and bottommost). In the output, all cells within this rectangular boundary are filled with yellow, while maintaining black cells outside this region, effectively creating a solid yellow shape that encompasses the original pattern's extent.\n"
     ]
    }
   ],
   "source": [
    "#| echo: false\n",
    "#| output: asis\n",
    "#| eval: false\n",
    "print(f\"> {d_direct[0].d}\")"
   ]
  },
  {
   "attachments": {},
   "cell_type": "markdown",
   "id": "2d884f9f-d3e4-4ccb-9f27-500a52aea79e",
   "metadata": {},
   "source": [
    "This description is nearly right. The wording is strange but it seems to have correctly identified that the output is the minimal bounding box around the yellow shape. However, it has not spotted that the yellow shape has been scaled up in size.\n",
    "\n",
    "This is a common failure mode for Claude. It often erroneously declares that two similar shapes are identical. It can often form a rough idea of what is happening in a task but when faced with multiple similar objects within grids, it fails to identify and distinguish specific shapes. This motivates trying an alternative approach."
   ]
  },
  {
   "attachments": {},
   "cell_type": "markdown",
   "id": "50889ce8-ff3e-4d3e-b4f1-12ce00bb9513",
   "metadata": {},
   "source": [
    "## Approach 2: Indirect Description"
   ]
  },
  {
   "attachments": {},
   "cell_type": "markdown",
   "id": "362f2f85-edd5-4dd2-ac78-cad2224abe6a",
   "metadata": {},
   "source": [
    "Instead of presenting the entire task&mdash;which can sometimes feature 5+ pairs of grids&mdash;all at once to Claude, we can instead generate independent descriptions based on individual pairs of grids and subsequently ask Claude to synthesize the information contained in the set of descriptions to form a final unified description.\n",
    "\n",
    "Pros:\n",
    "\n",
    "- Larger grids within the image and less whitespace\n",
    "- Claude can pick out finer details from within the grids\n",
    "- Can generate highly descriptive summaries of each pair\n",
    "\n",
    "Cons:\n",
    "\n",
    "- Many task solutions can not be identified or determined from an isolated example pair\n",
    "- More token-intensive (expensive)\n"
   ]
  },
  {
   "cell_type": "code",
   "execution_count": null,
   "id": "d9825fc5-7e81-4e21-9fbc-f43e542b05f0",
   "metadata": {},
   "outputs": [],
   "source": [
    "#| export\n",
    "@patch\n",
    "async def describe_indirect(\n",
    "    self: DescriptionGenerator,\n",
    "    task: ArcTask | str,           # ARC task or task ID to describe\n",
    "    n: int = 1,                    # No. of descriptions to generate\n",
    "    temp: float = 0.6,             # Temperature for generation (higher for diversity)\n",
    "    tools: Optional[list] = None,  # List of tools to make available to Claude (defaults to `[ShapeExtractor.extract_shapes]`)\n",
    "    **kwargs                       # Additional arguments passed to AsyncChat.__call__\n",
    ") -> List[Description]:            # List of `Description` objects\n",
    "    \"Generate n direct descriptions of the task concurrently.\"\n",
    "    tasks = [\n",
    "        _describe_indirect(task, self.model, self.client_type, self.client_kwargs, self.indirect_sp, self.merge_sp, temp, tools, **kwargs)\n",
    "        for _ in range(n)\n",
    "    ]\n",
    "    return await asyncio.gather(*tasks)"
   ]
  },
  {
   "attachments": {},
   "cell_type": "markdown",
   "id": "8157e3ea-b8e7-4584-8e53-1a552d9938c3",
   "metadata": {},
   "source": [
    "For this approach, we have also implemented tool-use. In order to help Claude accurately identify shapes, we provide a `ShapeExtractor` function that can be used"
   ]
  },
  {
   "cell_type": "code",
   "execution_count": null,
   "id": "6c47cfc4-1556-407d-bbec-804a5c7e9c14",
   "metadata": {},
   "outputs": [
    {
     "data": {
      "text/markdown": [
       "---\n",
       "\n",
       "[source](https://github.com/jackhogan/arcsolver/blob/main/arcsolver/describe.py#L318){target=\"_blank\" style=\"float:right; font-size:smaller\"}\n",
       "\n",
       "### ShapeExtractor.extract_shapes\n",
       "\n",
       ">      ShapeExtractor.extract_shapes (grid_idx:int, color:str,\n",
       ">                                     include_diagonal:bool)\n",
       "\n",
       "*Extract contiguous regions of a specified color from a grid.*\n",
       "\n",
       "|    | **Type** | **Details** |\n",
       "| -- | -------- | ----------- |\n",
       "| grid_idx | int | Index of the target grid |\n",
       "| color | str | Color of shapes to extract |\n",
       "| include_diagonal | bool | Consider diagonally adjacent cells as connected? |\n",
       "| **Returns** | **list** | **List of extracted shapes (boolean arrays) and their positions** |"
      ],
      "text/plain": [
       "---\n",
       "\n",
       "[source](https://github.com/jackhogan/arcsolver/blob/main/arcsolver/describe.py#L318){target=\"_blank\" style=\"float:right; font-size:smaller\"}\n",
       "\n",
       "### ShapeExtractor.extract_shapes\n",
       "\n",
       ">      ShapeExtractor.extract_shapes (grid_idx:int, color:str,\n",
       ">                                     include_diagonal:bool)\n",
       "\n",
       "*Extract contiguous regions of a specified color from a grid.*\n",
       "\n",
       "|    | **Type** | **Details** |\n",
       "| -- | -------- | ----------- |\n",
       "| grid_idx | int | Index of the target grid |\n",
       "| color | str | Color of shapes to extract |\n",
       "| include_diagonal | bool | Consider diagonally adjacent cells as connected? |\n",
       "| **Returns** | **list** | **List of extracted shapes (boolean arrays) and their positions** |"
      ]
     },
     "execution_count": null,
     "metadata": {},
     "output_type": "execute_result"
    }
   ],
   "source": [
    "show_doc(ShapeExtractor.extract_shapes)"
   ]
  },
  {
   "attachments": {},
   "cell_type": "markdown",
   "id": "67d0ce3b-2627-4561-9240-681d44c422bc",
   "metadata": {},
   "source": [
    "In our system prompt, we instruct Claude to generate an intial hypothesis about the task solution, and then use the shape extractor tool to inspect shapes as neccessary to inform its final judgement. Claude can choose how many times to call the function and which colored shapes to extract from which grids. Once it has enough information to form a final description, the conversation ends."
   ]
  },
  {
   "cell_type": "code",
   "execution_count": null,
   "id": "84830c96-513e-4981-94d6-458ce383a6d1",
   "metadata": {},
   "outputs": [
    {
     "name": "stdout",
     "output_type": "stream",
     "text": [
      "The input grid is a 9x9 black grid containing yellow pixels arranged in various patterns. The transformation converts each yellow pixel in the input into a 2x2 block of yellow pixels in the output, while maintaining the relative spatial relationships between yellow elements. The output grid dimensions are reduced to accommodate the transformed pattern while preserving the black background. This transformation creates a blocky, enlarged version of the original pattern in a smaller grid, with the final dimensions adjusted to fit the transformed elements efficiently.\n"
     ]
    }
   ],
   "source": [
    "#| output: false\n",
    "#| eval: false\n",
    "d_indirect = await describer.describe_indirect(task)\n",
    "print(d_indirect[0].d)"
   ]
  },
  {
   "cell_type": "code",
   "execution_count": null,
   "id": "d1395290-de1a-47a7-9287-0a128f10727e",
   "metadata": {},
   "outputs": [
    {
     "name": "stdout",
     "output_type": "stream",
     "text": [
      "> The input grid is a 9x9 black grid containing yellow pixels arranged in various patterns. The transformation converts each yellow pixel in the input into a 2x2 block of yellow pixels in the output, while maintaining the relative spatial relationships between yellow elements. The output grid dimensions are reduced to accommodate the transformed pattern while preserving the black background. This transformation creates a blocky, enlarged version of the original pattern in a smaller grid, with the final dimensions adjusted to fit the transformed elements efficiently.\n"
     ]
    }
   ],
   "source": [
    "#| echo: false\n",
    "#| output: asis\n",
    "#| eval: false\n",
    "print(f\"> {d_indirect[0].d}\")"
   ]
  },
  {
   "attachments": {},
   "cell_type": "markdown",
   "id": "2d7ed72e-d79e-456a-af91-512c74809029",
   "metadata": {},
   "source": [
    "Using this method, it has generated a much more accurate description of the task. We can inspect the chat history to see its use of the tool:"
   ]
  },
  {
   "cell_type": "code",
   "execution_count": null,
   "id": "ae38b560-d05c-490c-b929-206bd83583f2",
   "metadata": {},
   "outputs": [
    {
     "name": "stdout",
     "output_type": "stream",
     "text": [
      "<initial_analysis>\n",
      "Based on visual inspection:\n",
      "- Input grid shows a sparse diagonal-like pattern of yellow pixels on black background\n",
      "- Output grid appears to show a more concentrated arrangement of yellow pixels\n",
      "- The output grid is smaller (6x6 vs 9x9)\n",
      "- Initial hypothesis: The yellow pixels might be getting \"compressed\" into a smaller space while maintaining some kind of pattern\n",
      "- Key uncertainty: Whether the yellow pixels form a specific connected shape that's being transformed\n",
      "- Tool analysis would be helpful to:\n",
      "  * Verify if the yellow pixels form a connected shape in either grid\n",
      "  * Count exact number of yellow pixels to see if they're preserved\n",
      "</initial_analysis>\n",
      "\n",
      "Let me extract the yellow shapes from both grids:\n"
     ]
    }
   ],
   "source": [
    "#| eval: false\n",
    "print(d_indirect[0].chats[1].h[1]['content'][0].text)"
   ]
  },
  {
   "cell_type": "code",
   "execution_count": null,
   "id": "3de8b9e7-8b50-46d5-97c9-424f4acef880",
   "metadata": {},
   "outputs": [
    {
     "data": {
      "text/plain": [
       "ToolUseBlock(id='toolu_bdrk_01UsGpZS8zyEW238PbE3tZDg', input={'grid_idx': 2, 'color': 'yellow', 'include_diagonal': True}, name='extract_shapes', type='tool_use')"
      ]
     },
     "execution_count": null,
     "metadata": {},
     "output_type": "execute_result"
    }
   ],
   "source": [
    "#| eval: false\n",
    "d_indirect[0].chats[1].h[1]['content'][1]"
   ]
  },
  {
   "attachments": {},
   "cell_type": "markdown",
   "id": "226d27c7-fd4b-47fc-b588-9ba90d79720c",
   "metadata": {},
   "source": [
    "::: {.callout-warning}\n",
    "Note that the indirect method is significantly more expensive than the direct method. It creates separate chat instances for each pair of grids, including an image and triggering a multi-turn tool-calling conversation.\n",
    ":::\n"
   ]
  },
  {
   "cell_type": "code",
   "execution_count": null,
   "id": "b8de3b75-17c8-44dd-a27b-e8f701bc8754",
   "metadata": {},
   "outputs": [
    {
     "name": "stdout",
     "output_type": "stream",
     "text": [
      "Direct cost: $0.012\n",
      "Indirect cost: $0.101\n"
     ]
    }
   ],
   "source": [
    "#| eval: false\n",
    "print(f\"Direct cost: ${d_direct[0].cost:.3f}\")\n",
    "print(f\"Indirect cost: ${d_indirect[0].cost:.3f}\")"
   ]
  },
  {
   "cell_type": "code",
   "execution_count": null,
   "id": "3f7b8d87-8205-4a5b-a8db-64dee30429dd",
   "metadata": {},
   "outputs": [],
   "source": [
    "#| export\n",
    "@patch\n",
    "async def describe_task(\n",
    "    self: DescriptionGenerator,\n",
    "    task: ArcTask | str,           # ARC task or task ID to describe\n",
    "    n_direct: int = 1,             # No. of direct descriptions to generate\n",
    "    n_indirect: int = 1,           # No. of indirect descriptions to generate\n",
    "    temp: float = 0.7,             # Temperature for generation (higher for diversity)\n",
    "    **kwargs\n",
    ") -> List[Description]:            # List of `Description` objects  \n",
    "    \"Generate multiple descriptions of a task using one or both strategies concurrently.\"\n",
    "\n",
    "    # Generate all descriptions concurrently\n",
    "    descriptions = await asyncio.gather(\n",
    "        self.describe_direct(task, n=n_direct, temp=temp, prefill=None, **kwargs),\n",
    "        self.describe_indirect(task, n=n_indirect, temp=temp, tools=None, **kwargs)\n",
    "    )\n",
    "\n",
    "    return [d for d_list in descriptions for d in d_list]"
   ]
  },
  {
   "attachments": {},
   "cell_type": "markdown",
   "id": "2ffdab97-8bec-4883-8677-3fea0f255394",
   "metadata": {},
   "source": [
    "This method allows us to generate descriptions using either or both strategies at the same time."
   ]
  },
  {
   "cell_type": "code",
   "execution_count": null,
   "id": "bb03f24c-1701-474a-8a42-611512548d35",
   "metadata": {},
   "outputs": [],
   "source": [
    "#| hide\n",
    "import nbdev; nbdev.nbdev_export()"
   ]
  },
  {
   "cell_type": "code",
   "execution_count": null,
   "id": "aa3bcf08-8e3c-422c-9917-837871701e6b",
   "metadata": {},
   "outputs": [],
   "source": []
  }
 ],
 "metadata": {
  "kernelspec": {
   "display_name": "python3",
   "language": "python",
   "name": "python3"
  }
 },
 "nbformat": 4,
 "nbformat_minor": 5
}
