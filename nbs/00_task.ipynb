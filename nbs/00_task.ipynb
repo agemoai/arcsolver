{
 "cells": [
  {
   "cell_type": "code",
   "execution_count": null,
   "metadata": {},
   "outputs": [],
   "source": [
    "#| default_exp task"
   ]
  },
  {
   "cell_type": "markdown",
   "metadata": {},
   "source": [
    "# task\n",
    "\n",
    "> Classes for representing and visualizing ARC tasks"
   ]
  },
  {
   "cell_type": "code",
   "execution_count": null,
   "metadata": {},
   "outputs": [],
   "source": [
    "#| hide\n",
    "from nbdev.showdoc import *"
   ]
  },
  {
   "cell_type": "code",
   "execution_count": null,
   "metadata": {},
   "outputs": [],
   "source": [
    "#| export\n",
    "import os\n",
    "import json\n",
    "import numpy as np\n",
    "from pathlib import Path\n",
    "from typing import Union, Optional, Literal\n",
    "from fastcore.utils import *\n",
    "import matplotlib.pyplot as plt\n",
    "from matplotlib.transforms import Bbox\n",
    "from matplotlib.gridspec import GridSpec, GridSpecFromSubplotSpec\n",
    "from io import BytesIO\n",
    "import base64"
   ]
  },
  {
   "cell_type": "code",
   "execution_count": null,
   "metadata": {},
   "outputs": [],
   "source": [
    "#| exporti\n",
    "try:\n",
    "    module_dir = Path(os.path.dirname(__file__))\n",
    "except NameError:\n",
    "    module_dir = Path(os.getcwd())"
   ]
  },
  {
   "cell_type": "code",
   "execution_count": null,
   "metadata": {},
   "outputs": [],
   "source": [
    "#| export\n",
    "class ArcGrid:\n",
    "    \"A single ARC grid\"\n",
    "    # Class-level color mapping\n",
    "    _colors = ['black', 'blue', 'red', 'green', 'yellow', 'grey', 'pink', 'orange', 'cyan', 'brown']\n",
    "    _color_mapping = {i: color for i, color in enumerate(_colors)}\n",
    "    \n",
    "    def __init__(self,\n",
    "                 data: np.ndarray  # 2d array of integers (0–9)\n",
    "                ):\n",
    "        if not isinstance(data, np.ndarray):\n",
    "            data = np.array(data)\n",
    "        if data.ndim != 2:\n",
    "            raise ValueError(\"Data must be a 2D array\")\n",
    "        if not np.issubdtype(data.dtype, np.integer):\n",
    "            raise ValueError(\"Data must contain integers\")\n",
    "        if not ((data >= 0) & (data <= 9)).all():\n",
    "            raise ValueError(\"Data values must be between 0 and 9\")\n",
    "        if data.shape[0] > 30 or data.shape[1] > 30:\n",
    "            raise ValueError(\"Data dimensions cannot exceed 30\")\n",
    "        \n",
    "        self.data = data\n",
    "        self.shape = data.shape\n",
    "\n",
    "    def __str__(self): return f\"Grid(shape={self.data.shape})\"\n",
    "    __repr__ = __str__\n",
    "\n",
    "    def plot(self,\n",
    "             ax: plt.Axes|None = None,  # matplotlib `Axes` object to plot on\n",
    "             title: str|None = None,  # title for the plot\n",
    "             max_width: int|None = None,  # maximum width for consistent sizing across multiple grids\n",
    "             max_height: int|None = None,  # maximum height for consistent sizing across multiple grids\n",
    "             to_base64: bool = False,  # If True, returns plot image as base64 string\n",
    "             **kwargs  # \n",
    "            ):\n",
    "        \"Plot a single ARC grid\"\n",
    "        created_fig = ax is None\n",
    "        if created_fig: fig, ax = plt.subplots(figsize=(4, 4))\n",
    "        else: fig = ax.figure\n",
    "\n",
    "        max_width = self.shape[1] if max_width is None else max_width\n",
    "        max_height = self.shape[0] if max_height is None else max_height\n",
    "\n",
    "        self._setup_ax(ax, max_width, max_height, title)\n",
    "        self._draw_grid(ax, max_width, max_height)\n",
    "\n",
    "        if created_fig and to_base64:\n",
    "            buffer = io.BytesIO()\n",
    "            fig.savefig(buffer, format='png', bbox_inches='tight', \n",
    "                       facecolor='white', transparent=False, **kwargs)\n",
    "            plt.close(fig)\n",
    "            buffer.seek(0)\n",
    "            image_bytes = buffer.getvalue()\n",
    "            buffer.close()\n",
    "            return image_bytes # base64.b64encode(image_bytes).decode()\n",
    "        elif created_fig:\n",
    "            plt.show()\n",
    "            return None\n",
    "        return ax\n",
    "\n",
    "    def _setup_ax(self, ax: plt.Axes, max_width: int, max_height: int, title: Optional[str] = None) -> None:\n",
    "        \"\"\"Set up a matplotlib axis for grid plotting\"\"\"\n",
    "        ax.set_xlim(0, max_width)\n",
    "        ax.set_ylim(max_height, 0)\n",
    "        ax.set_aspect('equal')\n",
    "        if title:\n",
    "            ax.set_title(title)\n",
    "        \n",
    "        ax.set_xticks([])\n",
    "        ax.set_yticks([])\n",
    "        ax.patch.set_alpha(0.0)\n",
    "        \n",
    "        for spine in ax.spines.values():\n",
    "            spine.set_visible(False)\n",
    "\n",
    "    def _draw_grid(self, ax: plt.Axes, max_width: int, max_height: int) -> None:\n",
    "        \"\"\"Draw the grid cells and lines\"\"\"\n",
    "        # Draw cells\n",
    "        for row in range(self.shape[0]):\n",
    "            for col in range(self.shape[1]):\n",
    "                color_index = self.data[row, col]\n",
    "                cell_color = self._color_mapping[color_index]\n",
    "                ax.add_patch(plt.Rectangle((col, row), 1, 1,\n",
    "                                           facecolor=cell_color,\n",
    "                                           edgecolor='none'))\n",
    "\n",
    "        # Draw grid lines\n",
    "        for x in range(self.shape[1] + 1):\n",
    "            ax.axvline(x, color='w', linewidth=1.5,\n",
    "                       ymin=(max_height-self.shape[0])/max_height, ymax=1)\n",
    "        for y in range(self.shape[0] + 1):\n",
    "            ax.axhline(y, color='w', linewidth=1.5,\n",
    "                       xmin=0, xmax=self.shape[1]/max_width)"
   ]
  },
  {
   "cell_type": "markdown",
   "metadata": {},
   "source": [
    "Each ARC task is made up of pairs of input and output \"grids\", which are 2-d arrays/matrices of integers"
   ]
  },
  {
   "cell_type": "markdown",
   "metadata": {},
   "source": [
    "This class stores a single ARC grid as a numpy array. We can then easily visualise the grid using the `plot()` method"
   ]
  },
  {
   "cell_type": "code",
   "execution_count": null,
   "metadata": {},
   "outputs": [
    {
     "data": {
      "text/plain": [
       "Grid(shape=(4, 4))"
      ]
     },
     "execution_count": null,
     "metadata": {},
     "output_type": "execute_result"
    }
   ],
   "source": [
    "in_arr = np.random.randint(0,9, (4,4))\n",
    "in_grid = ArcGrid(in_arr); in_grid"
   ]
  },
  {
   "cell_type": "code",
   "execution_count": null,
   "metadata": {},
   "outputs": [
    {
     "data": {
      "image/png": "[encoded data removed]",
      "text/plain": [
       "<Figure size 400x400 with 1 Axes>"
      ]
     },
     "metadata": {},
     "output_type": "display_data"
    }
   ],
   "source": [
    "in_grid.plot()"
   ]
  },
  {
   "cell_type": "markdown",
   "metadata": {},
   "source": [
    "The `plot` method also supports returning the base64-encoded string of the image directly"
   ]
  },
  {
   "cell_type": "code",
   "execution_count": null,
   "metadata": {},
   "outputs": [
    {
     "name": "stdout",
     "output_type": "stream",
     "text": [
      "Base64 string: 'b'\\x89PNG\\r\\n\\x1a\\n\\x00\\x00\\x00\\rIHDR\\x00\\x00\\x01H'...'\n"
     ]
    }
   ],
   "source": [
    "print(f\"Base64 string: '{in_grid.plot(to_base64=True)[:20]}...'\")"
   ]
  },
  {
   "cell_type": "markdown",
   "metadata": {},
   "source": [
    "ArcGrids support equality checks, making it easy to test predicted grids"
   ]
  },
  {
   "cell_type": "code",
   "execution_count": null,
   "metadata": {},
   "outputs": [],
   "source": [
    "#| exporti\n",
    "@patch\n",
    "def __eq__(self: ArcGrid, other: ArcGrid) -> bool:\n",
    "    return np.array_equal(self.data, other.data)"
   ]
  },
  {
   "cell_type": "code",
   "execution_count": null,
   "metadata": {},
   "outputs": [],
   "source": [
    "assert in_grid != ArcGrid(np.ones((3,3), dtype=int))\n",
    "assert in_grid == ArcGrid(in_arr)"
   ]
  },
  {
   "cell_type": "code",
   "execution_count": null,
   "metadata": {},
   "outputs": [],
   "source": [
    "#| export\n",
    "class ArcPair:\n",
    "    \"A pair of ARC grids, typically [input, output]. Can also be used for [output, prediction]\"\n",
    "    def __init__(self,\n",
    "                 input_grid: ArcGrid|np.ndarray,  # Input grid\n",
    "                 output_grid: ArcGrid|np.ndarray,  # Output grid\n",
    "                ):\n",
    "        self.input = input_grid if isinstance(input_grid, ArcGrid) else ArcGrid(input_grid)\n",
    "        self.output = output_grid if isinstance(output_grid, ArcGrid) else ArcGrid(output_grid)\n",
    "\n",
    "    def __str__(self):\n",
    "        return f\"ArcPair(input_shape={self.input.data.shape}, output_shape={self.output.data.shape})\"\n",
    "    __repr__ = __str__\n",
    "\n",
    "    def __iter__(self):\n",
    "        yield self.input\n",
    "        yield self.output\n",
    "\n",
    "    def __getitem__(self, key: Union[int, str]) -> ArcGrid:\n",
    "        if isinstance(key, int):\n",
    "            if key == 0: return self.input\n",
    "            elif key == 1: return self.output\n",
    "            else: raise IndexError(\"Index out of range. Only indices 0 and 1 are valid.\")\n",
    "        elif isinstance(key, str):\n",
    "            if key == 'input': return self.input\n",
    "            elif key == 'output': return self.output\n",
    "            else: raise KeyError(\"Key must be either 'input' or 'output'.\")\n",
    "        else:\n",
    "            raise TypeError(\"Key must be an integer (0 or 1) or string ('input' or 'output')\")\n",
    "\n",
    "    def __len__(self):\n",
    "        return 2\n",
    "        \n",
    "    def plot(self,\n",
    "            titles: List[str] = ['Input', 'Output'],\n",
    "            same_scale: bool = True,\n",
    "            fig: Optional[plt.Figure] = None,\n",
    "            subplot_spec: Optional[GridSpec] = None,\n",
    "            to_base64: bool = False,\n",
    "            **kwargs) -> Union[None, Tuple[plt.Figure, List[plt.Axes]], str]:\n",
    "        \"\"\"Plot the input-output pair side by side\"\"\"\n",
    "        if same_scale:\n",
    "            max_width = max(self.input.shape[1], self.output.shape[1])\n",
    "            max_height = max(self.input.shape[0], self.output.shape[0])\n",
    "        else:\n",
    "            max_width = max_height = None\n",
    "    \n",
    "        # Create figure or get subplot region\n",
    "        if fig is None:\n",
    "            fig = plt.figure(figsize=(8, 4))  # Fixed size for pairs\n",
    "            # fig.patch.set_facecolor('#F0F0F0')\n",
    "            fig.patch.set_alpha(0.0)\n",
    "            gs = GridSpec(1, 2, figure=fig, wspace=0.3)\n",
    "        else:\n",
    "            gs = GridSpecFromSubplotSpec(1, 2, subplot_spec=subplot_spec, wspace=0.3)\n",
    "    \n",
    "        # Create axes and plot grids\n",
    "        axes = []\n",
    "        for i, (grid, title) in enumerate(zip([self.input, self.output], titles)):\n",
    "            ax = fig.add_subplot(gs[0, i])\n",
    "            grid.plot(ax=ax, title=title, max_width=max_width, max_height=max_height)\n",
    "            axes.append(ax)\n",
    "    \n",
    "        # Add separator if this is a standalone plot\n",
    "        if subplot_spec is None:\n",
    "            self._create_separator(fig, axes[0].get_position(), axes[1].get_position())\n",
    "            if to_base64:\n",
    "                buffer = io.BytesIO()\n",
    "                fig.savefig(buffer, format='png', bbox_inches='tight',\n",
    "                           # facecolor='#F0F0F0', transparent=False,\n",
    "                            **kwargs)\n",
    "                plt.close(fig)\n",
    "                buffer.seek(0)\n",
    "                image_bytes = buffer.getvalue()\n",
    "                buffer.close()\n",
    "                return image_bytes  #base64.b64encode(image_bytes).decode()\n",
    "            else:\n",
    "                plt.show()\n",
    "                return None\n",
    "    \n",
    "        return fig, axes\n",
    "\n",
    "    @staticmethod\n",
    "    def _create_separator(fig: plt.Figure, bbox1: Bbox, bbox2: Bbox) -> None:\n",
    "        \"\"\"Create a separator line between two subplots\"\"\"\n",
    "        middle_x = (bbox1.x1 + bbox2.x0) / 2\n",
    "        line = plt.Line2D([middle_x, middle_x], [0.2, 0.8],\n",
    "                         transform=fig.transFigure,\n",
    "                         color='black',\n",
    "                         linewidth=1)\n",
    "        fig.add_artist(line)"
   ]
  },
  {
   "cell_type": "code",
   "execution_count": null,
   "metadata": {},
   "outputs": [
    {
     "data": {
      "image/png": "[encoded data removed]",
      "text/plain": [
       "<Figure size 800x400 with 2 Axes>"
      ]
     },
     "metadata": {},
     "output_type": "display_data"
    }
   ],
   "source": [
    "out_arr = np.random.randint(0, 9, (16,16))\n",
    "pair = ArcPair(in_grid, ArcGrid(out_arr))\n",
    "pair.plot()"
   ]
  },
  {
   "cell_type": "markdown",
   "metadata": {},
   "source": [
    "The output grids in ARC tasks are often a different size to the input grids. When plotting pairs of grids, we can specify whether we want the grids to be on the same scale (i.e. one cell is equal size in both plots) or whether to rescale each grid to fill its half of the plot."
   ]
  },
  {
   "cell_type": "code",
   "execution_count": null,
   "metadata": {},
   "outputs": [
    {
     "data": {
      "image/png": "[encoded data removed]",
      "text/plain": [
       "<Figure size 800x400 with 2 Axes>"
      ]
     },
     "metadata": {},
     "output_type": "display_data"
    }
   ],
   "source": [
    "pair.plot(same_scale=False)"
   ]
  },
  {
   "cell_type": "code",
   "execution_count": null,
   "metadata": {},
   "outputs": [],
   "source": [
    "#| export\n",
    "class ArcTask:\n",
    "    \"An ARC task\"\n",
    "    def __init__(self,\n",
    "                 task_id: str,  # 8-digit task id\n",
    "                 split: str = 'train',  # ARC public dataset split ('train' or 'eval')\n",
    "                 data_dir: str|Path|None = None  # Path to ARC data directory (defaults to `'/path/to/arcsolver/arc_data/data'`)\n",
    "                ):\n",
    "        if split not in ['train', 'eval']:\n",
    "            raise ValueError(\"`split` must be either 'train' or 'eval'\")\n",
    "        if data_dir is None:\n",
    "            # file = Path(__file__).resolve()\n",
    "            data_split = 'training' if split == 'train' else 'evaluation'\n",
    "            data_dir = module_dir.parent / f\"arc_data/data/{data_split}\"\n",
    "        \n",
    "        self.task_id, self.split, self.data_dir = task_id, split, Path(data_dir)\n",
    "        self.train, self.test = self._load_data()\n",
    "\n",
    "    def _load_data(self):\n",
    "        with open(self.data_dir / f\"{self.task_id}.json\", 'r') as f:\n",
    "            task_data = json.load(f)\n",
    "        \n",
    "        return ([ArcPair(np.array(example['input']), np.array(example['output']))\n",
    "                 for example in task_data[split]]\n",
    "                for split in ('train', 'test'))\n",
    "    \n",
    "    def __str__(self) -> str:\n",
    "        return (f\"ArcTask(id='{self.task_id}', \"\n",
    "                f\"train_examples={len(self.train)}, \"\n",
    "                f\"test_examples={len(self.test)})\")\n",
    "    __repr__ = __str__\n",
    "    \n",
    "    def plot(self,\n",
    "             same_scale: bool = True,\n",
    "             to_base64: bool = False,\n",
    "             **kwargs) -> Union[None, str]:\n",
    "        \"\"\"Plot all training examples in the task\"\"\"\n",
    "        n_examples = len(self.train)\n",
    "    \n",
    "        if n_examples == 0:\n",
    "            print(\"No training examples available\")\n",
    "            return None\n",
    "    \n",
    "        # Fixed width, height scales with number of examples\n",
    "        fig_width = 8  # Fixed width\n",
    "        fig_height = 4 * n_examples  # Each example gets fixed height\n",
    "    \n",
    "        # Create figure and grid of subplots\n",
    "        fig = plt.figure(figsize=(fig_width, fig_height))\n",
    "        # fig.suptitle(f'Task {self.task_id} - Training Examples', y=0.98)\n",
    "        # fig.patch.set_facecolor('#F0F0F0')\n",
    "        fig.patch.set_alpha(0.0)\n",
    "        \n",
    "        # Create vertical stack of subplots\n",
    "        gs = GridSpec(n_examples, 1, figure=fig, hspace=0.15)\n",
    "    \n",
    "        # Plot each training example\n",
    "        for i, pair in enumerate(self.train):\n",
    "            titles = [f'Example {i+1} Input', f'Example {i+1} Output']\n",
    "            pair.plot(titles=titles, same_scale=same_scale,\n",
    "                     fig=fig, subplot_spec=gs[i])\n",
    "    \n",
    "        if to_base64:\n",
    "            buffer = io.BytesIO()\n",
    "            fig.savefig(buffer, format='png', bbox_inches='tight',\n",
    "                       # facecolor='#F0F0F0', transparent=False, \n",
    "                        **kwargs)\n",
    "            plt.close(fig)\n",
    "            buffer.seek(0)\n",
    "            image_bytes = buffer.getvalue()\n",
    "            buffer.close()\n",
    "            return image_bytes  # base64.b64encode(image_bytes).decode()\n",
    "        else:\n",
    "            plt.show()\n",
    "            return None"
   ]
  },
  {
   "cell_type": "code",
   "execution_count": null,
   "metadata": {},
   "outputs": [
    {
     "data": {
      "text/plain": [
       "ArcTask(id='c8cbb738', train_examples=3, test_examples=1)"
      ]
     },
     "execution_count": null,
     "metadata": {},
     "output_type": "execute_result"
    }
   ],
   "source": [
    "t = [f.split('.')[0] for f in os.listdir('../arc_data/data/training')][1]\n",
    "task = ArcTask(t); task"
   ]
  },
  {
   "cell_type": "markdown",
   "metadata": {},
   "source": [
    "An `ArcTask` stores the training and test examples, each as a list of `ArcPair` objects."
   ]
  },
  {
   "cell_type": "code",
   "execution_count": null,
   "metadata": {},
   "outputs": [
    {
     "data": {
      "text/plain": [
       "[ArcPair(input_shape=(12, 11), output_shape=(5, 5)),\n",
       " ArcPair(input_shape=(10, 8), output_shape=(3, 3)),\n",
       " ArcPair(input_shape=(12, 14), output_shape=(5, 5))]"
      ]
     },
     "execution_count": null,
     "metadata": {},
     "output_type": "execute_result"
    }
   ],
   "source": [
    "task.train"
   ]
  },
  {
   "cell_type": "code",
   "execution_count": null,
   "metadata": {},
   "outputs": [
    {
     "data": {
      "image/png": "[encoded data removed]",
      "text/plain": [
       "<Figure size 800x1200 with 6 Axes>"
      ]
     },
     "metadata": {},
     "output_type": "display_data"
    }
   ],
   "source": [
    "task.plot()"
   ]
  },
  {
   "cell_type": "markdown",
   "metadata": {},
   "source": [
    "Again, we can choose whether to rescale the plots"
   ]
  },
  {
   "cell_type": "code",
   "execution_count": null,
   "metadata": {},
   "outputs": [
    {
     "data": {
      "image/png": "[encoded data removed]",
      "text/plain": [
       "<Figure size 800x1200 with 6 Axes>"
      ]
     },
     "metadata": {},
     "output_type": "display_data"
    }
   ],
   "source": [
    "task.plot(same_scale=False)"
   ]
  },
  {
   "cell_type": "code",
   "execution_count": null,
   "metadata": {},
   "outputs": [],
   "source": [
    "#| export\n",
    "#| eval: false\n",
    "# Let's store the training and eval test ids so they can be easily used elsewhere\n",
    "train_tasks = [f.split('.json')[0] for f in os.listdir(module_dir.parent / \"arc_data/data/training\")]\n",
    "eval_tasks = [f.split('.json')[0] for f in os.listdir(module_dir.parent / \"arc_data/data/evaluation\")]"
   ]
  },
  {
   "cell_type": "code",
   "execution_count": null,
   "metadata": {},
   "outputs": [],
   "source": [
    "#| hide\n",
    "import nbdev; nbdev.nbdev_export()"
   ]
  },
  {
   "cell_type": "code",
   "execution_count": null,
   "metadata": {},
   "outputs": [],
   "source": []
  }
 ],
 "metadata": {
  "kernelspec": {
   "display_name": "python3",
   "language": "python",
   "name": "python3"
  }
 },
 "nbformat": 4,
 "nbformat_minor": 4
}
