{
 "cells": [
  {
   "cell_type": "code",
   "execution_count": null,
   "id": "d888b6c0-2485-4230-9725-81b886325061",
   "metadata": {},
   "outputs": [],
   "source": [
    "#| default_exp solve"
   ]
  },
  {
   "attachments": {},
   "cell_type": "markdown",
   "id": "d08b928a-4ce8-463a-a374-3cb3ba7813cf",
   "metadata": {},
   "source": [
    "# solve\n",
    "\n",
    "> Use Claude to solve a given ARC task"
   ]
  },
  {
   "attachments": {},
   "cell_type": "markdown",
   "id": "ba26fd27-39ad-4b45-80ed-a29d8059418e",
   "metadata": {},
   "source": [
    "This module implements a solver agent that generates, validates and tests candidate solutions to a given task, then iteratively attempts to refine its solutions based on execution and prediction error feedback.\n",
    "The solver carries out the following process:\n",
    "\n",
    "1. Analyse the task and generate `n` descriptions concurrently (using the direct or indirect method or a combination)\n",
    "2. Based on these, generate `n` candidate solutions concurrently using the OCM framework\n",
    "   - During generation, solutions are automatically parsed and validated for syntax errors\n",
    "3. In isolated python subprocesses, run all solutions against the task data in parallel, constructing output grid predictions\n",
    "4. Calculate scores for all solutions based on cell-wise accuracy\n",
    "5. If any solutions correctly predict all train examples:\n",
    "   - Validate against the test example and return if successful\n",
    "6. Else:\n",
    "   - Construct a feedback prompt for Claude, including any execution errors and an image of the true vs predicted grids\n",
    "7. Repeat up to a max number of attempts"
   ]
  },
  {
   "cell_type": "code",
   "execution_count": null,
   "id": "bb4e305b-bf38-4d01-a512-655ce6b1b9e4",
   "metadata": {},
   "outputs": [],
   "source": [
    "#| hide\n",
    "from nbdev.showdoc import *\n",
    "import nest_asyncio"
   ]
  },
  {
   "cell_type": "code",
   "execution_count": null,
   "id": "6f08a1e2-ae6c-4a63-9eda-03602c33fa4f",
   "metadata": {},
   "outputs": [],
   "source": [
    "#| export\n",
    "from arcsolver.task import ArcTask, train_tasks, ArcGrid, ArcPair\n",
    "from arcsolver.describe import Description, DescriptionGenerator, _create_chat, _create_client\n",
    "from arcsolver.utils import parse_from_xml, TagNotFoundError, NoContentError, MultipleTagsError\n",
    "from arcsolver.score import score as _score\n",
    "from arcsolver.examples import examples\n",
    "from claudette import *\n",
    "from fastcore.utils import *\n",
    "from fastcore.meta import *\n",
    "from anthropic import AsyncAnthropicBedrock\n",
    "import asyncio\n",
    "import numpy as np\n",
    "from dataclasses import dataclass, field\n",
    "from typing import List, Optional, Set, Dict, Callable\n",
    "import ast\n",
    "from concurrent.futures import ProcessPoolExecutor\n",
    "import subprocess\n",
    "import tempfile\n",
    "from pathlib import Path\n",
    "import pickle\n",
    "import textwrap\n",
    "import base64\n",
    "import sys\n",
    "import logging\n",
    "import random\n",
    "import importlib.resources as resources\n",
    "from treelib import Tree"
   ]
  },
  {
   "cell_type": "code",
   "execution_count": null,
   "id": "ff2eb2de-8895-48c2-b69b-962904c1c324",
   "metadata": {},
   "outputs": [],
   "source": [
    "#| exporti\n",
    "module_dir = resources.files('arcsolver')"
   ]
  },
  {
   "cell_type": "code",
   "execution_count": null,
   "id": "ccac4b7f-905f-46b8-b76d-0e343667b567",
   "metadata": {},
   "outputs": [],
   "source": [
    "#| hide\n",
    "random.seed(42)\n",
    "nest_asyncio.apply()"
   ]
  },
  {
   "cell_type": "code",
   "execution_count": null,
   "id": "49ab94f6-26a9-41e4-afb8-05cdac4ea200",
   "metadata": {},
   "outputs": [
    {
     "data": {
      "text/plain": [
       "'claude-3-5-sonnet-20241022'"
      ]
     },
     "execution_count": null,
     "metadata": {},
     "output_type": "execute_result"
    }
   ],
   "source": [
    "model = models[1]; model"
   ]
  },
  {
   "cell_type": "code",
   "execution_count": null,
   "id": "1364c026-3930-4b86-8b13-00c7cb3be60b",
   "metadata": {},
   "outputs": [],
   "source": [
    "#| hide\n",
    "# our inference profile puts a 'us.' before the model name for some reason\n",
    "model = models_aws[1]\n",
    "model = 'us.' + model"
   ]
  },
  {
   "cell_type": "code",
   "execution_count": null,
   "id": "adaf6a75-7e47-4106-8839-b4ebd280166f",
   "metadata": {},
   "outputs": [
    {
     "name": "stdout",
     "output_type": "stream",
     "text": [
      "Task: ae3edfdc\n",
      "\n"
     ]
    },
    {
     "data": {
      "image/png": "[encoded data removed]",
      "text/plain": [
       "<Figure size 800x1200 with 6 Axes>"
      ]
     },
     "metadata": {},
     "output_type": "display_data"
    }
   ],
   "source": [
    "#| hide\n",
    "t = random.choice(train_tasks)\n",
    "task = ArcTask(t)\n",
    "print(f\"Task: {t}\\n\")\n",
    "task.plot()"
   ]
  },
  {
   "cell_type": "code",
   "execution_count": null,
   "id": "9df81e07-cd4a-4248-9828-2269b3487922",
   "metadata": {},
   "outputs": [
    {
     "name": "stdout",
     "output_type": "stream",
     "text": [
      "The input grid contains scattered colored pixels (green, red, orange, and blue) on a black background. The transformation creates two types of color clusters: red-green pairs align vertically with red above green, while orange-blue pairs arrange diagonally. Any colored pixels not forming these specific paired arrangements remain in their original positions. The output preserves the essential color relationships while minimizing the distance between paired colors.\n"
     ]
    }
   ],
   "source": [
    "#| hide\n",
    "#| eval: false\n",
    "# First, generate descriptions of the task\n",
    "describer = DescriptionGenerator(model)\n",
    "ds = await describer.describe_task(task, n_direct=2, n_indirect=1)\n",
    "print(ds[0].d)"
   ]
  },
  {
   "attachments": {},
   "cell_type": "markdown",
   "id": "9757e9d5-b636-4e51-989d-bdbdd48646c6",
   "metadata": {},
   "source": [
    "::: {.content-hidden}\n",
    "\n",
    "We'll construct a system prompt that tells Claude to define input and output grid models based on the task description.\n",
    "\n",
    ":::"
   ]
  },
  {
   "cell_type": "code",
   "execution_count": null,
   "id": "443433f6-00da-4b7a-b05b-52bab80f4609",
   "metadata": {},
   "outputs": [],
   "source": [
    "#| export\n",
    "#| eval: false\n",
    "ocm = (module_dir/'ocm_cleaned.py').read_text()\n",
    "sp_solve = f\"\"\"\\\n",
    "You are an AI assistant specializing in solving Abstraction and Reasoning Corpus (ARC) challenges. \\\n",
    "Each unique ARC \"task\" consists of example input/output grid pairs demonstrating a transformation pattern. \\\n",
    "For a given ARC task, the user will provide a natural language description, i.e. the properties of the grids, what objects/patterns appear in them \\\n",
    "and how an output grid relates to its input grid for that task. \\\n",
    "Your goal is to help define object-centric models for the task using the following set of primitive classes and helper functions:\n",
    "\n",
    "<existing_primitives>\n",
    "```python\n",
    "{ocm.split('class CyclicPattern')[0].strip()}\n",
    "```\n",
    "</existing_primitives>\n",
    "\n",
    "# Core Principles\n",
    "Focus on simple, robust solutions over complex algorithms.\n",
    "The default approach should be to solve tasks using ONLY the existing primitives. \\\n",
    "However, you may propose new primitives that would be widely applicable across various ARC tasks. \\\n",
    "New primitives should be proposed only when the functionality is truly fundamental and would be valuable \\\n",
    "across many different types of ARC tasks. You should be able to clearly justify why this functionality belongs \\\n",
    "as a primitive rather than in the models.\n",
    "\n",
    "The following are NEVER valid reasons to create new primitives:\n",
    "- Task-specific shape detection or creation\n",
    "- One-off color transformations\n",
    "- Special case handling for specific patterns\n",
    "- Complex algorithms that only apply to a narrow set of tasks\n",
    "- Functionality that combines multiple operations in a task-specific way\n",
    "- Logic that could reasonably be implemented in the input/output models\n",
    "\n",
    "Remember: The input and output models are where task-specific logic belongs. \\\n",
    "Your first instinct should always be to solve the task using existing primitives \\\n",
    "and encoding any special logic in the models themselves. You can use static methods if helpful.\n",
    "\n",
    "# Response Format\n",
    "\n",
    "<reasoning>\n",
    "This is where you can break down your observations, reasoning, and alternative explanations in detail.\n",
    "\n",
    "1. Pattern & Transformation Analysis\n",
    "   - Grid properties (size, colors, background)\n",
    "   - Key objects and patterns\n",
    "   - Required transformations\n",
    "   \n",
    "2. Shape Extraction & Representation\n",
    "   - How to extract objects\n",
    "   - Which primitives to use\n",
    "   - Edge cases to consider\n",
    "\n",
    "3. Implementation Strategy\n",
    "   - Input model approach\n",
    "   - Output model logic\n",
    "   - New primitive justification (if needed)\n",
    "\n",
    "It's OK for this section to be quite long, as thorough analysis is crucial for developing a robust solution.\n",
    "</reasoning>\n",
    "\n",
    "<new_primitives>\n",
    "Only if meeting all criteria above. Otherwise leave empty.\n",
    "```python\n",
    "# New primitive code\n",
    "```\n",
    "</new_primitives>\n",
    "\n",
    "<input_model>\n",
    "```python\n",
    "class InputModel(Grid):\n",
    "    \\\"\\\"\\\"Input grid model with from_array method\\\"\\\"\\\"\n",
    "```\n",
    "</input_model>\n",
    "\n",
    "<output_model>\n",
    "```python\n",
    "class OutputModel(Grid):\n",
    "    \\\"\\\"\\\"Output grid model with from_input method\\\"\\\"\\\"\n",
    "```\n",
    "</output_model>\n",
    "\n",
    "# Key Requirements\n",
    "1. Input model must fully reconstruct original array: `InputModel.from_array(arr).to_array() == arr`\n",
    "2. Output model must implement transformation logic\n",
    "3. Prefer simple solutions over complex algorithms\n",
    "\n",
    "This is an iterative process. The user will feed back execution or prediction errors, if any. \\\n",
    "Learn from each attempt and refine your approach accordingly.\\\n",
    "\"\"\""
   ]
  },
  {
   "cell_type": "code",
   "execution_count": null,
   "id": "2dff0540-3dbb-4a0b-bb7b-da54348f79b2",
   "metadata": {},
   "outputs": [],
   "source": [
    "#| export\n",
    "@dataclass\n",
    "class Solution:\n",
    "    \"Code components of a single ARC solution attempt.\"\n",
    "    reasoning: str            # Reasoning process\n",
    "    new_primitives: str       # Any new primitive classes defined\n",
    "    input_model: str          # InputModel class code\n",
    "    output_model: str         # OutputModel class code\n",
    "    \n",
    "    @property\n",
    "    def full_code(self) -> str:\n",
    "        \"Concatenates the code components in the correct order.\"\n",
    "        return f\"{self.new_primitives}\\n\\n{self.input_model}\\n\\n{self.output_model}\"\n",
    "\n",
    "    @classmethod\n",
    "    def from_response(cls, r: str) -> 'Solution':\n",
    "        \"Parse Claude's response text into a `Solution` object.\"\n",
    "        try:\n",
    "            new_prims = parse_from_xml(r, 'new_primitives')\n",
    "        except (TagNotFoundError, NoContentError):\n",
    "            new_prims = ''\n",
    "        return cls(\n",
    "            reasoning=parse_from_xml(r, 'reasoning'),\n",
    "            new_primitives=new_prims,\n",
    "            input_model=parse_from_xml(r, 'input_model'),\n",
    "            output_model=parse_from_xml(r, 'output_model'),\n",
    "        )"
   ]
  },
  {
   "attachments": {},
   "cell_type": "markdown",
   "id": "bf9a0111-d3fc-4638-a6d9-284ed3854d74",
   "metadata": {},
   "source": [
    "We use a system prompt that instructs Claude to respond with chain of thought reasoning, followed by its solution code, formatted using xml tags: <new_primitives> for proposed new OCM primitives for solving this and other ARC tasks, <input_model> for the input grid model and <output_model> for the output grid model. The `Solution` dataclass automatically parses the xml response and stores the various components."
   ]
  },
  {
   "attachments": {},
   "cell_type": "markdown",
   "id": "985c1d1a-d334-4cbc-aa42-6e3a88cc474e",
   "metadata": {},
   "source": [
    "This class will throw an exception if the xml parsing fails. We can also parse the generated code to check for syntax errors.\n",
    "\n",
    "Before running the code, we can use `ast` to validate that it contains the correct model names, class methods etc. and doesn't raise syntax errors."
   ]
  },
  {
   "cell_type": "code",
   "execution_count": null,
   "id": "aa8587d8-e57c-4a96-92d9-2c250c2ace01",
   "metadata": {},
   "outputs": [],
   "source": [
    "#| exporti\n",
    "class ValidationError(SyntaxError):\n",
    "    \"Custom validation error that behaves like SyntaxError for clean tracebacks\"\n",
    "    pass"
   ]
  },
  {
   "cell_type": "code",
   "execution_count": null,
   "id": "80f1c6b2-9fa3-4d1e-899a-da6a3cd5e1b8",
   "metadata": {},
   "outputs": [],
   "source": [
    "#| export\n",
    "class CodeValidator:\n",
    "    \"Validates that ARC solution code has required classes and methods\"\n",
    "    \n",
    "    @staticmethod\n",
    "    def format_syntax_error(code: str, e: SyntaxError) -> str:\n",
    "        \"Formats a syntax error with context\"\n",
    "        lineno = getattr(e, 'lineno', 1)\n",
    "        lines = code.splitlines()\n",
    "        \n",
    "        # Show a few lines before and after the error\n",
    "        start = max(0, lineno - 3)\n",
    "        end = min(len(lines), lineno + 2)\n",
    "        \n",
    "        # Build error message with context\n",
    "        msg = [f\"Syntax error: {str(e)}\"]\n",
    "        for i in range(start, end):\n",
    "            prefix = '→ ' if i + 1 == lineno else '  '\n",
    "            msg.append(f\"{prefix}{i + 1:4d} | {lines[i]}\")\n",
    "            if i + 1 == lineno and hasattr(e, 'offset') and e.offset:\n",
    "                msg.append(f\"       {' ' * e.offset}^\")\n",
    "        \n",
    "        return '\\n'.join(msg)\n",
    "    \n",
    "    @staticmethod\n",
    "    def validate(code: str) -> None:\n",
    "        \"\"\"\n",
    "        Validates ARC solution code structure.\n",
    "        Raises ValidationError if requirements not met.\n",
    "        \"\"\"\n",
    "        code = textwrap.dedent(code).strip()\n",
    "        \n",
    "        try:\n",
    "            tree = ast.parse(code)\n",
    "        except SyntaxError as e:\n",
    "            msg = CodeValidator.format_syntax_error(code, e)\n",
    "            raise ValidationError(msg) from None  # from None suppresses the context\n",
    "            \n",
    "        # Find all classes and their methods\n",
    "        classes = {\n",
    "            node.name: {\n",
    "                'bases': [base.id for base in node.bases if isinstance(base, ast.Name)],\n",
    "                'methods': {\n",
    "                    n.name for n in node.body \n",
    "                    if isinstance(n, ast.FunctionDef) and \n",
    "                    any(isinstance(d, ast.Name) and d.id == 'classmethod' or\n",
    "                        isinstance(d, ast.Call) and isinstance(d.func, ast.Name) and d.func.id == 'classmethod'\n",
    "                        for d in n.decorator_list)\n",
    "                }\n",
    "            }\n",
    "            for node in ast.walk(tree) \n",
    "            if isinstance(node, ast.ClassDef)\n",
    "        }\n",
    "        \n",
    "        # Validate InputModel\n",
    "        if 'InputModel' not in classes:\n",
    "            raise ValidationError(\"Missing InputModel class\")\n",
    "        if 'Grid' not in classes['InputModel']['bases']:\n",
    "            raise ValidationError(\"InputModel must inherit from Grid\")\n",
    "        if 'from_array' not in classes['InputModel']['methods']:\n",
    "            raise ValidationError(\"InputModel missing @classmethod from_array\")\n",
    "            \n",
    "        # Validate OutputModel\n",
    "        if 'OutputModel' not in classes:\n",
    "            raise ValidationError(\"Missing OutputModel class\")\n",
    "        if 'Grid' not in classes['OutputModel']['bases']:\n",
    "            raise ValidationError(\"OutputModel must inherit from Grid\")\n",
    "        if 'from_input' not in classes['OutputModel']['methods']:\n",
    "            raise ValidationError(\"OutputModel missing @classmethod from_input\")"
   ]
  },
  {
   "attachments": {},
   "cell_type": "markdown",
   "id": "4dcaa6ad-4feb-45cb-8d19-c40228c36b69",
   "metadata": {},
   "source": [
    "Let's test it out. To encourage the correct code format, we'll insert a few examples into the chat history."
   ]
  },
  {
   "cell_type": "code",
   "execution_count": null,
   "id": "913dad91-bfba-4f87-819c-5da16fa5edd5",
   "metadata": {},
   "outputs": [],
   "source": [
    "#| eval: false\n",
    "chat = AsyncChat(model, sp=sp_solve)\n",
    "for e in examples:\n",
    "    chat.h.append(e.description)\n",
    "    chat.h.append((f\"<reasoning>\\n{e.reasoning}\\n</reasoning>\\n\\n<new_primitives>\\n{e.new_primitives}\\n\"\n",
    "                   f\"</new_primitives>\\n\\n<input_model>\\n{e.input_model}\\n</input_model>\\n\\n\"\n",
    "                   f\"<output_model>\\n{e.output_model}\\n</output_model>\"))\n",
    "\n",
    "r = await chat(\n",
    "    mk_msg(ds[0].d, cache=True),\n",
    "    prefill='<reasoning>', temp=0.6, stop='</output_model>'\n",
    ")\n",
    "if r.stop_reason == 'stop_sequence': r.content[0].text += '</output_model>'"
   ]
  },
  {
   "cell_type": "code",
   "execution_count": null,
   "id": "433f4192-8782-40e6-beb6-52605ccbc3d1",
   "metadata": {},
   "outputs": [],
   "source": [
    "#| eval: false\n",
    "chat = _create_chat(model, _create_client('bedrock', {}), sp=sp_solve)\n",
    "for e in examples:\n",
    "    chat.h.append(e.description)\n",
    "    chat.h.append((f\"<reasoning>\\n{e.reasoning}\\n</reasoning>\\n\\n<new_primitives>\\n{e.new_primitives}\\n\"\n",
    "                   f\"</new_primitives>\\n\\n<input_model>\\n{e.input_model}\\n</input_model>\\n\\n\"\n",
    "                   f\"<output_model>\\n{e.output_model}\\n</output_model>\"))\n",
    "\n",
    "r = await chat(\n",
    "    ds[0].d,\n",
    "    prefill=\"<reasoning>\", temp=0.6, stop='</output_model>'\n",
    ")\n",
    "if r.stop_reason == 'stop_sequence': r.content[0].text += '</output_model>'"
   ]
  },
  {
   "cell_type": "code",
   "execution_count": null,
   "id": "05c8cf61-3c28-4992-8d3d-b9ddb4762178",
   "metadata": {},
   "outputs": [
    {
     "name": "stdout",
     "output_type": "stream",
     "text": [
      "class InputModel(Grid):\n",
      "    \"\"\"Input grid model identifying colored pixels and their positions\"\"\"\n",
      "    @classmethod\n",
      "    def from_array(cls, arr: np.ndarray) -> 'InputModel':\n",
      "        # Extract positions of each color\n",
      "        objects = []\n",
      "        for color in [1, 2, 3, 7]:  # blue, red, green, orange\n",
      "            positions = np.where(arr == color)\n",
      "            for i, j in zip(positions[0], positions[1]):\n",
      "                objects.append(\n",
      "                    Bitmap(\n",
      "                        position=Vector(i=i, j=j),\n",
      "                        data=np.array([[color]])\n",
      "                    )\n",
      "                )\n",
      "        \n",
      "        return cls(\n",
      "            size=Vector(*arr.shape),\n",
      "            background_color=Color(0),\n",
      "            objects=objects\n",
      "        )\n",
      "\n",
      "    @property\n",
      "    def color_positions(self) -> dict:\n",
      "        \"\"\"Get positions of each color\"\"\"\n",
      "        positions = {\n",
      "            'red': [], 'green': [], \n",
      "            'orange': [], 'blue': []\n",
      "        }\n",
      "        \n",
      "        for obj in self.objects:\n",
      "            color = obj.data[0,0]\n",
      "            pos = obj.position\n",
      "            if color == 2:  # red\n",
      "                positions['red'].append(pos)\n",
      "            elif color == 3:  # green\n",
      "                positions['green'].append(pos)\n",
      "            elif color == 7:  # orange\n",
      "                positions['orange'].append(pos)\n",
      "            elif color == 1:  # blue\n",
      "                positions['blue'].append(pos)\n",
      "                \n",
      "        return positions\n"
     ]
    }
   ],
   "source": [
    "#| eval: false\n",
    "sol = Solution.from_response(r.content[0].text)\n",
    "CodeValidator.validate(sol.full_code)\n",
    "print(sol.input_model)"
   ]
  },
  {
   "attachments": {},
   "cell_type": "markdown",
   "id": "c79158d6-0626-479b-8fcf-a91dfa608c74",
   "metadata": {},
   "source": [
    "In fact, we can run this parsing and validating automatically and trigger retries if either fails. Let's patch a new chat method for this"
   ]
  },
  {
   "cell_type": "code",
   "execution_count": null,
   "id": "161ebaf0-d429-430b-9bbe-64909309aa4f",
   "metadata": {},
   "outputs": [],
   "source": [
    "#| export\n",
    "@patch\n",
    "@delegates(AsyncChat.__call__)\n",
    "async def codeloop(\n",
    "    self: AsyncChat,\n",
    "    pr: str,                                # Initial prompt to pass to Claude \n",
    "    max_attempts: int = 3,                  # Maximum number of retry attempts\n",
    "    prefill: str = \"<reasoning>\",           # Text to prefill assistant's response with\n",
    "    stop: str = '</output_model>',          # Stop sequence for generation\n",
    "    trace_func: Optional[callable] = None,  # Function to trace attempts (e.g. print)\n",
    "    **kwargs                                # Additional arguments passed to AsyncChat.__call__\n",
    ") -> Solution:                              # Validated solution attempt from Claude's response\n",
    "    \"Generate and validate solution code from Claude, automatically retrying on validation errors\"\n",
    "    \n",
    "    last_error = None\n",
    "    for attempt in range(max_attempts):\n",
    "        try:\n",
    "            # Get response from Claude\n",
    "            r = await self(pr, prefill=prefill, stop=stop, **kwargs)\n",
    "            if r.stop_reason == 'stop_sequence': r.content[0].text += stop\n",
    "                \n",
    "            # Try to parse and validate the response\n",
    "            solution = Solution.from_response(r.content[0].text)\n",
    "            CodeValidator.validate(solution.full_code)\n",
    "            \n",
    "            # If we get here, validation succeeded\n",
    "            if trace_func: trace_func(f\"Attempt {attempt + 1}: Success\")\n",
    "            return solution\n",
    "            \n",
    "        except (TagNotFoundError, MultipleTagsError, NoContentError) as e:\n",
    "            last_error = e\n",
    "            error_type = e.__class__.__name__\n",
    "            if trace_func: trace_func(f\"Attempt {attempt + 1}: {error_type} - {str(e)}\")\n",
    "            # Construct retry prompt for parsing error\n",
    "            pr = f\"Your previous response had an XML parsing error: {error_type} - {str(e)}\\nPlease try again.\"\n",
    "            \n",
    "        except ValidationError as e:\n",
    "            last_error = e\n",
    "            if trace_func: trace_func(f\"Attempt {attempt + 1}: ValidationError - {str(e)}\")\n",
    "            # Construct retry prompt for code validation error\n",
    "            pr = f\"Your previous solution code had a validation error: {str(e)}\\nPlease try again.\"\n",
    "\n",
    "    # If we get here, we've exhausted our attempts\n",
    "    raise RuntimeError(\n",
    "        f\"Failed to generate valid solution after {max_attempts} attempts. \"\n",
    "        f\"Last error: {type(last_error).__name__} - {str(last_error)}\"\n",
    "    )"
   ]
  },
  {
   "cell_type": "code",
   "execution_count": null,
   "id": "2fb692c8-25ed-41b0-a2f0-a766d63233bb",
   "metadata": {},
   "outputs": [],
   "source": [
    "#| exporti\n",
    "class ExecutionResult:\n",
    "    ..."
   ]
  },
  {
   "cell_type": "code",
   "execution_count": null,
   "id": "87162ac5-3201-44b8-a62d-527afcf27a75",
   "metadata": {},
   "outputs": [],
   "source": [
    "#| export\n",
    "@dataclass\n",
    "class Attempt:\n",
    "    \"An attempt at solving an ARC task.\"\n",
    "    task: ArcTask                                            # The ARC task being solved\n",
    "    description: Description                                 # Task description\n",
    "    depth: int                                               # Total no. of attempts (initial attempt + retries)\n",
    "    solution: Optional[Solution] = None                      # Claude-generated solution code\n",
    "    chat: Optional[AsyncChat] = None                         # Claudette chat used to generate solution\n",
    "    parent: Optional['Attempt'] = None                       # Previous attempt\n",
    "    children: List['Attempt'] = field(default_factory=list)  # Any retries from this attempt\n",
    "    result: Optional[ExecutionResult] = None                 # Result of executing the solution code\n",
    "    error: Optional[str] = None                              # Error trying to generate solution code"
   ]
  },
  {
   "attachments": {},
   "cell_type": "markdown",
   "id": "d781134d-748b-4d3a-af09-8e48b2521785",
   "metadata": {},
   "source": [
    "The `Attempt` class stores everything relating to a single attempt. \n",
    "The solver will create a tree structure of attempts, with the root node being a description. Each subsequent attempt has a `parent` and a list of `children`, where a child is formed when we retry an attempt using execution/prediction error feedback. "
   ]
  },
  {
   "cell_type": "code",
   "execution_count": null,
   "id": "c78abc7f-cf28-4acb-a9ac-3df2e06d5a1a",
   "metadata": {},
   "outputs": [],
   "source": [
    "#| hide\n",
    "#| eval: false\n",
    "roots = [Attempt(task=task, description=d, depth=0) for d in ds]"
   ]
  },
  {
   "cell_type": "code",
   "execution_count": null,
   "id": "a202cdc4-499b-4d26-9821-0b3a99641a76",
   "metadata": {},
   "outputs": [],
   "source": [
    "#| exporti\n",
    "async def attempt_solution(\n",
    "    root: Attempt,                              # `Attempt` object containing the task and description to generate solutions for\n",
    "    model: str = 'claude-3-5-sonnet-20241022',  # Model identifier (defaults to Sonnet 3.5)\n",
    "    client_type: str = 'anthropic',             # 'anthropic', 'bedrock', or 'vertex'\n",
    "    client_kwargs: Dict = {},                   # Optional kwargs for client instantiation\n",
    "    sp: Optional[str] = None,                   # Custom system prompt (if None, uses `sp_solve`)\n",
    "    temp: float = 0.7,                          # Temperature for generation (higher for diversity)\n",
    "    max_attempts: int = 3,                      # Maximum attempts per description (if attempts fail xml/syntax parsing)\n",
    "    **kwargs                                    # Additional arguments passed to AsyncChat.codeloop\n",
    ") -> Attempt:\n",
    "    \"Generate a solution for a given task description\"\n",
    "    if sp is None: sp=sp_solve\n",
    "\n",
    "    client = _create_client(client_type, client_kwargs)\n",
    "    chat = _create_chat(model, client, sp)\n",
    "\n",
    "    # Add examples\n",
    "    random.shuffle(examples)\n",
    "    for e in examples:\n",
    "        chat.h.append(e.description)\n",
    "        chat.h.append((f\"<reasoning>\\n{e.reasoning}\\n</reasoning>\\n\\n<new_primitives>\\n{e.new_primitives}\\n\"\n",
    "                       f\"</new_primitives>\\n\\n<input_model>\\n{e.input_model}\\n</input_model>\\n\\n\"\n",
    "                       f\"<output_model>\\n{e.output_model}\\n</output_model>\"))\n",
    "    try:\n",
    "        r = await chat.codeloop(mk_msg(root.description.d, cache=client_type=='anthropic'),\n",
    "                                temp=temp, max_attempts=max_attempts, **kwargs)\n",
    "        a = Attempt(task=root.task, description=root.description, depth=1, solution=r, chat=chat, parent=root)\n",
    "        root.children.append(a)\n",
    "        return a\n",
    "    except Exception as e:\n",
    "        a = Attempt(task=root.task, description=root.description, depth=1, solution=None, chat=chat, parent=root, error=str(e))\n",
    "        root.children.append(a)\n",
    "        return a"
   ]
  },
  {
   "cell_type": "code",
   "execution_count": null,
   "id": "8bf80bab-a5b3-4f09-9ba8-a9b334ca582d",
   "metadata": {},
   "outputs": [],
   "source": [
    "#| hide\n",
    "#| eval: false\n",
    "tsks = [attempt_solution(r) for r in roots]\n",
    "attempts = await asyncio.gather(*tsks)"
   ]
  },
  {
   "cell_type": "code",
   "execution_count": null,
   "id": "3f61b3cf-6f6b-4b69-93c0-943f7049369f",
   "metadata": {},
   "outputs": [],
   "source": [
    "#| hide\n",
    "#| eval: false\n",
    "tsks = [attempt_solution(r, model, 'bedrock') for r in roots]\n",
    "attempts = await asyncio.gather(*tsks)"
   ]
  },
  {
   "attachments": {},
   "cell_type": "markdown",
   "id": "acf34549-2b08-4242-9e1b-f0dc555e639c",
   "metadata": {},
   "source": [
    "Next, we need to run the generated code and make predictions on the training examples. Let's define a container for a code execution result"
   ]
  },
  {
   "cell_type": "code",
   "execution_count": null,
   "id": "ca2e6fc6-e061-422d-b208-5718d89f21db",
   "metadata": {},
   "outputs": [],
   "source": [
    "#| export\n",
    "@dataclass\n",
    "class ExecutionResult:\n",
    "    \"Contains all results from a solution attempt execution\"\n",
    "    in_preds: Optional[List[ArcGrid]] = None     # from InputModel.from_array(...).to_array()\n",
    "    out_preds: Optional[List[ArcGrid]] = None    # from OutputModel.from_input(...).to_array()\n",
    "    error: Optional[str] = None                  # Overall code execution error\n",
    "    example_errors: Optional[List[str]] = None   # Per-example errors"
   ]
  },
  {
   "attachments": {},
   "cell_type": "markdown",
   "id": "444cf22e-1cd4-41e8-b4d9-17a54ba47657",
   "metadata": {},
   "source": [
    "To generate an `ExecutionResult`, we'll run an `Attempt`'s code in a separate python process."
   ]
  },
  {
   "cell_type": "code",
   "execution_count": null,
   "id": "5655eab9-45c1-48fa-8e96-392e2b817f0c",
   "metadata": {},
   "outputs": [],
   "source": [
    "#| export\n",
    "class SandboxedExecutor:\n",
    "    \"Executes ARC solutions in a separate Python process with detailed results\"\n",
    "\n",
    "    IMPORTS = \"\"\"\n",
    "from arcsolver.ocm import *\n",
    "from pydantic import BaseModel, Field, model_validator, validator\n",
    "from typing import ClassVar, List, Optional, Tuple, Union, Tuple, Literal, Dict, Set\n",
    "import numpy as np\n",
    "from enum import Enum\n",
    "from scipy import ndimage\n",
    "from collections import defaultdict\n",
    "\"\"\"\n",
    "    \n",
    "    RUNNER_SCRIPT = \"\"\"\n",
    "import sys\n",
    "import pickle\n",
    "from arcsolver.task import ArcGrid\n",
    "import traceback\n",
    "import numpy as np\n",
    "\n",
    "import linecache\n",
    "\n",
    "def _format_error():\n",
    "    exc_type, exc_value, tb = sys.exc_info()\n",
    "    \n",
    "    # Convert numpy values in error message to regular Python types\n",
    "    if isinstance(exc_value, KeyError) and isinstance(exc_value.args[0], np.integer):\n",
    "        exc_value = KeyError(int(exc_value.args[0]))\n",
    "    \n",
    "    lines = []\n",
    "    for frame, line in traceback.walk_tb(tb):\n",
    "        filename = frame.f_code.co_filename\n",
    "        function = frame.f_code.co_name\n",
    "        \n",
    "        if filename == '<string>':  # This is our solution code\n",
    "            lineno = frame.f_lineno\n",
    "            source = linecache.getline('<solution>', lineno).strip()\n",
    "            lines.append(f'  File \"<solution>\", line {{lineno}}, in {{function}}\\\\n    {{source}}')\n",
    "    \n",
    "    # Add error type and message\n",
    "    lines.append(f\"{{exc_type.__name__}}: {{str(exc_value)}}\")\n",
    "    return '\\\\n'.join(lines)\n",
    "\n",
    "def run_solution():\n",
    "    # Load input data efficiently from stdin\n",
    "    input_data = pickle.load(sys.stdin.buffer)\n",
    "    code = IMPORTS + input_data['code']\n",
    "    examples = input_data['examples']  # List of (input_grid, output_grid) tuples\n",
    "    \n",
    "    try:\n",
    "        # Set up line cache for better tracebacks\n",
    "        linecache.cache['<solution>'] = (\n",
    "            len(code),\n",
    "            None,\n",
    "            code.splitlines(keepends=True),\n",
    "            '<solution>'\n",
    "        )\n",
    "\n",
    "        # Execute the solution code\n",
    "        namespace = {{}}\n",
    "        exec(code, namespace)\n",
    "        InputModel, OutputModel = namespace['InputModel'], namespace['OutputModel']\n",
    "        reconstructed_inputs, predicted_outputs = [], []\n",
    "        example_errors = []\n",
    "        \n",
    "        for i, (input_arr, expected_arr) in enumerate(examples):\n",
    "            try:\n",
    "                # print(f\"Processing example {{i}}\", file=sys.stderr)  # Debug print\n",
    "                input_model = InputModel.from_array(input_arr)\n",
    "                reconstructed_input = input_model.to_array()\n",
    "                reconstructed_inputs.append(ArcGrid(reconstructed_input))\n",
    "            except Exception as e:\n",
    "                # If an example fails, append None for its results\n",
    "                reconstructed_inputs.append(None)\n",
    "                predicted_outputs.append(None)\n",
    "                example_errors.append(_format_error())\n",
    "                continue\n",
    "            try:\n",
    "                output_model = OutputModel.from_input(input_model)\n",
    "                prediction = output_model.to_array()\n",
    "                predicted_outputs.append(ArcGrid(prediction))\n",
    "                example_errors.append(None)\n",
    "            except Exception as e:\n",
    "                predicted_outputs.append(None)\n",
    "                example_errors.append(_format_error())\n",
    "        \n",
    "        result = {{\n",
    "            'reconstructed_inputs': reconstructed_inputs,\n",
    "            'predicted_outputs': predicted_outputs,\n",
    "            'example_errors': example_errors\n",
    "        }}\n",
    "        \n",
    "    except Exception as e:\n",
    "        result = {{'error': _format_error()}}\n",
    "    \n",
    "    # Write results efficiently to stdout\n",
    "    pickle.dump(result, sys.stdout.buffer)\n",
    "    sys.stdout.buffer.flush()\n",
    "\n",
    "IMPORTS = '''{}'''\n",
    "\n",
    "if __name__ == '__main__':\n",
    "    run_solution()\n",
    "\"\"\".format(IMPORTS)\n",
    "\n",
    "    @classmethod\n",
    "    def run(cls,\n",
    "            sol: Solution,         # LLM-generated solution code\n",
    "            task: ArcTask,         # The ARC task object\n",
    "            split: str = 'train',  # 'train' or 'test'\n",
    "           ) -> ExecutionResult:\n",
    "        \"Execute solution attempt in a separate Python process and return reconstructed inputs, predictions, and execution status\"\n",
    "        \n",
    "        # Create runner script\n",
    "        with tempfile.NamedTemporaryFile(mode='w', suffix='.py', delete=False) as f:\n",
    "            f.write(cls.RUNNER_SCRIPT)\n",
    "            runner_path = f.name\n",
    "        \n",
    "        try:\n",
    "            # Prepare input data\n",
    "            examples = task.train if split == 'train' else task.test\n",
    "            input_data = {\n",
    "                'code': sol.full_code,\n",
    "                'examples': [(ex.input.data, ex.output.data) for ex in examples]\n",
    "            }\n",
    "            \n",
    "            # Run solution process with pipe communication\n",
    "            process = subprocess.Popen(\n",
    "                [\"python\", runner_path],\n",
    "                stdin=subprocess.PIPE,\n",
    "                stdout=subprocess.PIPE,\n",
    "                stderr=subprocess.PIPE\n",
    "            )\n",
    "            \n",
    "            # Send input data through pipe\n",
    "            pickle.dump(input_data, process.stdin)\n",
    "            process.stdin.flush()\n",
    "            \n",
    "            try:\n",
    "                # Wait for result with timeout\n",
    "                stdout, stderr = process.communicate(timeout=5)\n",
    "                \n",
    "                if process.returncode == 0:\n",
    "                    # Load results\n",
    "                    result = pickle.loads(stdout)\n",
    "                    \n",
    "                    if 'error' in result:\n",
    "                        return ExecutionResult(error=result['error'])\n",
    "                    else:\n",
    "                        return ExecutionResult(\n",
    "                            in_preds=result['reconstructed_inputs'],\n",
    "                            out_preds=result['predicted_outputs'],\n",
    "                            example_errors=result.get('example_errors')\n",
    "                        )\n",
    "                else:\n",
    "                    return ExecutionResult(\n",
    "                        error=f\"Process failed with exit code {process.returncode}\\n{stderr.decode()}\"\n",
    "                    )\n",
    "                    \n",
    "            except subprocess.TimeoutExpired:\n",
    "                process.kill()\n",
    "                return ExecutionResult(error=\"Execution timed out after 5 seconds\")\n",
    "                \n",
    "        finally:\n",
    "            # Clean up runner script\n",
    "            Path(runner_path).unlink()"
   ]
  },
  {
   "attachments": {},
   "cell_type": "markdown",
   "id": "08f05326-644f-4de9-ba82-961ad0862183",
   "metadata": {},
   "source": [
    "::: {.callout-warning}\n",
    "Note that we are executing code generated by AI models. While designed for research and experimentation, it includes basic safety measures:\n",
    "\n",
    "- Code is pre-validated to check for specifically requested class names and methods.\n",
    "- Code execution occurs in isolated subprocesses\n",
    "- Each execution has a 5-second timeout limit\n",
    "- Exceptions are caught and handled safely\n",
    "\n",
    "Users should exercise appropriate caution and avoid running unknown solutions in security-critical environments.\n",
    ":::"
   ]
  },
  {
   "cell_type": "code",
   "execution_count": null,
   "id": "6b527bc1-e360-46d8-9a56-57e90eb716d8",
   "metadata": {},
   "outputs": [
    {
     "data": {
      "text/plain": [
       "ExecutionResult(in_preds=[Grid(shape=(15, 15)), Grid(shape=(15, 15)), Grid(shape=(15, 15))], out_preds=[Grid(shape=(15, 15)), Grid(shape=(15, 15)), Grid(shape=(15, 15))], error=None, example_errors=[None, None, None])"
      ]
     },
     "execution_count": null,
     "metadata": {},
     "output_type": "execute_result"
    }
   ],
   "source": [
    "#| hide\n",
    "#| eval: false\n",
    "executor = SandboxedExecutor()\n",
    "res = executor.run(attempts[1].solution, attempts[1].task); res"
   ]
  },
  {
   "cell_type": "code",
   "execution_count": null,
   "id": "a62bad5f-ed84-4be6-bd07-a4205be3c77f",
   "metadata": {},
   "outputs": [
    {
     "data": {
      "text/plain": [
       "[False, False, False]"
      ]
     },
     "execution_count": null,
     "metadata": {},
     "output_type": "execute_result"
    }
   ],
   "source": [
    "#| hide\n",
    "#| eval: false\n",
    "[r == t.input if r is not None else None for r, t in zip(res.in_preds, task.train)]"
   ]
  },
  {
   "attachments": {},
   "cell_type": "markdown",
   "id": "a0a77a8e-f829-4d6d-8032-65954a58b09c",
   "metadata": {},
   "source": [
    "We can use `ProcessPoolExecutor` to run all attempts in parallel"
   ]
  },
  {
   "cell_type": "code",
   "execution_count": null,
   "id": "9e0c9bb7-9816-4e3b-9d45-57e3d60302fd",
   "metadata": {},
   "outputs": [],
   "source": [
    "#| export\n",
    "def _run_single_attempt(args):\n",
    "    \"Helper function to run a single attempt (must be at module level for pickling)\"\n",
    "    return SandboxedExecutor().run(*args)\n",
    "\n",
    "class ConcurrentExecutor:\n",
    "    \"Executes multiple ARC solution attempts concurrently\"\n",
    "    \n",
    "    def __init__(self, max_workers: Optional[int] = None):\n",
    "        self.max_workers = max_workers\n",
    "    \n",
    "    def run_attempts(self, sols: List[Solution], task: ArcTask, split: str) -> List[ExecutionResult]:\n",
    "        \"Run in parallel\"\n",
    "        # Create list of (sol, task, split) tuples for each sol\n",
    "        args = [(sol, task, split) for sol in sols]\n",
    "        \n",
    "        with ProcessPoolExecutor(max_workers=self.max_workers) as pool:\n",
    "            # Map the run function over the arguments\n",
    "            results = list(pool.map(_run_single_attempt, args))\n",
    "        return results"
   ]
  },
  {
   "cell_type": "code",
   "execution_count": null,
   "id": "5cf2a02c-ccc3-4bb1-a660-397fc732067d",
   "metadata": {},
   "outputs": [],
   "source": [
    "#| export\n",
    "#| hide\n",
    "def run_solutions(sols: List[Solution],           # List of `Solution` objects to execute\n",
    "                  task: ArcTask,                  # ARC task to test against\n",
    "                  split: str = 'train',           # 'train' or 'test'\n",
    "                  max_workers: int | None = None  # Max concurrent processes (None defaults to CPU count)\n",
    "                  ) -> List[ExecutionResult]:     # List of `ExecutionResult` objects, one per attempt\n",
    "    \"Executes multiple solution attempts concurrently.\"\n",
    "    executor = ConcurrentExecutor(max_workers=max_workers)\n",
    "    return executor.run_attempts(sols, task, split)"
   ]
  },
  {
   "cell_type": "code",
   "execution_count": null,
   "id": "021ca4b0-aafb-45fd-b2d8-989b7ca11f62",
   "metadata": {},
   "outputs": [],
   "source": [
    "#| hide\n",
    "#| eval: false\n",
    "results = run_solutions([a.solution for a in attempts], task)"
   ]
  },
  {
   "cell_type": "code",
   "execution_count": null,
   "id": "78a00009-51ac-4235-a055-91d66632e71a",
   "metadata": {},
   "outputs": [],
   "source": [
    "#| hide\n",
    "#| eval: false\n",
    "for a, r in zip(attempts, results):\n",
    "    a.result = r"
   ]
  },
  {
   "attachments": {},
   "cell_type": "markdown",
   "id": "02c0d3f3-4e6a-4b3a-8734-ae411afb7818",
   "metadata": {},
   "source": [
    ":::{.content-hidden}\n",
    "\n",
    "We can patch in a score property to `Attempt`, which will calculate a score based on an `ExecutionResult`:\n",
    "\n",
    ":::"
   ]
  },
  {
   "cell_type": "code",
   "execution_count": null,
   "id": "ff72b263-80a7-4f6f-9827-be0b318d63db",
   "metadata": {},
   "outputs": [],
   "source": [
    "#| export\n",
    "#| hide\n",
    "@patch(as_prop=True)\n",
    "def score(self: Attempt) -> float:\n",
    "    if self.result is not None and self.result.error is None:\n",
    "        in_score = sum(scores := [_score(t, p) for t, p in zip([_.input for _ in self.task.train], self.result.in_preds)])/len(scores)\n",
    "        out_score = sum(scores := [_score(t, p) for t, p in zip([_.output for _ in self.task.train], self.result.out_preds)])/len(scores)\n",
    "\n",
    "        return 0.5*in_score + 0.5*out_score\n",
    "    else:\n",
    "        return 0.0"
   ]
  },
  {
   "cell_type": "code",
   "execution_count": null,
   "id": "c817f48f-3907-45a6-b8e6-0ccadbb5cca1",
   "metadata": {},
   "outputs": [
    {
     "data": {
      "text/plain": [
       "[0.5, 0.9777777777777777, 0.0]"
      ]
     },
     "execution_count": null,
     "metadata": {},
     "output_type": "execute_result"
    }
   ],
   "source": [
    "#| hide\n",
    "#| eval: false\n",
    "[a.score for a in attempts]"
   ]
  },
  {
   "cell_type": "code",
   "execution_count": null,
   "id": "afe5f0bc-6591-4a36-a0d2-3c51f483c06b",
   "metadata": {},
   "outputs": [
    {
     "data": {
      "text/plain": [
       "[0, 1, 2, 3, 4, 6, 8, 10]"
      ]
     },
     "execution_count": null,
     "metadata": {},
     "output_type": "execute_result"
    }
   ],
   "source": [
    "#| hide\n",
    "#| eval: false\n",
    "preds = [i for i, r in enumerate(results) if r.out_preds is not None and all(r.out_preds)]; preds"
   ]
  },
  {
   "cell_type": "code",
   "execution_count": null,
   "id": "395afd01-2e36-4762-a7f5-27c6e683f9ca",
   "metadata": {},
   "outputs": [
    {
     "data": {
      "image/png": "[encoded data removed]",
      "text/plain": [
       "<Figure size 800x400 with 2 Axes>"
      ]
     },
     "metadata": {},
     "output_type": "display_data"
    }
   ],
   "source": [
    "#| hide\n",
    "#| eval: false\n",
    "ArcPair(\n",
    "    results[preds[0]].in_preds[0],\n",
    "    results[preds[0]].out_preds[0]\n",
    ").plot()"
   ]
  },
  {
   "attachments": {},
   "cell_type": "markdown",
   "id": "8d104a11-6114-46d2-b72d-81288d122044",
   "metadata": {},
   "source": [
    "If an attempt is unsuccessful, we can write a function to generate a prompt for Claude to try again. We'll parse a result and feed back which predictions were correct, if any and what error messages were encountered, if any."
   ]
  },
  {
   "cell_type": "code",
   "execution_count": null,
   "id": "a27a05b9-41a1-410e-a8ae-a7e412e22757",
   "metadata": {},
   "outputs": [],
   "source": [
    "#| export\n",
    "def _already_shown_task(chat_hist, task):\n",
    "    for m in chat_hist:\n",
    "        if isinstance(m, dict) and m['role'] == 'user':\n",
    "            for d in m['content']:\n",
    "                if isinstance(d, dict) and 'source' in d.keys():\n",
    "                    if d['source']['data'] == base64.b64encode(task.plot(to_base64=True)).decode(\"utf-8\"):\n",
    "                        return True\n",
    "    return False"
   ]
  },
  {
   "cell_type": "code",
   "execution_count": null,
   "id": "f4992aa8-d762-4fc5-aac7-704c84cbd265",
   "metadata": {},
   "outputs": [],
   "source": [
    "#| export\n",
    "def _image_message(l: list,               # list of indexes corresponding to candidate plots\n",
    "                   res: ExecutionResult,  # Result of running execution\n",
    "                   in_out: str,           # 'input' or 'output'\n",
    "                   task: ArcTask,   # ARC task being solved\n",
    "                   hist: list,      # Chat history\n",
    "                  ) -> tuple[str]:  # image and message specifying what image is attached\n",
    "    \"Construct message describing attached image\"\n",
    "    idx = random.choice(range(len(l)))\n",
    "    viz = ArcPair(task.train[l[idx]][0 if in_out == 'input' else 1],\n",
    "                  res.in_preds[l[idx]] if in_out == 'input' else res.out_preds[l[idx]]\n",
    "                 ).plot(titles=['Input' if in_out == 'input' else 'Output',\n",
    "                                'Reconstructed' if in_out == 'input' else 'Predicted'], to_base64=True)\n",
    "\n",
    "    if not _already_shown_task(hist, task): fb = \"\\nAttached is an image of the full task and also an image showing the true \"\n",
    "    else: fb = \"\\nAttached is an image of the true \"\n",
    "\n",
    "    \n",
    "    fb += (f\"{'input' if in_out == 'input' else 'output'} grid (left) and your model's \"\n",
    "           f\"{'reconstruction' if in_out == 'input' else 'prediction'} (right) for example \"\n",
    "           f\"{l[idx]+1}.\\n\")\n",
    "    return viz, fb"
   ]
  },
  {
   "cell_type": "code",
   "execution_count": null,
   "id": "03892ef3-66c8-4719-a06a-fbbb45f10216",
   "metadata": {},
   "outputs": [],
   "source": [
    "#| export\n",
    "def feedback(attempt: Attempt,  # Incorrect attempt\n",
    "            ) -> list:          # feedback prompt for claudette, maybe including an image of an incorrect prediction\n",
    "    \"Generate feedback message for Claude based on execution results\"\n",
    "    \n",
    "    retry = (\"\\nPlease try again, responding in the same style as before. Use <reasoning> tags \"\n",
    "             \"to explain your thought process for addressing these issues, then proceed \"\n",
    "             \"with <new_primitives>, <input_model> and <output_model>.\")\n",
    "\n",
    "    res, task, chat = attempt.result, attempt.task, attempt.chat\n",
    "    if res.error is not None:\n",
    "        return [f\"Attempting to execute your solution resulted in the following error:\\n```\\n{res.error}\\n```\\n\" + retry]\n",
    "    \n",
    "    fb = \"\"\n",
    "    in_correct, in_incorrect, out_correct, out_incorrect = [], [], [], []\n",
    "    # Check input reconstruction\n",
    "    if all(res.in_preds):\n",
    "        in_matches = [r == p.input for r, p in zip(res.in_preds, task.train)]\n",
    "        if all(in_matches):\n",
    "            fb += \"Well done, your input grid model was able to correctly reconstruct all input arrays.\\n\"\n",
    "        else:\n",
    "            in_correct = [i for i, m in enumerate(in_matches) if m]\n",
    "            in_incorrect = [i for i, m in enumerate(in_matches) if not m]\n",
    "            if in_correct:\n",
    "                fb += (f\"Your input grid model correctly reconstructed example{'s' if len(in_correct)>1 else ''} \"\n",
    "                       f\"{', '.join(str(i+1) for i in in_correct)}.\\n\")\n",
    "            if in_incorrect:\n",
    "                fb += (f\"{'However, ' if in_correct else 'Unfortunately, '} your input grid model failed \"\n",
    "                       f\"to correctly reconstruct example{'s' if len(in_incorrect)>1 else ''} \"\n",
    "                       f\"{', '.join(str(i+1) for i in in_incorrect)}.\\n\")\n",
    "    else:\n",
    "        errored = [i for i, r in enumerate(res.in_preds) if r is None]\n",
    "        succeeded = [i for i, r in enumerate(res.in_preds) if r is not None]\n",
    "        if not succeeded:\n",
    "            # All examples errored\n",
    "            fb += (f\"Your input grid model failed to process any examples. Here's an error from example 1:\\n\"\n",
    "                   f\"```\\n{res.example_errors[0]}\\n```\\n\")\n",
    "        else:\n",
    "            # Mix of successes and failures\n",
    "            in_correct = [i for i in succeeded if res.in_preds[i] == task.train[i].input]\n",
    "            in_incorrect = [i for i in succeeded if i not in in_correct]\n",
    "            if in_correct:\n",
    "                fb += (f\"Your input grid model correctly reconstructed example{'s' if len(in_correct)>1 else ''} \"\n",
    "                       f\"{', '.join(str(i+1) for i in in_correct)}.\\n\")\n",
    "            if in_incorrect:\n",
    "                fb += (f\"{'However, your' if in_correct else 'Your'} input grid model produced incorrect \"\n",
    "                       f\"reconstruction{'s' if len(in_incorrect)>1 else ''} for example{'s' if len(in_incorrect)>1 else ''} \"\n",
    "                       f\"{', '.join(str(i+1) for i in in_incorrect)}.\\n\")\n",
    "            # Report errors\n",
    "            fb += (f\"Additionally, your model failed with errors on example{'s' if len(errored)>1 else ''} \"\n",
    "                   f\"{', '.join(str(i+1) for i in errored)}. Here's the first error:\\n\"\n",
    "                   f\"```\\n{next(res.example_errors[i] for i in errored)}\\n```\\n\")\n",
    "\n",
    "    # Check output predictions, if any\n",
    "    viz = None\n",
    "    if any(res.out_preds) or any(res.in_preds):  # Check if any processing happened\n",
    "        # Only look at examples where input reconstruction succeeded\n",
    "        in_succeeded = [i for i, r in enumerate(res.in_preds) if r is not None]\n",
    "        \n",
    "        if in_succeeded:\n",
    "            # Among examples with successful inputs, which had successful/failed outputs\n",
    "            out_succeeded = [i for i in in_succeeded if res.out_preds[i] is not None]\n",
    "            out_failed = [i for i in in_succeeded if res.out_preds[i] is None]\n",
    "            if out_succeeded:\n",
    "                # Check correctness of successful predictions\n",
    "                out_correct = [i for i in out_succeeded if res.out_preds[i] == task.train[i].output]\n",
    "                out_incorrect = [i for i in out_succeeded if not res.out_preds[i] == task.train[i].output]\n",
    "                if out_correct:\n",
    "                    fb += (f\"\\nYour output model correctly predicted example{'s' if len(out_correct)>1 else ''} \"\n",
    "                           f\"{', '.join(str(i+1) for i in out_correct)}.\")\n",
    "                if out_incorrect:\n",
    "                    fb += (f\"\\n{'However,' if out_correct else 'Additionally,' if in_incorrect else 'Unfortunately,'} \"\n",
    "                           \"your output model made incorrect \"\n",
    "                           f\"prediction{'s' if len(out_incorrect)>1 else ''} for example{'s' if len(out_incorrect)>1 else ''} \"\n",
    "                           f\"{', '.join(str(i+1) for i in out_incorrect)}.\\n\")\n",
    "                    \n",
    "            if out_failed:  # These are the failures in output generation where input succeeded\n",
    "                fb += (f\"\\n{'Additionally,' if out_succeeded and out_incorrect else 'Unfortunately,'} your output model \"\n",
    "                       f\"failed with errors on example{'s' if len(out_failed)>1 else ''} \"\n",
    "                       f\"{', '.join(str(i+1) for i in out_failed)}. Here's the first error:\\n\"\n",
    "                       f\"```\\n{res.example_errors[out_failed[0]]}\\n```\\n\")\n",
    "\n",
    "    # Decide which example to visualize\n",
    "    if any(res.out_preds):  # At least one output was generated\n",
    "        if out_correct and out_incorrect:\n",
    "            # Mix of correct/incorrect outputs -> show incorrect output\n",
    "            viz, msg = _image_message(out_incorrect, res, 'output', task, chat.h)\n",
    "            fb += msg\n",
    "        elif not out_correct:  # no correct outputs\n",
    "            if all(r == task.train[i].input for i, r in enumerate(res.in_preds) if r is not None):\n",
    "                # Inputs all correct -> show incorrect output\n",
    "                viz, msg = _image_message(out_incorrect, res, 'output', task, chat.h)\n",
    "                fb += msg\n",
    "            elif in_incorrect:\n",
    "                # Some inputs incorrect -> show incorrect input\n",
    "                viz, msg = _image_message(in_incorrect, res, 'input', task, chat.h)\n",
    "                fb += msg\n",
    "    else:  # No outputs were generated\n",
    "        if in_incorrect:\n",
    "            # Show incorrect input if we have any\n",
    "            viz, msg = _image_message(in_incorrect, res, 'input', task, chat.h)\n",
    "            fb += msg\n",
    "\n",
    "    if viz is not None: retry += (\"\\nIMPORTANT: Remember the core principles! Do not implement example-specific logic \"\n",
    "                                  \"or rules based on this image.\")\n",
    "    if _already_shown_task(chat.h, task): return [viz, fb + retry] if viz is not None else [fb + retry]\n",
    "    else: return [task.plot(to_base64=True), viz, fb + retry] if viz is not None else [fb + retry]\n"
   ]
  },
  {
   "cell_type": "code",
   "execution_count": null,
   "id": "7cafc294-428d-489a-88d8-682988f20b1a",
   "metadata": {},
   "outputs": [
    {
     "name": "stdout",
     "output_type": "stream",
     "text": [
      "Unfortunately,  your input grid model failed to correctly reconstruct examples 1, 2, 3.\n",
      "\n",
      "Your output model correctly predicted example 1.\n",
      "However, your output model made incorrect predictions for examples 2, 3.\n",
      "\n",
      "Attached is an image of the full task and also an image showing the true output grid (left) and your model's prediction (right) for example 2.\n",
      "\n",
      "Please try again, responding in the same style as before. Use <reasoning> tags to explain your thought process for addressing these issues, then proceed with <new_primitives>, <input_model> and <output_model>.\n",
      "IMPORTANT: Remember the core principles! Do not implement example-specific logic or rules based on this image.\n"
     ]
    }
   ],
   "source": [
    "#| eval: false\n",
    "fb = feedback(attempts[1])\n",
    "print(fb[0] if len(fb) == 1 else fb[-1])"
   ]
  },
  {
   "cell_type": "code",
   "execution_count": null,
   "id": "24ed6c20-398b-4e2f-83d0-1309af1c06d2",
   "metadata": {},
   "outputs": [],
   "source": [
    "#| exporti\n",
    "def clear_cache(hist: list  # chat history\n",
    "               ) -> list:\n",
    "    \"Make sure there are at most 3 cache points in a conversation history\"\n",
    "    num_caches = 0\n",
    "    for x in hist[::-1]:\n",
    "        if isinstance(x, dict):\n",
    "            if not isinstance(x['content'], list): print('expected list')\n",
    "            for y in x['content']:\n",
    "                if isinstance(y, dict):\n",
    "                    if 'cache_control' in y:\n",
    "                        num_caches += 1\n",
    "                        if num_caches >= 4: del y['cache_control']\n",
    "    return hist"
   ]
  },
  {
   "cell_type": "code",
   "execution_count": null,
   "id": "83f3146a-f1e5-459c-8053-c54ed5826034",
   "metadata": {},
   "outputs": [],
   "source": [
    "#| exporti\n",
    "async def retry_solution(\n",
    "    attempt: Attempt,                           # Previous (incorrect) attempt\n",
    "    model: str = 'claude-3-5-sonnet-20241022',  # Model identifier (defaults to Sonnet 3.5)\n",
    "    client_type: str = 'anthropic',             # 'anthropic', 'bedrock', or 'vertex'\n",
    "    client_kwargs: Dict = {},                   # Optional kwargs for client instantiation\n",
    "    sp: Optional[str] = None,                   # Custom system prompt (if None, uses `sp_solve`)\n",
    "    prefill: str = \"<reasoning>\",               # Text to prefill assistant's response with\n",
    "    temp: float = 0.7,                          # Temperature for generation (higher for diversity)\n",
    "    max_attempts: int = 3,                      # Maximum attempts (if attempts fail xml/syntax parsing)\n",
    "    **kwargs                                    # Additional arguments passed to AsyncChat.codeloop\n",
    ") -> Attempt:\n",
    "    \"Retry constructing a solution based on feedback from a previous incorrect attempt\"\n",
    "    if sp is None: sp=sp_solve\n",
    "\n",
    "    client = _create_client(client_type, client_kwargs)\n",
    "    chat = _create_chat(model, client, sp)\n",
    "    chat.h = clear_cache(attempt.chat.h.copy()) if client_type=='anthropic' else attempt.chat.h.copy()\n",
    "\n",
    "    fb = feedback(attempt)\n",
    "\n",
    "    try:\n",
    "        r = await chat.codeloop(\n",
    "            mk_msg(fb, cache=client_type=='anthropic'), prefill=prefill, stop='</output_model>', temp=temp, max_attempts=max_attempts, **kwargs\n",
    "        )\n",
    "        a = Attempt(task=attempt.task, description=attempt.description, depth=attempt.depth + 1, solution=r, chat=chat, parent=attempt)\n",
    "        attempt.children.append(a)\n",
    "        return a\n",
    "    except Exception as e:\n",
    "        a = Attempt(task=attempt.task, description=attempt.description, depth=attempt.depth + 1, solution=None, chat=chat, parent=attempt, error=str(e))\n",
    "        attempt.children.append(a)\n",
    "        return a"
   ]
  },
  {
   "cell_type": "code",
   "execution_count": null,
   "id": "bef5304b-adad-4baf-b1a5-ad8efccf9f4c",
   "metadata": {},
   "outputs": [],
   "source": [
    "#| hide\n",
    "#| eval: false\n",
    "retry = await retry_solution(attempts[1])"
   ]
  },
  {
   "cell_type": "code",
   "execution_count": null,
   "id": "60750133-a957-4ab5-9dae-90e16b15d7e2",
   "metadata": {},
   "outputs": [],
   "source": [
    "#| hide\n",
    "#| eval: false\n",
    "executor = SandboxedExecutor()\n",
    "retry.result = executor.run(retry.solution, task)"
   ]
  },
  {
   "cell_type": "code",
   "execution_count": null,
   "id": "ae27f078-1a04-452e-8231-b71699d0cf01",
   "metadata": {},
   "outputs": [
    {
     "name": "stdout",
     "output_type": "stream",
     "text": [
      "Prev attempt score: 0.989\n",
      "Retry score: 0.984\n"
     ]
    }
   ],
   "source": [
    "#| hide\n",
    "#| eval: false\n",
    "print(f\"Prev attempt score: {retry.parent.score:.3f}\")\n",
    "print(f\"Retry score: {retry.score:.3f}\")"
   ]
  },
  {
   "cell_type": "code",
   "execution_count": null,
   "id": "dad39105-ec67-4ca7-9f7e-80e786aaf8b7",
   "metadata": {},
   "outputs": [
    {
     "data": {
      "image/png": "[encoded data removed]",
      "text/plain": [
       "<Figure size 800x400 with 2 Axes>"
      ]
     },
     "metadata": {},
     "output_type": "display_data"
    }
   ],
   "source": [
    "#| hide\n",
    "#| eval: false\n",
    "ArcPair(\n",
    "    retry.result.in_preds[0],\n",
    "    retry.result.out_preds[0]\n",
    ").plot()"
   ]
  },
  {
   "cell_type": "code",
   "execution_count": null,
   "id": "3d57fcfa-76f6-4ab5-b3e5-bc4ef1ccb300",
   "metadata": {},
   "outputs": [],
   "source": [
    "#| hide\n",
    "#| eval: false\n",
    "assert retry in retry.parent.children"
   ]
  },
  {
   "cell_type": "code",
   "execution_count": null,
   "id": "b416b4b3-2834-40d3-94fe-1a38453ca208",
   "metadata": {},
   "outputs": [],
   "source": [
    "#| export\n",
    "@dataclass\n",
    "class SolutionTree:\n",
    "    \"Store full tree of solution attempts for an ARC task\"\n",
    "    task: ArcTask                # The task being solved\n",
    "    roots: List[Attempt]         # List of root attempts (one per description)\n",
    "    total_cost: float            # Total cost of all attempts\n",
    "    n_attempts: int              # Total number of attempts\n",
    "\n",
    "    def _collect_attempts(self, root: Attempt) -> List[Attempt]:\n",
    "        \"Recursively collect all attempts in a tree branch\"\n",
    "        return [attempt for child in root.children \n",
    "                for attempt in ([child] + self._collect_attempts(child))]\n",
    "    \n",
    "    @property\n",
    "    def all_attempts(self) -> List[Attempt]:\n",
    "        \"Get flattened list of all attempts across all branches\"\n",
    "        return [attempt for root in self.roots \n",
    "                for attempt in self._collect_attempts(root)]\n",
    "    \n",
    "    @property\n",
    "    def correct(self) -> List[Attempt]:\n",
    "        \"Get list of successful attempts, if any\"\n",
    "        return [a for a in self.all_attempts \n",
    "                if hasattr(a, 'correct') and a.correct]\n",
    "    \n",
    "    @property \n",
    "    def best_attempt(self) -> Optional[Attempt]:\n",
    "        \"Get attempt with highest score\"\n",
    "        scored = [a for a in self.all_attempts if a.result is not None]\n",
    "        return max(scored, key=lambda x: x.score) if scored else None\n",
    "    \n",
    "    @property\n",
    "    def best_score(self) -> float:\n",
    "        \"Get highest score achieved\"\n",
    "        return self.best_attempt.score if self.best_attempt else 0.0\n",
    "    \n",
    "    def __str__(self):\n",
    "        status = \"Solved\" if self.correct else \"Unsolved\"\n",
    "        return (f\"ArcTask {self.task.task_id} ({status})\\n\"\n",
    "                f\"Attempts: {self.n_attempts}\\n\"\n",
    "                f\"Correct: {len(self.correct)}\\n\"\n",
    "                f\"Best Score: {self.best_score:.3f}\\n\"\n",
    "                f\"Total Cost: ${self.total_cost:.3f}\")\n",
    "    __repr__ = __str__\n",
    "\n",
    "    def show(self, scores_only: bool = False):\n",
    "        \"Visualize attempt tree structure using treelib\"\n",
    "        tree = Tree()\n",
    "        \n",
    "        # Add task as root\n",
    "        tree.create_node(\n",
    "            f\"Task {self.task.task_id}\",\n",
    "            \"task\"\n",
    "        )\n",
    "        \n",
    "        # Add descriptions as first level\n",
    "        for i, root in enumerate(self.roots):\n",
    "            desc_id = f\"desc_{i}\"\n",
    "            if scores_only:\n",
    "                label = f\"Description {i+1}\"\n",
    "            else:\n",
    "                method = root.description.method\n",
    "                cost = f\"${root.description.cost:.3f}\"\n",
    "                label = f\"Description {i+1} ({method}, {cost})\"\n",
    "            tree.create_node(label, desc_id, parent=\"task\")\n",
    "            \n",
    "            # Add attempts under each description\n",
    "            for j, attempt in enumerate(root.children):\n",
    "                self._add_attempt_node(tree, attempt, desc_id, j, scores_only)\n",
    "        tree_str = tree.show(stdout=False)\n",
    "        if isinstance(tree_str, bytes):\n",
    "            tree_str = tree_str.decode('utf-8')\n",
    "        print(tree_str)\n",
    "    \n",
    "    def _add_attempt_node(self, tree: Tree, attempt: Attempt, \n",
    "                         parent_id: str, idx: int, scores_only: bool):\n",
    "        \"Recursively add attempt nodes to tree\"\n",
    "        # Create unique ID for this attempt\n",
    "        attempt_id = f\"{parent_id}_attempt_{idx}\"\n",
    "        \n",
    "        # Create label based on attempt properties\n",
    "        if scores_only:\n",
    "            label = f\"Score: {attempt.score:.3f}\"\n",
    "            if hasattr(attempt, 'correct') and attempt.correct:\n",
    "                label += \" 🎉\"\n",
    "        else:\n",
    "            label_parts = [\n",
    "                f\"Attempt {idx+1}\",\n",
    "                f\"Score: {attempt.score:.3f}\",\n",
    "            ]\n",
    "            if attempt.chat is not None:\n",
    "                label_parts.append(f\"Cost: ${attempt.chat.cost:.3f}\")\n",
    "            if hasattr(attempt, 'correct') and attempt.correct:\n",
    "                label_parts.append(\"🎉\")\n",
    "            label = \" | \".join(label_parts)\n",
    "        \n",
    "        # Create node\n",
    "        tree.create_node(label, attempt_id, parent=parent_id)\n",
    "        \n",
    "        # Recursively add children\n",
    "        for i, child in enumerate(attempt.children):\n",
    "            self._add_attempt_node(tree, child, attempt_id, i, scores_only)"
   ]
  },
  {
   "cell_type": "markdown",
   "id": "7b08b27c-4184-4dde-8d4b-e651c9cdaa51",
   "metadata": {},
   "source": [
    "The last thing we define is a container class for storing all the attempts and retries from the solving process."
   ]
  },
  {
   "cell_type": "code",
   "execution_count": null,
   "id": "be8f94e1-192e-4b3d-8463-062d8764b183",
   "metadata": {},
   "outputs": [],
   "source": [
    "#| exporti\n",
    "@dataclass\n",
    "class SolverProgress:\n",
    "    \"Track progress of ARC task solution attempts\"\n",
    "    attempts: int              # Number of attempts so far\n",
    "    budget: int                # Total attempt budget\n",
    "    best_score: float          # Best score achieved so far\n",
    "    n_descriptions: int        # Number of descriptions being used\n",
    "    status: str                # Current solver status\n",
    "    cost: float                # Total cost in USD so far\n",
    "    solved: bool = False       # Whether task has been solved\n",
    "    \n",
    "    # def __str__(self):\n",
    "    #     return (f\"{self.status} | \"\n",
    "    #             f\"Attempts: {self.attempts}/{self.budget} | \"\n",
    "    #             f\"Best Score: {self.best_score:.3f} | \"\n",
    "    #             f\"Cost: ${self.cost:.3f}\")"
   ]
  },
  {
   "cell_type": "code",
   "execution_count": null,
   "id": "0340e350-3c06-4de0-a036-44732ff28ab8",
   "metadata": {},
   "outputs": [],
   "source": [
    "#| export\n",
    "class ArcSolver:\n",
    "    \"(Attempt to) Solve an ARC task using Claude.\"\n",
    "    def __init__(self,\n",
    "                 model: str = \"claude-3-5-sonnet-20241022\",  # Model identifier (defaults to Sonnet 3.5)\n",
    "                 client_type: str = \"anthropic\",             # 'anthropic', 'bedrock', or 'vertex'\n",
    "                 client_kwargs: Optional[Dict] = None,       # Optional kwargs for client instantiation\n",
    "                 describer: Optional[DescriptionGenerator] = None,  # Optional custom description generator\n",
    "                 solve_sp: Optional[str] = None,             # Custom system prompt for solution generation\n",
    "                 max_workers: Optional[int] = None,          # Max concurrent processes for execution\n",
    "                 top_n: int = 2,                             # Number of best attempts to retry from\n",
    "                 logger: Optional[logging.Logger] = None,    # Optional pre-configured logger\n",
    "                ):\n",
    "                 \n",
    "        self.model = model\n",
    "        self.client_type = client_type\n",
    "        self.client_kwargs = client_kwargs or {}\n",
    "        self.describer = (describer or DescriptionGenerator(model, client_type, client_kwargs))\n",
    "        self.solve_sp = solve_sp or sp_solve\n",
    "        self.max_workers = max_workers\n",
    "        self.top_n = top_n\n",
    "        # Set up logger if not provided\n",
    "        if logger is None:\n",
    "            self.logger = logging.getLogger(\"ArcSolver\")\n",
    "            if not self.logger.handlers:\n",
    "                handler = logging.StreamHandler(sys.stdout)\n",
    "                formatter = logging.Formatter('%(message)s')\n",
    "                handler.setFormatter(formatter)\n",
    "                self.logger.addHandler(handler)\n",
    "                self.logger.setLevel(logging.INFO)\n",
    "        else:\n",
    "            self.logger = logger\n",
    "\n",
    "    def _collect_attempts(self, root: Attempt) -> List[Attempt]:\n",
    "        \"Recursively collect all attempts in a tree branch.\"\n",
    "        return [attempt for child in root.children \n",
    "                for attempt in ([child] + self._collect_attempts(child))]\n",
    "    \n",
    "    def _get_best_n(self, roots: List[Attempt], n: int) -> List[Attempt]:\n",
    "        \"Get the n best attempts across all branches of the attempt trees.\"\n",
    "        # Collect all attempts from all roots\n",
    "        all_attempts = [\n",
    "            attempt for root in roots \n",
    "            for attempt in self._collect_attempts(root)\n",
    "            if attempt.result is not None  # Filter out attempts without results\n",
    "        ]\n",
    "        # Return top n by score\n",
    "        return sorted(all_attempts, key=lambda x: x.score, reverse=True)[:n]\n",
    "    \n",
    "    def _count_attempts(self, roots: List[Attempt]) -> int:\n",
    "        \"Count total number of solution attempts across all roots.\"\n",
    "        return sum(len(self._collect_attempts(root)) for root in roots)\n",
    "    \n",
    "    def _log_progress(self,\n",
    "                     status: str,\n",
    "                     roots: List[Attempt],\n",
    "                     n_attempts: int,\n",
    "                     budget: int,\n",
    "                     n_descriptions: int,\n",
    "                     total_cost: float,\n",
    "                     correct: bool = False\n",
    "                    ) -> SolverProgress:\n",
    "        \"Log progress update and return progress object\"\n",
    "        all_attempts = [a for r in roots for a in self._collect_attempts(r) if a.result is not None]\n",
    "        best_score = max([a.score for a in all_attempts]) if all_attempts else 0.0\n",
    "        \n",
    "        progress = SolverProgress(\n",
    "            attempts=n_attempts,\n",
    "            budget=budget,\n",
    "            best_score=best_score,\n",
    "            n_descriptions=n_descriptions,\n",
    "            status=status,\n",
    "            cost=total_cost,\n",
    "            solved=correct\n",
    "        )\n",
    "        \n",
    "        self.logger.info(\n",
    "            f\"{status} | \"\n",
    "            f\"Attempts: {n_attempts}/{budget} | \"\n",
    "            f\"Best Score: {best_score:.3f} | \"\n",
    "            f\"Cost: ${total_cost:.3f}\"\n",
    "        )\n",
    "        \n",
    "        return progress\n",
    "\n",
    "    async def solve(self,\n",
    "                    task: ArcTask | str,           # ARC task or task ID to solve\n",
    "                    d_direct: int = 1,             # Number of direct descriptions to generate\n",
    "                    d_indirect: int = 1,           # Number of indirect descriptions to generate\n",
    "                    budget: int = 30,              # Maximum number of solution attempts\n",
    "                    temp: float = 0.7,             # Temperature for generation\n",
    "                    **kwargs                       # Additional kwargs passed to attempt/retry functions\n",
    "                   ) -> SolutionTree:              # Tree structure of all attempts\n",
    "        \"Generate and iteratively refine solutions until success or budget exhausted.\"\n",
    "        if isinstance(task, str): task = ArcTask(task)\n",
    "\n",
    "        self.logger.info(f\"\\nSolving task: {task.task_id}\")\n",
    "        roots, n_attempts, total_cost = [], 0, 0.0\n",
    "\n",
    "        self._log_progress(\"Generating descriptions...\", roots, n_attempts, \n",
    "                          budget, 0, total_cost)\n",
    "\n",
    "        ds = await self.describer.describe_task(task, n_direct=d_direct, n_indirect=d_indirect, temp=temp)\n",
    "        total_cost += sum(d.cost for d in ds)\n",
    "    \n",
    "        roots = [Attempt(task=task, description=d, depth=0) for d in ds]\n",
    "    \n",
    "        correct = []\n",
    "        self._log_progress(\"Starting solution attempts...\", roots, n_attempts,\n",
    "                          budget, len(ds), total_cost)\n",
    "        while n_attempts < budget:\n",
    "            if n_attempts == 0:\n",
    "                self._log_progress(\"Generating initial solutions...\", \n",
    "                                roots, n_attempts, budget, len(ds), total_cost)\n",
    "                attempt_tasks = [attempt_solution(r, self.model, self.client_type, self.client_kwargs, self.solve_sp) for r in roots]\n",
    "            else:\n",
    "                self._log_progress(\"Refining previous solutions...\", \n",
    "                                roots, n_attempts, budget, len(ds), total_cost)\n",
    "                best_n = self._get_best_n(roots, self.top_n)\n",
    "                attempt_tasks = [retry_solution(a, self.model, self.client_type, self.client_kwargs) for a in best_n]\n",
    "            attempts = await asyncio.gather(*attempt_tasks)\n",
    "            total_cost += sum(a.chat.cost for a in attempts if a.chat is not None)\n",
    "            # Filter out attempts that failed to generate valid solutions\n",
    "            valid_attempts = [a for a in attempts if a.solution is not None]\n",
    "            if not valid_attempts:\n",
    "                self._log_progress(\"No valid solutions generated, retrying...\", \n",
    "                                roots, n_attempts, budget, len(ds), total_cost)\n",
    "                continue\n",
    "    \n",
    "            # Execute solutions concurrently\n",
    "            self._log_progress(\"Testing solutions...\", \n",
    "                            roots, n_attempts, budget, len(ds), total_cost)\n",
    "            results = run_solutions([a.solution for a in valid_attempts],\n",
    "                                    task, max_workers=self.max_workers)\n",
    "            \n",
    "            # Update attempts with results\n",
    "            for a, r in zip(valid_attempts, results): a.result = r\n",
    "            # Check for successful attemps\n",
    "            if any(successful := [a for a in valid_attempts if a.score == 1.0]):\n",
    "                self._log_progress(\"Found potential solution, validating...\", \n",
    "                                roots, n_attempts, budget, len(ds), total_cost)\n",
    "                test_results = run_solutions([a.solution for a in successful], task, 'test', max_workers=self.max_workers)\n",
    "                for a, r in zip(successful, test_results):\n",
    "                    if r.error is None and all(p == t.output for p, t in zip(r.out_preds, task.test)):\n",
    "                        a.correct = True\n",
    "                        correct.append(a)\n",
    "    \n",
    "            n_attempts = self._count_attempts(roots)\n",
    "            if not any(correct):\n",
    "                if n_attempts > budget:\n",
    "                    self._log_progress(\"Budget exhausted\", roots, n_attempts, budget, len(ds), \n",
    "                                       total_cost, bool(correct))\n",
    "            else: break\n",
    "\n",
    "        status = \"Solution found! 🎉\" if any(correct) else \"Failed to find solution.\"\n",
    "        self._log_progress(status, roots, n_attempts, budget, len(ds), \n",
    "                        total_cost, bool(correct))\n",
    "        \n",
    "        return SolutionTree(task=task, roots=roots, total_cost=total_cost, n_attempts=n_attempts)"
   ]
  },
  {
   "cell_type": "code",
   "execution_count": null,
   "id": "798c9745-f750-42b6-870d-856d39b618ae",
   "metadata": {},
   "outputs": [
    {
     "data": {
      "text/markdown": [
       "---\n",
       "\n",
       "[source](https://github.com/agemoai/arcsolver/blob/main/arcsolver/solve.py#L828){target=\"_blank\" style=\"float:right; font-size:smaller\"}\n",
       "\n",
       "### ArcSolver.solve\n",
       "\n",
       ">      ArcSolver.solve (task:arcsolver.task.ArcTask|str, d_direct:int=1,\n",
       ">                       d_indirect:int=1, budget:int=30, temp:float=0.7,\n",
       ">                       **kwargs)\n",
       "\n",
       "*Generate and iteratively refine solutions until success or budget exhausted.*\n",
       "\n",
       "|    | **Type** | **Default** | **Details** |\n",
       "| -- | -------- | ----------- | ----------- |\n",
       "| task | arcsolver.task.ArcTask \\| str |  | ARC task or task ID to solve |\n",
       "| d_direct | int | 1 | Number of direct descriptions to generate |\n",
       "| d_indirect | int | 1 | Number of indirect descriptions to generate |\n",
       "| budget | int | 30 | Maximum number of solution attempts |\n",
       "| temp | float | 0.7 | Temperature for generation |\n",
       "| kwargs |  |  |  |\n",
       "| **Returns** | **SolutionTree** |  | **Tree structure of all attempts** |"
      ],
      "text/plain": [
       "---\n",
       "\n",
       "[source](https://github.com/agemoai/arcsolver/blob/main/arcsolver/solve.py#L828){target=\"_blank\" style=\"float:right; font-size:smaller\"}\n",
       "\n",
       "### ArcSolver.solve\n",
       "\n",
       ">      ArcSolver.solve (task:arcsolver.task.ArcTask|str, d_direct:int=1,\n",
       ">                       d_indirect:int=1, budget:int=30, temp:float=0.7,\n",
       ">                       **kwargs)\n",
       "\n",
       "*Generate and iteratively refine solutions until success or budget exhausted.*\n",
       "\n",
       "|    | **Type** | **Default** | **Details** |\n",
       "| -- | -------- | ----------- | ----------- |\n",
       "| task | arcsolver.task.ArcTask \\| str |  | ARC task or task ID to solve |\n",
       "| d_direct | int | 1 | Number of direct descriptions to generate |\n",
       "| d_indirect | int | 1 | Number of indirect descriptions to generate |\n",
       "| budget | int | 30 | Maximum number of solution attempts |\n",
       "| temp | float | 0.7 | Temperature for generation |\n",
       "| kwargs |  |  |  |\n",
       "| **Returns** | **SolutionTree** |  | **Tree structure of all attempts** |"
      ]
     },
     "execution_count": null,
     "metadata": {},
     "output_type": "execute_result"
    }
   ],
   "source": [
    "show_doc(ArcSolver.solve)"
   ]
  },
  {
   "attachments": {},
   "cell_type": "markdown",
   "id": "244948bf-daa1-4564-9759-8aebc4f722a6",
   "metadata": {},
   "source": [
    "Let's try it out on an example task"
   ]
  },
  {
   "cell_type": "code",
   "execution_count": null,
   "id": "5f143d9f-f34f-459f-a125-27d19377b8bf",
   "metadata": {},
   "outputs": [],
   "source": [
    "#| hide\n",
    "random.seed(42)"
   ]
  },
  {
   "cell_type": "code",
   "execution_count": null,
   "id": "6512bdad-e753-4923-8a84-fd367936197e",
   "metadata": {},
   "outputs": [
    {
     "name": "stdout",
     "output_type": "stream",
     "text": [
      "Task: ae3edfdc\n",
      "\n"
     ]
    },
    {
     "data": {
      "image/png": "[encoded data removed]",
      "text/plain": [
       "<Figure size 800x1200 with 6 Axes>"
      ]
     },
     "metadata": {},
     "output_type": "display_data"
    }
   ],
   "source": [
    "t = random.choice(train_tasks)\n",
    "task = ArcTask(t)\n",
    "print(f\"Task: {t}\\n\")\n",
    "task.plot()"
   ]
  },
  {
   "cell_type": "code",
   "execution_count": null,
   "id": "3e27fa08-9981-4b27-aa89-9d197ffd62d4",
   "metadata": {},
   "outputs": [
    {
     "name": "stdout",
     "output_type": "stream",
     "text": [
      "\n",
      "Solving task: ae3edfdc\n",
      "Generating descriptions... | Attempts: 0/30 | Best Score: 0.000 | Cost: $0.000\n",
      "Starting solution attempts... | Attempts: 0/30 | Best Score: 0.000 | Cost: $0.259\n",
      "Generating initial solutions... | Attempts: 0/30 | Best Score: 0.000 | Cost: $0.259\n",
      "Testing solutions... | Attempts: 0/30 | Best Score: 0.000 | Cost: $0.586\n",
      "Refining previous solutions... | Attempts: 6/30 | Best Score: 0.978 | Cost: $0.586\n",
      "Testing solutions... | Attempts: 6/30 | Best Score: 0.978 | Cost: $0.879\n",
      "Refining previous solutions... | Attempts: 11/30 | Best Score: 0.996 | Cost: $0.879\n",
      "Testing solutions... | Attempts: 11/30 | Best Score: 0.996 | Cost: $1.201\n",
      "Refining previous solutions... | Attempts: 16/30 | Best Score: 0.996 | Cost: $1.201\n",
      "Testing solutions... | Attempts: 16/30 | Best Score: 0.996 | Cost: $1.559\n",
      "Found potential solution, validating... | Attempts: 16/30 | Best Score: 1.000 | Cost: $1.559\n",
      "Solution found! 🎉 | Attempts: 21/30 | Best Score: 1.000 | Cost: $1.559\n"
     ]
    }
   ],
   "source": [
    "#| eval: false\n",
    "solver = ArcSolver(top_n=5)\n",
    "solutions = await solver.solve(task, d_direct=5, d_indirect=1, budget=30)"
   ]
  },
  {
   "cell_type": "code",
   "execution_count": null,
   "id": "e378f374-68bf-4e42-9ebd-7c205c4b797a",
   "metadata": {},
   "outputs": [
    {
     "data": {
      "text/plain": [
       "ArcTask ae3edfdc (Solved)\n",
       "Attempts: 21\n",
       "Correct: 1\n",
       "Best Score: 1.000\n",
       "Total Cost: $1.559"
      ]
     },
     "execution_count": null,
     "metadata": {},
     "output_type": "execute_result"
    }
   ],
   "source": [
    "#| eval: false\n",
    "solutions"
   ]
  },
  {
   "cell_type": "code",
   "execution_count": null,
   "id": "8d61b9e9-c0b0-4382-98d6-b736f73cb982",
   "metadata": {},
   "outputs": [
    {
     "name": "stdout",
     "output_type": "stream",
     "text": [
      "Task ae3edfdc\n",
      "├── Description 1 (direct, $0.013)\n",
      "│   └── Attempt 1 | Score: 0.978 | Cost: $0.052\n",
      "│       ├── Attempt 1 | Score: 0.976 | Cost: $0.056\n",
      "│       └── Attempt 2 | Score: 0.979 | Cost: $0.055\n",
      "├── Description 2 (direct, $0.012)\n",
      "│   └── Attempt 1 | Score: 0.972 | Cost: $0.065\n",
      "│       └── Attempt 1 | Score: 0.991 | Cost: $0.064\n",
      "│           ├── Attempt 1 | Score: 0.990 | Cost: $0.068\n",
      "│           │   └── Attempt 1 | Score: 1.000 | Cost: $0.080 | 🎉\n",
      "│           └── Attempt 2 | Score: 0.978 | Cost: $0.073\n",
      "├── Description 3 (direct, $0.012)\n",
      "│   └── Attempt 1 | Score: 0.976 | Cost: $0.049\n",
      "│       └── Attempt 1 | Score: 0.974 | Cost: $0.061\n",
      "├── Description 4 (direct, $0.012)\n",
      "│   └── Attempt 1 | Score: 0.000 | Cost: $0.054\n",
      "│       └── Attempt 1 | Score: 0.977 | Cost: $0.058\n",
      "│           └── Attempt 1 | Score: 0.983 | Cost: $0.071\n",
      "│               └── Attempt 1 | Score: 0.976 | Cost: $0.076\n",
      "├── Description 5 (direct, $0.012)\n",
      "│   └── Attempt 1 | Score: 0.978 | Cost: $0.056\n",
      "│       ├── Attempt 1 | Score: 0.996 | Cost: $0.054\n",
      "│       │   ├── Attempt 1 | Score: 0.990 | Cost: $0.064\n",
      "│       │   │   └── Attempt 1 | Score: 0.981 | Cost: $0.070\n",
      "│       │   └── Attempt 2 | Score: 0.981 | Cost: $0.060\n",
      "│       └── Attempt 2 | Score: 0.967 | Cost: $0.063\n",
      "└── Description 6 (indirect, $0.198)\n",
      "    └── Attempt 1 | Score: 0.000 | Cost: $0.051\n",
      "\n"
     ]
    }
   ],
   "source": [
    "#| eval: false\n",
    "solutions.show()"
   ]
  },
  {
   "attachments": {},
   "cell_type": "markdown",
   "id": "01c65973-b29e-41a5-bd8e-606e3affafdf",
   "metadata": {},
   "source": [
    "Nice, let's have a look at the test prediction"
   ]
  },
  {
   "cell_type": "code",
   "execution_count": null,
   "id": "de60ee66-433a-48e8-9554-e0283552e313",
   "metadata": {},
   "outputs": [
    {
     "data": {
      "image/png": "[encoded data removed]",
      "text/plain": [
       "<Figure size 800x400 with 2 Axes>"
      ]
     },
     "metadata": {},
     "output_type": "display_data"
    }
   ],
   "source": [
    "#| eval: false\n",
    "executor = SandboxedExecutor()\n",
    "test_pred = executor.run(solutions.correct[0].solution, task, split='test')\n",
    "ArcPair(test_pred.in_preds[0], test_pred.out_preds[0]).plot()"
   ]
  },
  {
   "attachments": {},
   "cell_type": "markdown",
   "id": "34adf02c-b318-4d4a-b723-b91ec840f363",
   "metadata": {},
   "source": [
    "And let's inspect the description that led to a successful solution:"
   ]
  },
  {
   "cell_type": "code",
   "execution_count": null,
   "id": "b3c2d36c-a1ca-4e9a-b138-d8918f630e0e",
   "metadata": {},
   "outputs": [
    {
     "name": "stdout",
     "output_type": "stream",
     "text": [
      "The input grids contain scattered colored pixels where red and blue pixels serve as attraction points for other colors. Green pixels are attracted to and move adjacent to red pixels, while orange pixels are attracted to and move adjacent to blue pixels. The positions of red and blue pixels remain fixed, while green and orange pixels move to become orthogonally adjacent to their respective attractors, forming clusters in the output grid. The background black color and grid dimensions remain unchanged throughout the transformation.\n"
     ]
    }
   ],
   "source": [
    "#| output: false\n",
    "#| eval: false\n",
    "print(solutions.correct[0].description.d)"
   ]
  },
  {
   "cell_type": "code",
   "execution_count": null,
   "id": "1e83bbe6-5379-41a4-ba70-f7aec0ccb146",
   "metadata": {},
   "outputs": [
    {
     "name": "stdout",
     "output_type": "stream",
     "text": [
      "> The input grids contain scattered colored pixels where red and blue pixels serve as attraction points for other colors. Green pixels are attracted to and move adjacent to red pixels, while orange pixels are attracted to and move adjacent to blue pixels. The positions of red and blue pixels remain fixed, while green and orange pixels move to become orthogonally adjacent to their respective attractors, forming clusters in the output grid. The background black color and grid dimensions remain unchanged throughout the transformation.\n"
     ]
    }
   ],
   "source": [
    "#| echo: false\n",
    "#| output: asis\n",
    "#| eval: false\n",
    "print(f\"> {solutions.correct[0].description.d}\")"
   ]
  },
  {
   "attachments": {},
   "cell_type": "markdown",
   "id": "33d86f75-92b1-4451-93e6-a3d13692be87",
   "metadata": {},
   "source": [
    "Pretty good!"
   ]
  },
  {
   "cell_type": "code",
   "execution_count": null,
   "id": "e5af408f-a23c-484b-8dcf-98ea6ca74108",
   "metadata": {},
   "outputs": [],
   "source": [
    "#| hide\n",
    "import nbdev; nbdev.nbdev_export()"
   ]
  },
  {
   "cell_type": "code",
   "execution_count": null,
   "id": "a8295f93-61c1-4f58-b954-125fa4c5964b",
   "metadata": {},
   "outputs": [],
   "source": []
  }
 ],
 "metadata": {
  "kernelspec": {
   "display_name": "python3",
   "language": "python",
   "name": "python3"
  }
 },
 "nbformat": 4,
 "nbformat_minor": 5
}
