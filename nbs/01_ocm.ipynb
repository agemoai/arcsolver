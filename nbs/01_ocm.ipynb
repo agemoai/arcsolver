{
 "cells": [
  {
   "cell_type": "code",
   "execution_count": null,
   "id": "1060fff8-c393-4781-b3b3-5814ca54b486",
   "metadata": {},
   "outputs": [],
   "source": [
    "#| default_exp ocm"
   ]
  },
  {
   "attachments": {},
   "cell_type": "markdown",
   "id": "a017fa78-292a-4085-9032-7341cb7bc55e",
   "metadata": {},
   "source": [
    "# ocm\n",
    "\n",
    "> Primitive classes for constructing object-centric models (OCMs) for ARC tasks"
   ]
  },
  {
   "attachments": {},
   "cell_type": "markdown",
   "id": "e514364f-3163-4b58-b17c-ddbf20b939f9",
   "metadata": {},
   "source": [
    "An ARC task can be described using an input grid model and an output grid model.\n",
    "\n",
    "- The input OCM describes the variant and invariant properties of valid grids for a given task\n",
    "  -  e.g. the input grid size, the presence of certain distinct colored shapes/patterns, etc.\n",
    "-  The output OCM describes how the properties and objects of an output grid are derived/constructed based on an input grid and the objects contained therein."
   ]
  },
  {
   "cell_type": "code",
   "execution_count": null,
   "id": "d250eec4-f639-46d4-a512-edfa5041680c",
   "metadata": {},
   "outputs": [],
   "source": [
    "#| hide\n",
    "from nbdev.showdoc import *\n",
    "import random\n",
    "import matplotlib.pyplot as plt\n",
    "from arcsolver.task import ArcTask, train_tasks, ArcGrid, ArcPair\n",
    "from fastcore.test import *"
   ]
  },
  {
   "cell_type": "code",
   "execution_count": null,
   "id": "4251b1c3-e4a0-4d10-98c5-c0f9e2f74721",
   "metadata": {},
   "outputs": [],
   "source": [
    "#| hide\n",
    "random.seed(123)"
   ]
  },
  {
   "cell_type": "code",
   "execution_count": null,
   "id": "21056143-76f3-438c-a7da-e6f714aa378e",
   "metadata": {},
   "outputs": [],
   "source": [
    "#| export\n",
    "from fastcore.utils import *\n",
    "from enum import Enum\n",
    "from typing import ClassVar, List, Optional, Tuple, Union, Literal\n",
    "import numpy as np\n",
    "from pydantic import BaseModel, Field, field_validator, model_validator\n",
    "from scipy import ndimage"
   ]
  },
  {
   "attachments": {},
   "cell_type": "markdown",
   "id": "c5029403-0756-4468-bd14-62ec5ecbdb78",
   "metadata": {},
   "source": [
    "## Properties"
   ]
  },
  {
   "attachments": {},
   "cell_type": "markdown",
   "id": "69e12e06-1668-479e-ad0b-fbe9cf392fae",
   "metadata": {},
   "source": [
    "First we will define a few classes for declaring properties of grids and their objects"
   ]
  },
  {
   "cell_type": "code",
   "execution_count": null,
   "id": "dea90cca-4fa1-4a04-8c28-68d45f05118c",
   "metadata": {},
   "outputs": [],
   "source": [
    "#| export\n",
    "class Vector(BaseModel):\n",
    "    \"2D vector for positions, sizes, and directions.\"\n",
    "    i: int\n",
    "    j: int\n",
    "\n",
    "    def __init__(self, i: int, j: int):\n",
    "        super().__init__(i=i, j=j)\n",
    "\n",
    "    def to_array(self) -> np.ndarray:\n",
    "        return np.array([self.i, self.j], dtype=int)\n",
    "\n",
    "    @classmethod\n",
    "    def from_array(cls, a: Union[np.ndarray, List, Tuple]) -> 'Vector':\n",
    "        if not isinstance(a, np.ndarray): a = np.array(a)\n",
    "        if a.shape != (2,) or a.dtype != int:\n",
    "            raise ValueError(\"Need 1D array with 2 ints\")\n",
    "        return cls(i=int(a[0]), j=int(a[1]))\n",
    "\n",
    "    def __add__(self, o): return Vector(i=self.i + o.i, j=self.j + o.j)\n",
    "    def __sub__(self, o): return Vector(i=self.i - o.i, j=self.j - o.j)\n",
    "    def __mul__(self, s): return Vector(i=self.i * s, j=self.j * s)\n",
    "    def __rmul__(self, s): return self.__mul__(s)"
   ]
  },
  {
   "attachments": {},
   "cell_type": "markdown",
   "id": "b567e488-4b7e-431d-a213-ac4ea7f8a751",
   "metadata": {},
   "source": [
    "We will use a `Vector` class for specifying positions etc. in ARC grids. Positions are denoted as an (`i`, `j`) coordinate with respect to the top-left corner of an ARC grid."
   ]
  },
  {
   "cell_type": "code",
   "execution_count": null,
   "id": "c242e269-f4d0-4551-98b8-ecc1a542fdf9",
   "metadata": {},
   "outputs": [
    {
     "data": {
      "text/plain": [
       "Vector(i=0, j=0)"
      ]
     },
     "execution_count": null,
     "metadata": {},
     "output_type": "execute_result"
    }
   ],
   "source": [
    "Vector(0,0)"
   ]
  },
  {
   "attachments": {},
   "cell_type": "markdown",
   "id": "8ac65ae3-eaed-4989-912d-380a579b4630",
   "metadata": {},
   "source": [
    "Addition, subtraction and scalar multiplication are supported"
   ]
  },
  {
   "cell_type": "code",
   "execution_count": null,
   "id": "7ffc485f-873d-4070-8535-12dfe98012b1",
   "metadata": {},
   "outputs": [],
   "source": [
    "test_eq(Vector(2,2), Vector(1,1) + Vector(1,1))\n",
    "test_eq(Vector(6,2), 2*Vector(3,1))\n",
    "test_ne(Vector(2,3), Vector(3,2))"
   ]
  },
  {
   "attachments": {},
   "cell_type": "markdown",
   "id": "ae57ce55-04cd-44b3-9f65-b2cfc653d3f9",
   "metadata": {},
   "source": [
    "The `to_array` method returns a numpy array"
   ]
  },
  {
   "cell_type": "code",
   "execution_count": null,
   "id": "edd4f8c5-158f-4da6-80d1-bf990d03441c",
   "metadata": {},
   "outputs": [
    {
     "data": {
      "text/plain": [
       "array([3, 7])"
      ]
     },
     "execution_count": null,
     "metadata": {},
     "output_type": "execute_result"
    }
   ],
   "source": [
    "Vector(i=3, j=7).to_array()"
   ]
  },
  {
   "attachments": {},
   "cell_type": "markdown",
   "id": "2de9d318-0e69-477e-bbeb-124fc798eb5b",
   "metadata": {},
   "source": [
    "There is also a `from_array` class method, though unpacking is more concise"
   ]
  },
  {
   "cell_type": "code",
   "execution_count": null,
   "id": "43a45df7-7b8f-4d8f-b8a2-3a357d597f27",
   "metadata": {},
   "outputs": [],
   "source": [
    "test_eq(\n",
    "    Vector.from_array(np.array([1,2])), \n",
    "    Vector(*np.array([1,2]))\n",
    ")"
   ]
  },
  {
   "cell_type": "code",
   "execution_count": null,
   "id": "4d4e7591-2f45-48bd-85fe-6893c784a5ae",
   "metadata": {},
   "outputs": [],
   "source": [
    "#| export\n",
    "class Color(BaseModel):\n",
    "    \"Represents a color using an integer value (0-9) or a color name.\"\n",
    "    value: int = Field(..., ge=0, le=9)\n",
    "    colors: ClassVar[List[str]] = ['black', 'blue', 'red', 'green', 'yellow', 'grey', 'pink', 'orange', 'cyan', 'brown']\n",
    "    \n",
    "    def __init__(self, value: Union[int, str]):\n",
    "        if isinstance(value, str): value = self.colors.index(value.lower())\n",
    "        super().__init__(value=value)\n",
    "\n",
    "    def to_array(self): return np.array([self.value], dtype=int)\n",
    "\n",
    "    def __str__(self): return f\"Color('{self.colors[self.value]}', value={self.value})\"\n",
    "    __repr__ = __str__"
   ]
  },
  {
   "attachments": {},
   "cell_type": "markdown",
   "id": "54b910b3-3bba-460c-8fc3-d800d0c89a7d",
   "metadata": {},
   "source": [
    "There are 10 colors in ARC grids:"
   ]
  },
  {
   "cell_type": "code",
   "execution_count": null,
   "id": "6ac01171-3861-4ba3-bb7e-8dbea09eefc1",
   "metadata": {},
   "outputs": [
    {
     "name": "stdout",
     "output_type": "stream",
     "text": [
      "['black', 'blue', 'red', 'green', 'yellow', 'grey', 'pink', 'orange', 'cyan', 'brown']\n"
     ]
    }
   ],
   "source": [
    "print(Color.colors)"
   ]
  },
  {
   "attachments": {},
   "cell_type": "markdown",
   "id": "fd2a6376-af4d-4027-addd-3faacb8b18b8",
   "metadata": {},
   "source": [
    "The `Color` class holds the mapping, allowing us to instantiate color properties using either the name or integer value"
   ]
  },
  {
   "cell_type": "code",
   "execution_count": null,
   "id": "f729784e-6116-42f4-8182-25d721c9e92e",
   "metadata": {},
   "outputs": [
    {
     "data": {
      "text/plain": [
       "Color('blue', value=1)"
      ]
     },
     "execution_count": null,
     "metadata": {},
     "output_type": "execute_result"
    }
   ],
   "source": [
    "Color('blue')"
   ]
  },
  {
   "cell_type": "code",
   "execution_count": null,
   "id": "e1881f06-9dec-4a26-88ab-15622468ba16",
   "metadata": {},
   "outputs": [],
   "source": [
    "test_eq(Color('green'), Color(3))"
   ]
  },
  {
   "cell_type": "code",
   "execution_count": null,
   "id": "6691fba5-39d7-4a62-92d6-a23a10e18b28",
   "metadata": {},
   "outputs": [],
   "source": [
    "#| export\n",
    "class Direction(Enum):\n",
    "    \"Represents cardinal and intercardinal directions as 2D vectors.\"\n",
    "    UP = Vector(i=-1, j=0)\n",
    "    DOWN = Vector(i=1, j=0)\n",
    "    LEFT = Vector(i=0, j=-1)\n",
    "    RIGHT = Vector(i=0, j=1)\n",
    "    NE = Vector(i=-1, j=1)\n",
    "    SW = Vector(i=1, j=-1)\n",
    "    NW = Vector(i=-1, j=-1)\n",
    "    SE = Vector(i=1, j=1)\n",
    "\n",
    "    def to_array(self): return self.value.to_array()\n",
    "\n",
    "    @classmethod\n",
    "    def from_array(cls, arr: np.ndarray) -> 'Direction':\n",
    "        v = Vector(*arr)\n",
    "        for dir in cls:\n",
    "            if dir.value == v: return dir\n",
    "        raise ValueError(f\"No direction matches {v}\")"
   ]
  },
  {
   "attachments": {},
   "cell_type": "markdown",
   "id": "8f9f41fd-4a64-4136-9e60-d3ac4d62bb0d",
   "metadata": {},
   "source": [
    "With `Direction`, we can describe objects such as a line by their start position, length and direction."
   ]
  },
  {
   "cell_type": "code",
   "execution_count": null,
   "id": "f4f1770a-6175-4b38-bbda-09047ce2d240",
   "metadata": {},
   "outputs": [
    {
     "data": {
      "text/plain": [
       "Vector(i=-1, j=0)"
      ]
     },
     "execution_count": null,
     "metadata": {},
     "output_type": "execute_result"
    }
   ],
   "source": [
    "Direction.UP.value"
   ]
  },
  {
   "attachments": {},
   "cell_type": "markdown",
   "id": "9a3abc6f-6f33-4aa7-9a19-87a5263ca82c",
   "metadata": {},
   "source": [
    "## Objects"
   ]
  },
  {
   "attachments": {},
   "cell_type": "markdown",
   "id": "599fa0a8-4073-4f5d-96e9-113282d66807",
   "metadata": {},
   "source": [
    "The core primitive in ARC tasks is the concept of an `Object`, located at a `position` somewhere in the grid. We will define specific classes for different shapes that will each inherit from this base clase."
   ]
  },
  {
   "cell_type": "code",
   "execution_count": null,
   "id": "3be33336-c0b2-4126-8a25-a42619dade87",
   "metadata": {},
   "outputs": [],
   "source": [
    "#| export\n",
    "class Object(BaseModel):\n",
    "    \"Base class for shape objects in ARC tasks.\"\n",
    "    position: Vector\n",
    "\n",
    "    def _get_shape_array(self) -> np.ndarray:\n",
    "        \"Abstract method for getting the shape's array without positioning.\"\n",
    "        raise NotImplementedError(\"Subclasses must implement this method\")"
   ]
  },
  {
   "cell_type": "code",
   "execution_count": null,
   "id": "09115fe3-7ba5-4b6a-8572-74952a531887",
   "metadata": {},
   "outputs": [],
   "source": [
    "#| export\n",
    "class Rectangle(Object):\n",
    "    \"Rectangular shape.\"\n",
    "    size: Vector\n",
    "    color: Color\n",
    "\n",
    "    def _get_shape_array(self) -> np.ndarray:\n",
    "        return np.full(self.size.to_array(), self.color.value, dtype=int)"
   ]
  },
  {
   "attachments": {},
   "cell_type": "markdown",
   "id": "5b8ef37d-45cb-484f-a83d-5e9c36c5b6b8",
   "metadata": {},
   "source": [
    "The simplest object is a `Rectangle`, which represents any contiguous rectangular sub-array within the grid. A singleton cell is just a `Rectangle` of size `Vector(1,1)`"
   ]
  },
  {
   "attachments": {},
   "cell_type": "markdown",
   "id": "7bf6e8c4-ad6f-4654-aa21-b445039f2525",
   "metadata": {},
   "source": [
    "We give each specific shape a `_get_shape_array` private method for converting it into a numpy array, e.g.:"
   ]
  },
  {
   "cell_type": "code",
   "execution_count": null,
   "id": "43c88a26-7c1e-4b59-8865-0521bed2a0ef",
   "metadata": {},
   "outputs": [
    {
     "data": {
      "text/plain": [
       "array([[2, 2, 2],\n",
       "       [2, 2, 2],\n",
       "       [2, 2, 2]])"
      ]
     },
     "execution_count": null,
     "metadata": {},
     "output_type": "execute_result"
    }
   ],
   "source": [
    "rec = Rectangle(position=Vector(0,0), size=Vector(3,3), color=Color('red'))\n",
    "rec._get_shape_array()"
   ]
  },
  {
   "cell_type": "code",
   "execution_count": null,
   "id": "f4c5e76d-b8eb-475b-9bca-92bb6821099e",
   "metadata": {},
   "outputs": [],
   "source": [
    "#| export\n",
    "class Line(Object):\n",
    "    \"Line shape.\"\n",
    "    direction: Direction\n",
    "    length: int = Field(..., gt=0)\n",
    "    color: Color\n",
    "\n",
    "    def _get_shape_array(self) -> np.ndarray:\n",
    "        if self.direction in [Direction.UP, Direction.DOWN]: shape = (self.length, 1)\n",
    "        elif self.direction in [Direction.LEFT, Direction.RIGHT]: shape = (1, self.length)\n",
    "        else: shape = (self.length, self.length)\n",
    "\n",
    "        arr = np.full(shape, -1)\n",
    "        if self.direction in [Direction.UP, Direction.DOWN, Direction.LEFT, Direction.RIGHT]:\n",
    "            arr.fill(self.color.value)\n",
    "        elif self.direction in [Direction.NE, Direction.SW]:\n",
    "            np.fill_diagonal(np.fliplr(arr), self.color.value)\n",
    "        else:  # NW, SE\n",
    "            np.fill_diagonal(arr, self.color.value)\n",
    "        return arr"
   ]
  },
  {
   "attachments": {},
   "cell_type": "markdown",
   "id": "4ebebeb7-6dc5-4687-b843-b99ddd73bc8e",
   "metadata": {},
   "source": [
    "ARC grids often feature straight line objects; e.g. spanning the grid, connecting more complex shapes, etc. To allow us to capture both horizontal/vertical and diagonal lines, we'll create a new primitive."
   ]
  },
  {
   "attachments": {},
   "cell_type": "markdown",
   "id": "8b29dd82-1088-4727-935c-0bb3f232be2f",
   "metadata": {},
   "source": [
    "For diagonal lines, the `_get_shape_array` method will return a 2d array with the color value along the appropriate diagonal and `-1` elsewhere"
   ]
  },
  {
   "cell_type": "code",
   "execution_count": null,
   "id": "cd7a4d46-e21f-4ec0-8d49-af33eb461522",
   "metadata": {},
   "outputs": [
    {
     "data": {
      "text/plain": [
       "array([[ 3, -1, -1, -1],\n",
       "       [-1,  3, -1, -1],\n",
       "       [-1, -1,  3, -1],\n",
       "       [-1, -1, -1,  3]])"
      ]
     },
     "execution_count": null,
     "metadata": {},
     "output_type": "execute_result"
    }
   ],
   "source": [
    "l = Line(position=Vector(5,5), direction=Direction.NW, length=4, color=Color(3))\n",
    "l._get_shape_array()"
   ]
  },
  {
   "attachments": {},
   "cell_type": "markdown",
   "id": "8816828c-df77-4b58-a43f-dab33fc3d244",
   "metadata": {},
   "source": [
    "Note that the position of an object in the grid always refers to its top-left corner. For an orthogonal line with direction `UP` or `LEFT`, or for diagonal lines with direction `NW`, `NE` or `SW`, we will need to subtract an offset to determine the object's correct position."
   ]
  },
  {
   "cell_type": "code",
   "execution_count": null,
   "id": "38980068-c818-405e-96f0-32ff3355add7",
   "metadata": {},
   "outputs": [],
   "source": [
    "#| export\n",
    "#| hide\n",
    "@patch(as_prop=True)\n",
    "def offset(self: Line) -> Vector:\n",
    "        \"Calculate the offset of the line based on its direction.\"\n",
    "        if self.direction == Direction.UP: return Vector(-self.length + 1, 0)\n",
    "        elif self.direction == Direction.LEFT: return Vector(0, -self.length + 1)\n",
    "        elif self.direction == Direction.NW: return Vector(-self.length + 1, -self.length + 1)\n",
    "        elif self.direction == Direction.NE: return Vector(-self.length + 1, 0)\n",
    "        elif self.direction == Direction.SW: return Vector(0, -self.length + 1)\n",
    "        return Vector(0, 0)"
   ]
  },
  {
   "cell_type": "code",
   "execution_count": null,
   "id": "7e279315-226e-4ef1-abde-459480a989b4",
   "metadata": {},
   "outputs": [
    {
     "data": {
      "text/plain": [
       "Vector(i=-3, j=-3)"
      ]
     },
     "execution_count": null,
     "metadata": {},
     "output_type": "execute_result"
    }
   ],
   "source": [
    "l.offset"
   ]
  },
  {
   "cell_type": "code",
   "execution_count": null,
   "id": "623f8553-42ce-4f98-9abc-a2912763ebc9",
   "metadata": {},
   "outputs": [],
   "source": [
    "#| export\n",
    "class Bitmap(Object):\n",
    "    \"Multi-colored bitmap pattern.\"\n",
    "    data: np.ndarray\n",
    "\n",
    "    model_config = {\"arbitrary_types_allowed\": True}\n",
    "\n",
    "    @field_validator('data')\n",
    "    @classmethod\n",
    "    def validate_data(cls, v):\n",
    "        if not isinstance(v, np.ndarray): raise ValueError('Must be a numpy array')\n",
    "        if v.ndim != 2: raise ValueError('Must be a 2D array')\n",
    "        if v.dtype != int: raise ValueError('Array must contain integer values')\n",
    "        if np.any(v < -1) or np.any(v > 9): raise ValueError('Array values must be between -1 and 9')\n",
    "        return v\n",
    "\n",
    "    def _get_shape_array(self) -> np.ndarray: return self.data\n",
    "\n",
    "    @property\n",
    "    def size(self) -> Vector: return Vector.from_array(self.data.shape)\n",
    "\n",
    "    def rotate(self, n=1): return Bitmap(position=self.position, data=np.rot90(self.data, k=n))\n",
    "    def flip(self, axis): return Bitmap(position=self.position, data=np.flip(self.data, axis=axis))"
   ]
  },
  {
   "attachments": {},
   "cell_type": "markdown",
   "id": "5abce032-a051-4e9f-a418-3e889fa766f8",
   "metadata": {},
   "source": [
    "The `Bitmap` object represents more complex shapes and patterns, including multi-colored patterns."
   ]
  },
  {
   "cell_type": "code",
   "execution_count": null,
   "id": "325c70cd-c96a-42bc-a664-d21a5a1d528f",
   "metadata": {},
   "outputs": [
    {
     "data": {
      "text/plain": [
       "Bitmap(position=Vector(i=2, j=3), data=array([[3, 0],\n",
       "       [3, 3],\n",
       "       [0, 3]]))"
      ]
     },
     "execution_count": null,
     "metadata": {},
     "output_type": "execute_result"
    }
   ],
   "source": [
    "b = Bitmap(position=Vector(2,3), data=np.array([[3,0],[3,3],[0,3]])); b"
   ]
  },
  {
   "attachments": {},
   "cell_type": "markdown",
   "id": "360aa9ec-8330-4790-95cc-21ba6d2906c3",
   "metadata": {},
   "source": [
    "We can now define a general `to_array` method for all objects"
   ]
  },
  {
   "cell_type": "code",
   "execution_count": null,
   "id": "3b3754dc-9eba-49ef-8be7-c649e57b9bba",
   "metadata": {},
   "outputs": [],
   "source": [
    "#| export\n",
    "@patch\n",
    "def to_array(self: Object, grid_size: Optional[Vector] = None) -> np.ndarray:\n",
    "    \"\"\"\n",
    "    If grid_size is provided, returns the object positioned within a grid of that size.\n",
    "    If grid_size is None, returns just the object's array.\n",
    "    \"\"\"\n",
    "    obj_arr = self._get_shape_array()\n",
    "    if not grid_size: return obj_arr\n",
    "\n",
    "    full = np.full(grid_size.to_array(), -1, dtype=int)\n",
    "    offset = self.offset if isinstance(self, Line) else Vector(i=0, j=0)\n",
    "    obj_pos = self.position + offset\n",
    "\n",
    "    if obj_pos.i >= grid_size.i or obj_pos.j >= grid_size.j: return full\n",
    "\n",
    "    # Allow negative positions to crop the object\n",
    "    if obj_pos.i < 0:\n",
    "        obj_arr = obj_arr[-obj_pos.i:]\n",
    "        obj_pos.i = 0\n",
    "    if obj_pos.j < 0:\n",
    "        obj_arr = obj_arr[:, -obj_pos.j:]\n",
    "        obj_pos.j = 0\n",
    "\n",
    "    # Crop the object if it goes beyond the grid\n",
    "    obj_arr = obj_arr[:min(grid_size.i - obj_pos.i, obj_arr.shape[0]),\n",
    "                      :min(grid_size.j - obj_pos.j, obj_arr.shape[1])]\n",
    "\n",
    "    full[obj_pos.i:obj_pos.i + obj_arr.shape[0],\n",
    "         obj_pos.j:obj_pos.j + obj_arr.shape[1]] = obj_arr\n",
    "    return full"
   ]
  },
  {
   "attachments": {},
   "cell_type": "markdown",
   "id": "2bd8f253-edc1-43b7-984f-d9c62953cd99",
   "metadata": {},
   "source": [
    "Let's check the `Line` object we created. For now, we'll just use matplotlib's `imshow` to visualise the array\n",
    "\n",
    "It's a line of length 4, starting at (5,5) and extending in a NW direction."
   ]
  },
  {
   "cell_type": "code",
   "execution_count": null,
   "id": "7a124500-7f0d-495b-9083-9e5539411936",
   "metadata": {},
   "outputs": [
    {
     "data": {
      "text/plain": [
       "Line(position=Vector(i=5, j=5), direction=<Direction.NW: Vector(i=-1, j=-1)>, length=4, color=Color('green', value=3))"
      ]
     },
     "execution_count": null,
     "metadata": {},
     "output_type": "execute_result"
    }
   ],
   "source": [
    "l"
   ]
  },
  {
   "attachments": {},
   "cell_type": "markdown",
   "id": "484436cf-ebb4-4068-8d03-fa53230cd52e",
   "metadata": {},
   "source": [
    "When we use the `grid_size` argument, it will place the object in the correct position within a larger array"
   ]
  },
  {
   "cell_type": "code",
   "execution_count": null,
   "id": "26296578-119b-4941-bd00-490bded8f5f9",
   "metadata": {},
   "outputs": [
    {
     "data": {
      "image/png": "[encoded data removed]",
      "text/plain": [
       "<Figure size 640x480 with 1 Axes>"
      ]
     },
     "metadata": {},
     "output_type": "display_data"
    }
   ],
   "source": [
    "plt.imshow(\n",
    "    l.to_array(grid_size=Vector(7,7))\n",
    ");"
   ]
  },
  {
   "attachments": {},
   "cell_type": "markdown",
   "id": "137b7abb-2613-499f-b6ea-2f00ce0d89c6",
   "metadata": {},
   "source": [
    "## Grid"
   ]
  },
  {
   "attachments": {},
   "cell_type": "markdown",
   "id": "3f786c05-62f0-4ef2-9539-65a6c2a4c6af",
   "metadata": {},
   "source": [
    "The final primitive is a container for multiple objects representing a grid."
   ]
  },
  {
   "cell_type": "code",
   "execution_count": null,
   "id": "7604e380-e800-459f-8fbd-d3f30f537c7c",
   "metadata": {},
   "outputs": [],
   "source": [
    "#| export\n",
    "class Grid(BaseModel):\n",
    "    \"Grid container with a size, background color, and objects.\"\n",
    "    size: Vector  # Size of the grid (r x c)\n",
    "    background_color: Optional[Color] = None  # Must be provided if the object layers do not cover the entire grid.\n",
    "    objects: List[Object] = Field(default_factory=list)  # List of objects contained in the grid.\n",
    "\n",
    "    def to_array(self) -> np.ndarray:\n",
    "        grid = self._create_grid(self.size, self.objects)\n",
    "        # Only replace -1 values with background color if it exists\n",
    "        if self.background_color is not None:\n",
    "            grid = np.where(grid == -1, self.background_color.value, grid)\n",
    "        return grid\n",
    "\n",
    "    def _create_grid(self, size: Vector, objects: List[Object]) -> np.ndarray:\n",
    "        \"Create grid array without using background color.\"\n",
    "        grid = np.full(size.to_array(), -1, dtype=int)\n",
    "        for obj in objects:\n",
    "            obj_array = obj.to_array(size)\n",
    "            if self.background_color is not None:\n",
    "                obj_array[obj_array == self.background_color.value] = -1\n",
    "            grid = np.where(obj_array != -1, obj_array, grid)\n",
    "        return grid\n",
    "\n",
    "    @model_validator(mode='after')\n",
    "    def validate_grid_coverage(self) -> 'Grid':\n",
    "        if self.background_color is None:\n",
    "            grid = self._create_grid(self.size, self.objects)\n",
    "            if np.any(grid == -1):\n",
    "                raise ValueError(\"When background_color is not provided, objects must cover the entire grid\")\n",
    "        return self"
   ]
  },
  {
   "attachments": {},
   "cell_type": "markdown",
   "id": "2b765363-a83c-423a-bce9-bb0dae249614",
   "metadata": {},
   "source": [
    "Now we have everything we need to define grid models."
   ]
  },
  {
   "attachments": {},
   "cell_type": "markdown",
   "id": "7d121946-8143-4120-a07c-1046c7859fa1",
   "metadata": {},
   "source": [
    "## Example"
   ]
  },
  {
   "attachments": {},
   "cell_type": "markdown",
   "id": "d30e6ece-907a-4ea8-bd08-ab8f411d7a53",
   "metadata": {},
   "source": [
    "Let's define grid models for an ARC task"
   ]
  },
  {
   "cell_type": "code",
   "execution_count": null,
   "id": "acadbefc-ab90-4c6e-894e-599a9289137a",
   "metadata": {},
   "outputs": [
    {
     "data": {
      "text/plain": [
       "ArcTask(id='d037b0a7', train_examples=3, test_examples=1)"
      ]
     },
     "execution_count": null,
     "metadata": {},
     "output_type": "execute_result"
    }
   ],
   "source": [
    "t = random.choice(train_tasks)\n",
    "task = ArcTask(t); task"
   ]
  },
  {
   "cell_type": "code",
   "execution_count": null,
   "id": "1f1d4887-88de-41b2-8a86-ec251ab79033",
   "metadata": {},
   "outputs": [
    {
     "data": {
      "image/png": "[encoded data removed]",
      "text/plain": [
       "<Figure size 800x1200 with 6 Axes>"
      ]
     },
     "metadata": {},
     "output_type": "display_data"
    }
   ],
   "source": [
    "task.plot()"
   ]
  },
  {
   "cell_type": "code",
   "execution_count": null,
   "id": "eeb17b5d-c120-4d64-b74f-e2b56eb7244a",
   "metadata": {},
   "outputs": [
    {
     "data": {
      "image/png": "[encoded data removed]",
      "text/plain": [
       "<Figure size 400x400 with 1 Axes>"
      ]
     },
     "metadata": {},
     "output_type": "display_data"
    }
   ],
   "source": [
    "task.test[0].input.plot()"
   ]
  },
  {
   "attachments": {},
   "cell_type": "markdown",
   "id": "0ae7c76a-99b7-4076-a861-a6f9c3ba0418",
   "metadata": {},
   "source": [
    "The input grids are all 3x3 and have a black background, containing at least one singleton colored cell. It's simple to define a model for valid grids in this task:"
   ]
  },
  {
   "cell_type": "code",
   "execution_count": null,
   "id": "879dca67-4e6c-4ae8-a521-67f6918de9ea",
   "metadata": {},
   "outputs": [],
   "source": [
    "class InputModel(Grid):\n",
    "    size: Literal[Vector(3, 3)]\n",
    "    background_color: Literal[Color(0)] = Color(0)\n",
    "\n",
    "    @classmethod\n",
    "    def from_array(cls, arr: np.ndarray) -> 'InputModel':\n",
    "        # Find non-black cells\n",
    "        non_black_positions = np.argwhere(arr != Color(0).value)\n",
    "        \n",
    "        return cls(\n",
    "            size=Vector(*arr.shape),\n",
    "            objects=[\n",
    "                Rectangle(position=Vector(i=row, j=col),\n",
    "                          size=Vector(1,1),\n",
    "                          color=Color(c))\n",
    "                for row, col in non_black_positions\n",
    "                for c in [arr[row, col]]\n",
    "            ]\n",
    "        )"
   ]
  },
  {
   "attachments": {},
   "cell_type": "markdown",
   "id": "f1d024cd-72bc-4010-b004-4a45b9127363",
   "metadata": {},
   "source": [
    "The `from_array` class method parses an arbitrary numpy array and creates an instance of this Grid class (assuming that the array is a valid example of a grid from this task)."
   ]
  },
  {
   "attachments": {},
   "cell_type": "markdown",
   "id": "39691925-b59d-4860-9f44-115cb0ca3795",
   "metadata": {},
   "source": [
    "We can test that the input model is correctly parsing the grid by testing if its `to_array` method reconstructs the original array."
   ]
  },
  {
   "cell_type": "code",
   "execution_count": null,
   "id": "a3e83d59-1594-4f42-bed0-741a164cb2a0",
   "metadata": {},
   "outputs": [
    {
     "data": {
      "image/png": "[encoded data removed]",
      "text/plain": [
       "<Figure size 400x400 with 1 Axes>"
      ]
     },
     "metadata": {},
     "output_type": "display_data"
    }
   ],
   "source": [
    "in_grid = InputModel.from_array(task.train[0].input.data)\n",
    "ArcGrid(data=in_grid.to_array()).plot()"
   ]
  },
  {
   "cell_type": "code",
   "execution_count": null,
   "id": "92774db3-d8bb-4603-9d6a-955f9e1287b2",
   "metadata": {},
   "outputs": [],
   "source": [
    "for example in task.train:\n",
    "    in_arr = example.input.data\n",
    "    test_eq(in_arr, InputModel.from_array(in_arr).to_array())"
   ]
  },
  {
   "attachments": {},
   "cell_type": "markdown",
   "id": "10080707-2d1c-4494-99a7-86838bd3eb28",
   "metadata": {},
   "source": [
    "An output model for this task just needs to construct vertical lines starting at each colored cell and extending down to the bottom of the grid."
   ]
  },
  {
   "cell_type": "code",
   "execution_count": null,
   "id": "4ef98335-f7c0-4872-bac8-da5c8880ee22",
   "metadata": {},
   "outputs": [],
   "source": [
    "class OutputModel(Grid):\n",
    "    @classmethod\n",
    "    def from_input(cls, input_grid: InputModel) -> 'OutputModel':\n",
    "        size = input_grid.size\n",
    "        # construct vertical lines extending downward from each colored point\n",
    "        objects = [\n",
    "            Line(position=o.position, direction=Direction.DOWN, length=3-o.position.i, color=o.color)\n",
    "            for o in input_grid.objects\n",
    "        ]\n",
    "\n",
    "        return cls(\n",
    "            size=size,\n",
    "            background_color=input_grid.background_color,\n",
    "            objects=objects\n",
    "        )"
   ]
  },
  {
   "cell_type": "code",
   "execution_count": null,
   "id": "687c279a-a085-4169-877b-f1a739d5a18b",
   "metadata": {},
   "outputs": [
    {
     "data": {
      "image/png": "[encoded data removed]",
      "text/plain": [
       "<Figure size 400x400 with 1 Axes>"
      ]
     },
     "metadata": {},
     "output_type": "display_data"
    }
   ],
   "source": [
    "out_grid = OutputModel.from_input(in_grid)\n",
    "ArcGrid(out_grid.to_array()).plot()"
   ]
  },
  {
   "attachments": {},
   "cell_type": "markdown",
   "id": "34ce9495-558e-4198-886b-1bf224ff04f9",
   "metadata": {},
   "source": [
    "Let's test it out on the test example"
   ]
  },
  {
   "cell_type": "code",
   "execution_count": null,
   "id": "b9396224-f668-4940-8f07-9a4b0c2ad8e9",
   "metadata": {},
   "outputs": [],
   "source": [
    "in_grid_test = InputModel.from_array(\n",
    "    task.test[0].input.data\n",
    ")\n",
    "out_grid_test = OutputModel.from_input(in_grid_test)"
   ]
  },
  {
   "cell_type": "code",
   "execution_count": null,
   "id": "1a9d573f-b2df-498a-8c24-6774cf0b9f1e",
   "metadata": {},
   "outputs": [
    {
     "data": {
      "image/png": "[encoded data removed]",
      "text/plain": [
       "<Figure size 800x400 with 2 Axes>"
      ]
     },
     "metadata": {},
     "output_type": "display_data"
    }
   ],
   "source": [
    "ArcPair(\n",
    "    input_grid=in_grid_test.to_array(),\n",
    "    output_grid=out_grid_test.to_array()\n",
    ").plot()"
   ]
  },
  {
   "attachments": {},
   "cell_type": "markdown",
   "id": "32a32ae9-98b9-483c-b66c-d31c34c1705c",
   "metadata": {},
   "source": [
    "Looks good! Let's double check against the hidden test array"
   ]
  },
  {
   "cell_type": "code",
   "execution_count": null,
   "id": "f5ecf548-f8a3-45a8-ad9c-4ecc3bc067e7",
   "metadata": {},
   "outputs": [
    {
     "data": {
      "text/plain": [
       "True"
      ]
     },
     "execution_count": null,
     "metadata": {},
     "output_type": "execute_result"
    }
   ],
   "source": [
    "ArcGrid(task.test[0].output.data) == ArcGrid(out_grid_test.to_array())"
   ]
  },
  {
   "attachments": {},
   "cell_type": "markdown",
   "id": "1c57827e-2bff-4a5d-96e7-47ab576e88a0",
   "metadata": {},
   "source": [
    "## Helper Functions\n",
    "\n",
    "We can define a few helper functions for perfoming common operations in ARC tasks"
   ]
  },
  {
   "cell_type": "code",
   "execution_count": null,
   "id": "6c3fa56d-c235-414c-b572-38a9764a7d77",
   "metadata": {},
   "outputs": [],
   "source": [
    "#| export\n",
    "class ShapeExtractor:\n",
    "    'Extract distinct \"shapes\" (i.e. contiguous regions of the same value) from a numpy array'\n",
    "    # Define the connectivity structures as class attributes\n",
    "    ORTH = np.array([[0,1,0], [1,1,1], [0,1,0]])\n",
    "    DIAG = np.ones((3,3))\n",
    "\n",
    "    @staticmethod\n",
    "    def extract_contiguous_regions(\n",
    "        array: np.ndarray,\n",
    "        value: int,\n",
    "        include_diagonal: bool = False,\n",
    "        background_color: Optional[int] = None\n",
    "    ) -> List[Tuple[np.ndarray, Tuple[int, int]]]:\n",
    "        \"\"\"Extract contiguous regions of a specified value from a numpy array. Can include diagonal connections if specified.\"\"\"\n",
    "        arr = array.copy()\n",
    "        mask = (arr == value)\n",
    "        structure = ShapeExtractor.DIAG if include_diagonal else ShapeExtractor.ORTH\n",
    "        labeled, _ = ndimage.label(mask, structure=structure)\n",
    "        slices = ndimage.find_objects(labeled)\n",
    "\n",
    "        regions = sorted([(np.sum(mask[s]), s, arr[s]) for s in slices],\n",
    "                         key=lambda x: x[0], reverse=True)\n",
    "        for region in regions:\n",
    "            if background_color is not None: region[2][region[2] == background_color] = -1\n",
    "\n",
    "        return [(r[2], (r[1][0].start, r[1][1].start)) for r in regions]\n",
    "\n",
    "    @staticmethod\n",
    "    def extract_largest_shape(\n",
    "        array: np.ndarray,\n",
    "        value: int,\n",
    "        include_diagonal: bool = False,\n",
    "        background_color: Optional[int] = None\n",
    "    ) -> Tuple[Optional[np.ndarray], Optional[Tuple[int, int]]]:\n",
    "        \"\"\"\n",
    "        Extract the largest contiguous shape of a specified value from a numpy array.\"\"\"\n",
    "        regions = ShapeExtractor.extract_contiguous_regions(array, value, include_diagonal, background_color)\n",
    "        return regions[0] if regions else (None, None)\n",
    "\n",
    "    @staticmethod\n",
    "    def extract_all_shapes(\n",
    "        array: np.ndarray,  # Numpy array\n",
    "        include_diagonal: bool = False,  # Consider diagonally adjacent cells as connected or not\n",
    "        background_color: Optional[int] = None  # Optionally specify a background color to ignore\n",
    "    ) -> List[Tuple[np.ndarray, Tuple[int, int], int]]:  # List of (sub-array, position, color_value) tuples\n",
    "        \"Extract all shapes of all values from a numpy array.\"\n",
    "        all_shapes = []\n",
    "        for value in np.unique(array):\n",
    "            if background_color is not None and value == background_color: continue\n",
    "            shapes = ShapeExtractor.extract_contiguous_regions(array, value, include_diagonal, background_color)\n",
    "            all_shapes.extend([(shape, pos, value) for shape, pos in shapes])\n",
    "        return all_shapes"
   ]
  },
  {
   "attachments": {},
   "cell_type": "markdown",
   "id": "e81564d1-a759-4604-a374-67d56495b05e",
   "metadata": {},
   "source": [
    "During parsing, almost all ARC tasks involve extracting specific shapes. This helper functions removes the need to implement this logic each time. It contains various static methods, e.g.:"
   ]
  },
  {
   "cell_type": "code",
   "execution_count": null,
   "id": "79cd9b76-a4f5-4db5-980d-714b50037397",
   "metadata": {},
   "outputs": [
    {
     "data": {
      "text/markdown": [
       "---\n",
       "\n",
       "[source](https://github.com/agemoai/arcsolver/blob/main/arcsolver/ocm.py#L260){target=\"_blank\" style=\"float:right; font-size:smaller\"}\n",
       "\n",
       "### ShapeExtractor.extract_all_shapes\n",
       "\n",
       ">      ShapeExtractor.extract_all_shapes (array:numpy.ndarray,\n",
       ">                                         include_diagonal:bool=False,\n",
       ">                                         background_color:Optional[int]=None)\n",
       "\n",
       "*Extract all shapes of all values from a numpy array.*\n",
       "\n",
       "|    | **Type** | **Default** | **Details** |\n",
       "| -- | -------- | ----------- | ----------- |\n",
       "| array | ndarray |  | Numpy array |\n",
       "| include_diagonal | bool | False | Consider diagonally adjacent cells as connected or not |\n",
       "| background_color | Optional | None | Optionally specify a background color to ignore |\n",
       "| **Returns** | **List** |  | **List of (sub-array, position, color_value) tuples** |"
      ],
      "text/plain": [
       "---\n",
       "\n",
       "[source](https://github.com/agemoai/arcsolver/blob/main/arcsolver/ocm.py#L260){target=\"_blank\" style=\"float:right; font-size:smaller\"}\n",
       "\n",
       "### ShapeExtractor.extract_all_shapes\n",
       "\n",
       ">      ShapeExtractor.extract_all_shapes (array:numpy.ndarray,\n",
       ">                                         include_diagonal:bool=False,\n",
       ">                                         background_color:Optional[int]=None)\n",
       "\n",
       "*Extract all shapes of all values from a numpy array.*\n",
       "\n",
       "|    | **Type** | **Default** | **Details** |\n",
       "| -- | -------- | ----------- | ----------- |\n",
       "| array | ndarray |  | Numpy array |\n",
       "| include_diagonal | bool | False | Consider diagonally adjacent cells as connected or not |\n",
       "| background_color | Optional | None | Optionally specify a background color to ignore |\n",
       "| **Returns** | **List** |  | **List of (sub-array, position, color_value) tuples** |"
      ]
     },
     "execution_count": null,
     "metadata": {},
     "output_type": "execute_result"
    }
   ],
   "source": [
    "show_doc(ShapeExtractor.extract_all_shapes)"
   ]
  },
  {
   "cell_type": "code",
   "execution_count": null,
   "id": "36964d26-0db8-42c7-82ec-be742406b49c",
   "metadata": {},
   "outputs": [],
   "source": [
    "#| export\n",
    "class PatternMatcher:\n",
    "    \"\"\"\n",
    "    A class for finding alignments between patterns in numpy arrays.\n",
    "    Supports exact matching and partial matching with missing or extra elements.\n",
    "    \"\"\"\n",
    "\n",
    "    @staticmethod\n",
    "    def find_matches(\n",
    "        target: np.ndarray,  # The larger array to search in\n",
    "        pattern: np.ndarray,  # The smaller array containing the pattern to match\n",
    "        match_type: str = 'exact'  # 'exact', 'allow_missing', or 'allow_extra'\n",
    "    ) -> List[Tuple[Vector, int]]:\n",
    "        \"\"\"\n",
    "        Find positions where a pattern aligns with a target, sorted by overlap count\n",
    "        for non-exact matches.\n",
    "        \"\"\"\n",
    "        h, w = pattern.shape\n",
    "        H, W = target.shape\n",
    "        matches = []\n",
    "\n",
    "        for i in range(H - h + 1):\n",
    "            for j in range(W - w + 1):\n",
    "                window = target[i:i+h, j:j+w]\n",
    "\n",
    "                # Get masks for non-zero elements\n",
    "                pattern_nonzero = pattern != 0\n",
    "                window_nonzero = window != 0\n",
    "\n",
    "                # Check for mismatches based on match_type\n",
    "                if match_type != 'allow_missing':\n",
    "                    if np.any(window_nonzero & ~pattern_nonzero): continue\n",
    "\n",
    "                if match_type != 'allow_extra':\n",
    "                    if np.any(pattern_nonzero & ~window_nonzero): continue\n",
    "\n",
    "                # Check that overlapping non-zero elements match\n",
    "                both_nonzero = window_nonzero & pattern_nonzero\n",
    "                if not np.array_equal(window[both_nonzero], pattern[both_nonzero]): continue\n",
    "\n",
    "                # Count overlapping non-zero elements and only include non-zero overlaps\n",
    "                overlap_count = np.sum(both_nonzero)\n",
    "                if overlap_count > 0:\n",
    "                    matches.append((Vector(i=i, j=j), int(overlap_count)))\n",
    "\n",
    "        # Sort matches by overlap count if not exact matching\n",
    "        if match_type == 'exact': return matches\n",
    "        return sorted(matches, key=lambda x: x[1], reverse=True)\n",
    "\n",
    "    @staticmethod\n",
    "    def find_best_match(\n",
    "        target: np.ndarray,  # target array\n",
    "        pattern: np.ndarray,  # the pattern to align\n",
    "        match_type: str = 'exact'  # can be 'exact', 'allow_missing' or 'allow_extra'\n",
    "    ) -> Tuple[Vector, int]:  # tuple of (position, overlap_count)\n",
    "        \"\"\"Find the best matching position for the pattern in the target.\"\"\"\n",
    "        matches = PatternMatcher.find_matches(target, pattern, match_type)\n",
    "        return matches[0] if matches else (None, 0)\n",
    "\n",
    "    @staticmethod\n",
    "    def extract_matching_region(\n",
    "        target: np.ndarray,\n",
    "        pattern: np.ndarray,\n",
    "        position: Vector\n",
    "    ) -> np.ndarray:\n",
    "        \"\"\"Extract the region from the target that matches the pattern.\"\"\"\n",
    "        h, w = pattern.shape\n",
    "        i, j = position.i, position.j\n",
    "        return target[i:i+h, j:j+w].copy()"
   ]
  },
  {
   "attachments": {},
   "cell_type": "markdown",
   "id": "c1fa4845-651a-47c1-a895-757ad5fbe986",
   "metadata": {},
   "source": [
    "Often we have extracted a shape (as a subarray) from a grid and we need to find the positions of other identical shapes within a grid. Another common situation is that we have a partial shape and we need to align it with a full version of the shape in a grid. This class allows us to do that, sliding over the larger array and returning the position that maximises agreement between the subarray and the area of the larger array, e.g.:"
   ]
  },
  {
   "cell_type": "code",
   "execution_count": null,
   "id": "700ce86e-d99f-4cb2-8bd3-86fdf102234e",
   "metadata": {},
   "outputs": [
    {
     "data": {
      "text/markdown": [
       "---\n",
       "\n",
       "[source](https://github.com/agemoai/arcsolver/blob/main/arcsolver/ocm.py#L323){target=\"_blank\" style=\"float:right; font-size:smaller\"}\n",
       "\n",
       "### PatternMatcher.find_best_match\n",
       "\n",
       ">      PatternMatcher.find_best_match (target:numpy.ndarray,\n",
       ">                                      pattern:numpy.ndarray,\n",
       ">                                      match_type:str='exact')\n",
       "\n",
       "*Find the best matching position for the pattern in the target.*\n",
       "\n",
       "|    | **Type** | **Default** | **Details** |\n",
       "| -- | -------- | ----------- | ----------- |\n",
       "| target | ndarray |  | target array |\n",
       "| pattern | ndarray |  | the pattern to align |\n",
       "| match_type | str | exact | can be 'exact', 'allow_missing' or 'allow_extra' |\n",
       "| **Returns** | **Tuple** |  | **tuple of (position, overlap_count)** |"
      ],
      "text/plain": [
       "---\n",
       "\n",
       "[source](https://github.com/agemoai/arcsolver/blob/main/arcsolver/ocm.py#L323){target=\"_blank\" style=\"float:right; font-size:smaller\"}\n",
       "\n",
       "### PatternMatcher.find_best_match\n",
       "\n",
       ">      PatternMatcher.find_best_match (target:numpy.ndarray,\n",
       ">                                      pattern:numpy.ndarray,\n",
       ">                                      match_type:str='exact')\n",
       "\n",
       "*Find the best matching position for the pattern in the target.*\n",
       "\n",
       "|    | **Type** | **Default** | **Details** |\n",
       "| -- | -------- | ----------- | ----------- |\n",
       "| target | ndarray |  | target array |\n",
       "| pattern | ndarray |  | the pattern to align |\n",
       "| match_type | str | exact | can be 'exact', 'allow_missing' or 'allow_extra' |\n",
       "| **Returns** | **Tuple** |  | **tuple of (position, overlap_count)** |"
      ]
     },
     "execution_count": null,
     "metadata": {},
     "output_type": "execute_result"
    }
   ],
   "source": [
    "show_doc(PatternMatcher.find_best_match)"
   ]
  },
  {
   "cell_type": "code",
   "execution_count": null,
   "id": "52b1d33e-40df-4254-8511-618174abffa1",
   "metadata": {},
   "outputs": [],
   "source": [
    "#| export\n",
    "class EnclosureFiller:\n",
    "    'Fill areas of an array that are \"enclosed\" by cells of a given value'\n",
    "    @staticmethod\n",
    "    def fill_enclosures(mask: np.ndarray) -> np.ndarray:\n",
    "        \"\"\"Fill enclosed areas in the given mask that are surrounded by boundary_value.\"\"\"\n",
    "        # Convert mask to boolean if it is not already\n",
    "        mask = mask.astype(bool)\n",
    "        # Invert boundaries to mark enclosed areas as zeroes.\n",
    "        inverted_mask = ~mask\n",
    "        # Label connected components\n",
    "        labeled_array, _ = ndimage.label(inverted_mask)\n",
    "        # Create a copy of labeled_array but with zero labels at the border\n",
    "        border_mask = np.ones_like(labeled_array)\n",
    "        border_mask[0, :] = border_mask[-1, :] = border_mask[:, 0] = border_mask[:, -1] = 0\n",
    "        border_labels = np.unique(labeled_array * (1 - border_mask))\n",
    "        # Set non-border enclosed areas to True (fill them)\n",
    "        output_mask = np.isin(labeled_array, border_labels, invert=True)\n",
    "        return output_mask.astype(int)"
   ]
  },
  {
   "cell_type": "code",
   "execution_count": null,
   "id": "643e88c9-301c-4074-acb1-364149e1033f",
   "metadata": {},
   "outputs": [],
   "source": [
    "#| export\n",
    "class CyclicPattern(BaseModel):\n",
    "    \"\"\"\n",
    "    Identify, represent, and manipulate cyclic patterns in ARC task grids,\n",
    "    particularly for tasks involving pattern repetition and extension.\n",
    "    \"\"\"\n",
    "    data: np.ndarray\n",
    "    period: int\n",
    "    axis: int = Field(0, ge=0, le=1)\n",
    "\n",
    "    model_config = {\"arbitrary_types_allowed\": True}\n",
    "\n",
    "    @classmethod\n",
    "    def from_array(cls, arr: np.ndarray, axis: int = 0) -> 'CyclicPattern':\n",
    "        \"\"\"Create a CyclicPattern instance from a numpy array.\"\"\"\n",
    "        return cls(data=arr, period=cls.find_period(arr, axis), axis=axis)\n",
    "\n",
    "    @staticmethod\n",
    "    def find_period(arr: np.ndarray, axis: int = 0) -> int:\n",
    "        \"\"\"Find the smallest period along a specified axis of a NumPy array.\"\"\"\n",
    "        n = arr.shape[axis]\n",
    "        if n == 0: return 0  # Undefined period for empty axis\n",
    "\n",
    "        for p in range(1, n):\n",
    "            pattern = np.take(arr, indices=range(p), axis=axis)\n",
    "            repeats = int(np.ceil(n / p))\n",
    "            tiled = np.concatenate([pattern] * repeats, axis=axis)\n",
    "            slicer = [slice(None)] * arr.ndim\n",
    "            slicer[axis] = slice(0, n)\n",
    "            tiled = tiled[tuple(slicer)]\n",
    "\n",
    "            if np.array_equal(arr, tiled): return p\n",
    "\n",
    "        return n  # The entire axis if no smaller period is found\n",
    "\n",
    "    def extend(self, length: int) -> np.ndarray:\n",
    "        \"\"\"Extend the pattern to a specified length.\"\"\"\n",
    "        pattern = np.take(self.data, range(self.period), axis=self.axis)\n",
    "        repeats = [1] * self.data.ndim\n",
    "        repeats[self.axis] = length // self.period + 1\n",
    "        tiled = np.tile(pattern, repeats)\n",
    "        slices = [slice(None)] * self.data.ndim\n",
    "        slices[self.axis] = slice(length)\n",
    "        return tiled[tuple(slices)]\n",
    "\n",
    "    def to_array(self) -> np.ndarray:\n",
    "        \"\"\"Convert the cyclic pattern to a numpy array.\"\"\"\n",
    "        return self.data\n",
    "\n",
    "    def __len__(self) -> int:\n",
    "        \"\"\"Get the length of the pattern along its axis.\"\"\"\n",
    "        return self.data.shape[self.axis]"
   ]
  },
  {
   "cell_type": "code",
   "execution_count": null,
   "id": "1655a4bf-c2b1-447a-bff5-c1e3f970683f",
   "metadata": {},
   "outputs": [],
   "source": [
    "#| hide\n",
    "import nbdev; nbdev.nbdev_export()"
   ]
  },
  {
   "cell_type": "code",
   "execution_count": null,
   "id": "2631b0b0-1732-468f-a335-db057d55ec4a",
   "metadata": {},
   "outputs": [],
   "source": []
  }
 ],
 "metadata": {
  "kernelspec": {
   "display_name": "python3",
   "language": "python",
   "name": "python3"
  }
 },
 "nbformat": 4,
 "nbformat_minor": 5
}
